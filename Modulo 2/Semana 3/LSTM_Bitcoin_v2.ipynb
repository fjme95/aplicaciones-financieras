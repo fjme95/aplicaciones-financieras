{
  "nbformat": 4,
  "nbformat_minor": 0,
  "metadata": {
    "colab": {
      "name": "LSTM - Bitcoin v2.ipynb",
      "provenance": [],
      "collapsed_sections": [],
      "mount_file_id": "1xCBX_r8qxkJ-ssfynYhiQIC4sXWH_Dip",
      "authorship_tag": "ABX9TyMBM9wRqc/2x/D0e9snaPdF",
      "include_colab_link": true
    },
    "kernelspec": {
      "name": "python3",
      "display_name": "Python 3"
    },
    "language_info": {
      "name": "python"
    },
    "accelerator": "GPU"
  },
  "cells": [
    {
      "cell_type": "markdown",
      "metadata": {
        "id": "view-in-github",
        "colab_type": "text"
      },
      "source": [
        "<a href=\"https://colab.research.google.com/github/fjme95/aplicaciones-financieras/blob/main/Modulo%202/Semana%203/LSTM_Bitcoin_v2.ipynb\" target=\"_parent\"><img src=\"https://colab.research.google.com/assets/colab-badge.svg\" alt=\"Open In Colab\"/></a>"
      ]
    },
    {
      "cell_type": "markdown",
      "source": [
        "# Descripción del problema"
      ],
      "metadata": {
        "id": "6DuKgmeStDUT"
      }
    },
    {
      "cell_type": "markdown",
      "source": [
        "Datos originales: https://challengedata.ens.fr/participants/challenges/31/\n",
        "\n",
        "> The problem is a classification challenge that aims at building investment strategies on cryptocurrencies based on sentiment extracted from news and social networks.\n",
        "\n",
        "> For each trading hour we have counted the occurence of some terms like for example \"adoption\" or \"hack\" in a selected number of influential twitter accounts as in some forums like Bitcointalk. We have created 10 different themes, some positives and others negatives and we summed the counts of the words corresponding, before normalising them. For a given sample and a given theme we use the counts of each of the 48 last hours, we Z scored these counts, and we multiplied the result by the average hourly count during the period divided by the average hourly count during all the training period. For a theme T in timestamp i, with lag k ($k\\in[\\![0;47]\\!]$) the value F of the feature will be:\n",
        "\n",
        "$$\n",
        "F_{i,k}=\\frac{T_{i,k}-\\overline{T_{i}}}{\\sqrt{\\frac{1}{47}\\sum\\limits_{j=0}^{47}{(T_{i,j}-\\overline{T_{i}})^{2}}}}*\\frac{\\overline{T_i}}{\\overline{T}} \n",
        "$$\n",
        "\n",
        "> We added 5 features corresponding to the price return of the last hour, the last 6 hours, the last 12 hours, the last 24 hours and the last 48 hours normalised by the volatility during the 48 hours. The aim is to predict if the return of Bitcoin in the next hour will be more than 0.2%, between -0.2% and 0.2%, or less than -0.2%. The 0.2% level is the 66.7% percentile of the distribution.\n",
        "\n",
        "> The metric used for this problem is the logistic loss, defined as the negative log-likelyhood of the true labels given the classifier's predictions. The true labels are encoded as a 1-of-3 binary indicator matrix Y, ie $y_{i,k}=1'$ if sample i has label k taken from a set of 3 labels ( less than -0.2%, between -0.2% and +0.2%, more than 0.2%). For P a matrix of probability estimates with $p_{i,k}=Pr(t_{i,k}=1)'$ , the log loss function is defined as\n",
        "\n",
        "$$\n",
        "L_{log}(Y,P)=-log{Pr(Y|P)}=-\\frac{1}{N} \\sum_{i=1}^{N} \\sum_{k=1}^3{y_{i,k}log(p_{i,k})}\n",
        "$$\n",
        "\n",
        ">The lower the score, the better.\n",
        "\n"
      ],
      "metadata": {
        "id": "E454T2Z7s_Tb"
      }
    },
    {
      "cell_type": "markdown",
      "source": [
        "# Dependencias"
      ],
      "metadata": {
        "id": "I1za57pz8Mkz"
      }
    },
    {
      "cell_type": "code",
      "source": [
        "!pip install -U plotly"
      ],
      "metadata": {
        "colab": {
          "base_uri": "https://localhost:8080/"
        },
        "id": "tIthEMHkPBww",
        "outputId": "aaf39b1b-28e1-47d0-d61f-f9f40b35e36b"
      },
      "execution_count": null,
      "outputs": [
        {
          "output_type": "stream",
          "name": "stdout",
          "text": [
            "Requirement already satisfied: plotly in /usr/local/lib/python3.7/dist-packages (4.4.1)\n",
            "Collecting plotly\n",
            "  Downloading plotly-5.5.0-py2.py3-none-any.whl (26.5 MB)\n",
            "\u001b[K     |████████████████████████████████| 26.5 MB 1.6 MB/s \n",
            "\u001b[?25hCollecting tenacity>=6.2.0\n",
            "  Downloading tenacity-8.0.1-py3-none-any.whl (24 kB)\n",
            "Requirement already satisfied: six in /usr/local/lib/python3.7/dist-packages (from plotly) (1.15.0)\n",
            "Installing collected packages: tenacity, plotly\n",
            "  Attempting uninstall: plotly\n",
            "    Found existing installation: plotly 4.4.1\n",
            "    Uninstalling plotly-4.4.1:\n",
            "      Successfully uninstalled plotly-4.4.1\n",
            "Successfully installed plotly-5.5.0 tenacity-8.0.1\n"
          ]
        }
      ]
    },
    {
      "cell_type": "code",
      "metadata": {
        "id": "b9Ifan8XrfuZ"
      },
      "source": [
        "import pandas as pd\n",
        "import numpy as np\n",
        "\n",
        "from sklearn.model_selection import train_test_split\n",
        "\n",
        "import tensorflow as tf\n",
        "from tensorflow import keras\n",
        "from keras import layers\n",
        "\n",
        "import plotly.graph_objects as go"
      ],
      "execution_count": null,
      "outputs": []
    },
    {
      "cell_type": "markdown",
      "source": [
        "# Funciones"
      ],
      "metadata": {
        "id": "sqFcegOL8N7w"
      }
    },
    {
      "cell_type": "code",
      "source": [
        "def evaluate_model(estimator, train, val, test):\n",
        "    print('train cross_entropy = ', estimator.evaluate(train[0], train[1], verbose = False))\n",
        "    print('  val cross_entropy = ', estimator.evaluate(val[0], val[1], verbose = False))\n",
        "    print(' test cross_entropy = ', estimator.evaluate(test[0], test[1], verbose = False))"
      ],
      "metadata": {
        "id": "Mv_00PdK2Wnx"
      },
      "execution_count": null,
      "outputs": []
    },
    {
      "cell_type": "code",
      "source": [
        "# TODO: Modificar para seleccionar características cambiando n_features, no sólo las primeras n_features\n",
        "# TODO: Revisar los resultados generados cuando se seleccionan distintos parámetros\n",
        "# NOTE: Asume que el dataframe tiene 5 X, y 48 columnas para cada una de las 10 I ordenadas de reciente a antigua\n",
        "def transform_dataframe(df, len_prices = 5, n_features = 10, len_features = 48):\n",
        "    if type(len_prices) != int or type(n_features) != int or type(len_features) != int:\n",
        "        raise ValueError(f'Los parámetros len_prices, n_features y len_features deben ser de tipo int. Recibibo {type(len_prices)},{type(n_features)} y {type(len_features)}')\n",
        "\n",
        "    assert 0 < len_prices <= 5, 'len_prices debe estar entre 1 y 5'\n",
        "    assert 0 < n_features <= 10, 'n_features debe estar entre 1 y 10'\n",
        "    assert 0 < len_features <= 48, 'len_features debe estar entre 1 y 48'\n",
        "\n",
        "    df.reset_index(inplace = True, drop = True)\n",
        "    \n",
        "    # Los nombres de las columnas están al reves para tener primer la observación más antigua\n",
        "    prices_cols = ['X5', 'X4', 'X3', 'X2', 'X1']\n",
        "\n",
        "    prices = np.zeros((len(df), len_prices, 1))\n",
        "    features = np.zeros((len(df), len_features, n_features))\n",
        "\n",
        "    for i in range(len(df)):\n",
        "        # Se transforman la forma de los precios\n",
        "        prices[i] = df.loc[i, prices_cols[-len_prices:]].values.reshape((len_prices, 1))\n",
        "        # Para cada característica\n",
        "        for j in range(n_features):\n",
        "            # Se obtiene los 48 rezagos y se voltea el arreglo para tener el más antiguo primero\n",
        "            # Aquí se aplica el supuesto de que el dataframe tiene 5 columnas de 5\n",
        "            features[i, :, j] = np.flip(df.iloc[i, 5+48*j:5+len_features + 48*j].values)\n",
        "    return prices, features"
      ],
      "metadata": {
        "id": "pZ-N7rf_9HJk"
      },
      "execution_count": null,
      "outputs": []
    },
    {
      "cell_type": "markdown",
      "source": [
        "# Datos"
      ],
      "metadata": {
        "id": "JLD6rDL68Psn"
      }
    },
    {
      "cell_type": "markdown",
      "source": [
        "> The Input data contains 10 time series of 48 trading hours representing complementary features based on sentiment analysis from news extracted from twitter or forums like Bitcointalk on Bitcoin, and 5 time series based on the variation of Bitcoin price during the past 1, 6, 12, 24 and 48 hours normalised by volatility during the period. Input data, for training and testing, will be given by a .csv file, whose first line contains the header. Then each line corresponds to a sample, each column to a feature. The features are the following:\n",
        "\n",
        ">- ***ID***: Id of the sample which is linked to the ID of the output file;\n",
        "- ***I_1_lag(k)*** to ***I_10_lag(k)***: Values of Indicators *I_1* to *I_10* for each k lag ($k\\in[\\![0;47]\\!]$) representing the normalized value of Indicators *I_1* to *I_10* each hour of the past 48 trading hours;\n",
        "- ***X_1*** to ***X_5***: Values of 5 normalised indicators representing price variation of Bitcoin on the last 1, 6, 12, 24 and 48 hours.\n",
        "\n",
        "> There will be 14 000 samples for the train set and 5 000 for the test set. For a given sample, the time series (for the 10 sentiment indicators) are given over the same 48 trading hours.\n",
        "\n",
        ">The training outputs are given in a .csv file. Each line corresponds to a sample:\n",
        "\n",
        ">- ***ID***: Id of the sample;\n",
        "- ***Target_-1***: classification of the return of Bitcoin in the next hour. -1 signifies a down move of less than -0.2%;\n",
        "- ***Target_0***: classification of the return of Bitcoin in the next hour. 0 signifies a move between -0.2% and 0.2%;\n",
        "- ***Target_1***: classification of the return of Bitcoin in the next hour. 1 signifies a up move of more than 0.2%.\n",
        "\n"
      ],
      "metadata": {
        "id": "XT_-69IHrvk1"
      }
    },
    {
      "cell_type": "code",
      "metadata": {
        "id": "TvMBrGVSj-X6",
        "colab": {
          "base_uri": "https://localhost:8080/"
        },
        "outputId": "c6b26346-7140-4408-fce2-e21b406640c4"
      },
      "source": [
        "!gdown --id 1ChInKWKRi_jzyILWD3jQfL76RJI6E0TC\n",
        "!gdown --id 1TCrtZYQEA1srivYLgH4hch29W4rn7z93"
      ],
      "execution_count": null,
      "outputs": [
        {
          "output_type": "stream",
          "name": "stdout",
          "text": [
            "Downloading...\n",
            "From: https://drive.google.com/uc?id=1ChInKWKRi_jzyILWD3jQfL76RJI6E0TC\n",
            "To: /content/output_training_F2dZW38.csv\n",
            "100% 171k/171k [00:00<00:00, 59.5MB/s]\n",
            "Downloading...\n",
            "From: https://drive.google.com/uc?id=1TCrtZYQEA1srivYLgH4hch29W4rn7z93\n",
            "To: /content/input_training_IrTAw7w.csv\n",
            "100% 84.7M/84.7M [00:00<00:00, 103MB/s] \n"
          ]
        }
      ]
    },
    {
      "cell_type": "code",
      "source": [
        "X_raw = pd.read_csv('/content/input_training_IrTAw7w.csv').set_index('ID')\n",
        "X_raw"
      ],
      "metadata": {
        "id": "x20PPm-uf29p",
        "colab": {
          "base_uri": "https://localhost:8080/",
          "height": 519
        },
        "outputId": "bc6456fb-62da-4418-f1fe-664b6ba4433a"
      },
      "execution_count": null,
      "outputs": [
        {
          "output_type": "execute_result",
          "data": {
            "text/html": [
              "\n",
              "  <div id=\"df-9ad54f73-d5d9-4a66-8708-e79ccc68cdba\">\n",
              "    <div class=\"colab-df-container\">\n",
              "      <div>\n",
              "<style scoped>\n",
              "    .dataframe tbody tr th:only-of-type {\n",
              "        vertical-align: middle;\n",
              "    }\n",
              "\n",
              "    .dataframe tbody tr th {\n",
              "        vertical-align: top;\n",
              "    }\n",
              "\n",
              "    .dataframe thead th {\n",
              "        text-align: right;\n",
              "    }\n",
              "</style>\n",
              "<table border=\"1\" class=\"dataframe\">\n",
              "  <thead>\n",
              "    <tr style=\"text-align: right;\">\n",
              "      <th></th>\n",
              "      <th>X1</th>\n",
              "      <th>X2</th>\n",
              "      <th>X3</th>\n",
              "      <th>X4</th>\n",
              "      <th>X5</th>\n",
              "      <th>I1_lag0</th>\n",
              "      <th>I1_lag1</th>\n",
              "      <th>I1_lag2</th>\n",
              "      <th>I1_lag3</th>\n",
              "      <th>I1_lag4</th>\n",
              "      <th>I1_lag5</th>\n",
              "      <th>I1_lag6</th>\n",
              "      <th>I1_lag7</th>\n",
              "      <th>I1_lag8</th>\n",
              "      <th>I1_lag9</th>\n",
              "      <th>I1_lag10</th>\n",
              "      <th>I1_lag11</th>\n",
              "      <th>I1_lag12</th>\n",
              "      <th>I1_lag13</th>\n",
              "      <th>I1_lag14</th>\n",
              "      <th>I1_lag15</th>\n",
              "      <th>I1_lag16</th>\n",
              "      <th>I1_lag17</th>\n",
              "      <th>I1_lag18</th>\n",
              "      <th>I1_lag19</th>\n",
              "      <th>I1_lag20</th>\n",
              "      <th>I1_lag21</th>\n",
              "      <th>I1_lag22</th>\n",
              "      <th>I1_lag23</th>\n",
              "      <th>I1_lag24</th>\n",
              "      <th>I1_lag25</th>\n",
              "      <th>I1_lag26</th>\n",
              "      <th>I1_lag27</th>\n",
              "      <th>I1_lag28</th>\n",
              "      <th>I1_lag29</th>\n",
              "      <th>I1_lag30</th>\n",
              "      <th>I1_lag31</th>\n",
              "      <th>I1_lag32</th>\n",
              "      <th>I1_lag33</th>\n",
              "      <th>I1_lag34</th>\n",
              "      <th>...</th>\n",
              "      <th>I10_lag8</th>\n",
              "      <th>I10_lag9</th>\n",
              "      <th>I10_lag10</th>\n",
              "      <th>I10_lag11</th>\n",
              "      <th>I10_lag12</th>\n",
              "      <th>I10_lag13</th>\n",
              "      <th>I10_lag14</th>\n",
              "      <th>I10_lag15</th>\n",
              "      <th>I10_lag16</th>\n",
              "      <th>I10_lag17</th>\n",
              "      <th>I10_lag18</th>\n",
              "      <th>I10_lag19</th>\n",
              "      <th>I10_lag20</th>\n",
              "      <th>I10_lag21</th>\n",
              "      <th>I10_lag22</th>\n",
              "      <th>I10_lag23</th>\n",
              "      <th>I10_lag24</th>\n",
              "      <th>I10_lag25</th>\n",
              "      <th>I10_lag26</th>\n",
              "      <th>I10_lag27</th>\n",
              "      <th>I10_lag28</th>\n",
              "      <th>I10_lag29</th>\n",
              "      <th>I10_lag30</th>\n",
              "      <th>I10_lag31</th>\n",
              "      <th>I10_lag32</th>\n",
              "      <th>I10_lag33</th>\n",
              "      <th>I10_lag34</th>\n",
              "      <th>I10_lag35</th>\n",
              "      <th>I10_lag36</th>\n",
              "      <th>I10_lag37</th>\n",
              "      <th>I10_lag38</th>\n",
              "      <th>I10_lag39</th>\n",
              "      <th>I10_lag40</th>\n",
              "      <th>I10_lag41</th>\n",
              "      <th>I10_lag42</th>\n",
              "      <th>I10_lag43</th>\n",
              "      <th>I10_lag44</th>\n",
              "      <th>I10_lag45</th>\n",
              "      <th>I10_lag46</th>\n",
              "      <th>I10_lag47</th>\n",
              "    </tr>\n",
              "    <tr>\n",
              "      <th>ID</th>\n",
              "      <th></th>\n",
              "      <th></th>\n",
              "      <th></th>\n",
              "      <th></th>\n",
              "      <th></th>\n",
              "      <th></th>\n",
              "      <th></th>\n",
              "      <th></th>\n",
              "      <th></th>\n",
              "      <th></th>\n",
              "      <th></th>\n",
              "      <th></th>\n",
              "      <th></th>\n",
              "      <th></th>\n",
              "      <th></th>\n",
              "      <th></th>\n",
              "      <th></th>\n",
              "      <th></th>\n",
              "      <th></th>\n",
              "      <th></th>\n",
              "      <th></th>\n",
              "      <th></th>\n",
              "      <th></th>\n",
              "      <th></th>\n",
              "      <th></th>\n",
              "      <th></th>\n",
              "      <th></th>\n",
              "      <th></th>\n",
              "      <th></th>\n",
              "      <th></th>\n",
              "      <th></th>\n",
              "      <th></th>\n",
              "      <th></th>\n",
              "      <th></th>\n",
              "      <th></th>\n",
              "      <th></th>\n",
              "      <th></th>\n",
              "      <th></th>\n",
              "      <th></th>\n",
              "      <th></th>\n",
              "      <th></th>\n",
              "      <th></th>\n",
              "      <th></th>\n",
              "      <th></th>\n",
              "      <th></th>\n",
              "      <th></th>\n",
              "      <th></th>\n",
              "      <th></th>\n",
              "      <th></th>\n",
              "      <th></th>\n",
              "      <th></th>\n",
              "      <th></th>\n",
              "      <th></th>\n",
              "      <th></th>\n",
              "      <th></th>\n",
              "      <th></th>\n",
              "      <th></th>\n",
              "      <th></th>\n",
              "      <th></th>\n",
              "      <th></th>\n",
              "      <th></th>\n",
              "      <th></th>\n",
              "      <th></th>\n",
              "      <th></th>\n",
              "      <th></th>\n",
              "      <th></th>\n",
              "      <th></th>\n",
              "      <th></th>\n",
              "      <th></th>\n",
              "      <th></th>\n",
              "      <th></th>\n",
              "      <th></th>\n",
              "      <th></th>\n",
              "      <th></th>\n",
              "      <th></th>\n",
              "      <th></th>\n",
              "      <th></th>\n",
              "      <th></th>\n",
              "      <th></th>\n",
              "      <th></th>\n",
              "      <th></th>\n",
              "    </tr>\n",
              "  </thead>\n",
              "  <tbody>\n",
              "    <tr>\n",
              "      <th>0</th>\n",
              "      <td>0.460020</td>\n",
              "      <td>0.620360</td>\n",
              "      <td>-0.972192</td>\n",
              "      <td>2.745197</td>\n",
              "      <td>4.177783</td>\n",
              "      <td>2.325865</td>\n",
              "      <td>2.060138</td>\n",
              "      <td>0.071162</td>\n",
              "      <td>2.360597</td>\n",
              "      <td>-0.611526</td>\n",
              "      <td>-0.474029</td>\n",
              "      <td>1.380300</td>\n",
              "      <td>0.160847</td>\n",
              "      <td>1.101279</td>\n",
              "      <td>-1.064275</td>\n",
              "      <td>0.247346</td>\n",
              "      <td>-1.570320</td>\n",
              "      <td>0.490027</td>\n",
              "      <td>-0.621964</td>\n",
              "      <td>-1.221890</td>\n",
              "      <td>-0.732714</td>\n",
              "      <td>-0.078984</td>\n",
              "      <td>0.061406</td>\n",
              "      <td>0.221455</td>\n",
              "      <td>-0.355269</td>\n",
              "      <td>0.078437</td>\n",
              "      <td>0.976421</td>\n",
              "      <td>0.071217</td>\n",
              "      <td>-0.303876</td>\n",
              "      <td>1.760369</td>\n",
              "      <td>0.209699</td>\n",
              "      <td>1.055768</td>\n",
              "      <td>1.551331</td>\n",
              "      <td>-0.377121</td>\n",
              "      <td>-0.703104</td>\n",
              "      <td>-1.078121</td>\n",
              "      <td>-1.084246</td>\n",
              "      <td>0.907088</td>\n",
              "      <td>0.251208</td>\n",
              "      <td>-0.841226</td>\n",
              "      <td>...</td>\n",
              "      <td>-0.637173</td>\n",
              "      <td>-0.513893</td>\n",
              "      <td>0.015092</td>\n",
              "      <td>-0.429889</td>\n",
              "      <td>-0.462246</td>\n",
              "      <td>-0.605788</td>\n",
              "      <td>-0.065968</td>\n",
              "      <td>-0.310555</td>\n",
              "      <td>-0.427917</td>\n",
              "      <td>0.017064</td>\n",
              "      <td>0.268322</td>\n",
              "      <td>-0.135628</td>\n",
              "      <td>0.164521</td>\n",
              "      <td>1.230382</td>\n",
              "      <td>0.475606</td>\n",
              "      <td>1.819093</td>\n",
              "      <td>1.457144</td>\n",
              "      <td>0.272268</td>\n",
              "      <td>0.342204</td>\n",
              "      <td>-0.063995</td>\n",
              "      <td>-0.179603</td>\n",
              "      <td>-0.605788</td>\n",
              "      <td>-0.256935</td>\n",
              "      <td>-0.194165</td>\n",
              "      <td>-0.309554</td>\n",
              "      <td>-0.322650</td>\n",
              "      <td>-0.530428</td>\n",
              "      <td>-0.474835</td>\n",
              "      <td>-0.681148</td>\n",
              "      <td>-0.311526</td>\n",
              "      <td>-0.342912</td>\n",
              "      <td>-0.194165</td>\n",
              "      <td>0.122331</td>\n",
              "      <td>0.028682</td>\n",
              "      <td>-0.093626</td>\n",
              "      <td>-0.559840</td>\n",
              "      <td>0.562584</td>\n",
              "      <td>-0.557868</td>\n",
              "      <td>1.424906</td>\n",
              "      <td>-0.016294</td>\n",
              "    </tr>\n",
              "    <tr>\n",
              "      <th>1</th>\n",
              "      <td>-0.347872</td>\n",
              "      <td>-2.199925</td>\n",
              "      <td>-0.222026</td>\n",
              "      <td>3.741888</td>\n",
              "      <td>8.608291</td>\n",
              "      <td>-4.091293</td>\n",
              "      <td>-3.502499</td>\n",
              "      <td>-1.463631</td>\n",
              "      <td>0.383153</td>\n",
              "      <td>-3.669962</td>\n",
              "      <td>-2.118337</td>\n",
              "      <td>-0.933734</td>\n",
              "      <td>0.279289</td>\n",
              "      <td>-2.170922</td>\n",
              "      <td>-0.578250</td>\n",
              "      <td>1.221512</td>\n",
              "      <td>1.469743</td>\n",
              "      <td>2.237671</td>\n",
              "      <td>1.145432</td>\n",
              "      <td>3.997874</td>\n",
              "      <td>0.425221</td>\n",
              "      <td>-1.448649</td>\n",
              "      <td>-1.544079</td>\n",
              "      <td>-1.697530</td>\n",
              "      <td>-2.300471</td>\n",
              "      <td>-0.326959</td>\n",
              "      <td>-2.621576</td>\n",
              "      <td>-1.438986</td>\n",
              "      <td>-3.016570</td>\n",
              "      <td>-3.307165</td>\n",
              "      <td>-1.890347</td>\n",
              "      <td>-1.933800</td>\n",
              "      <td>-2.355512</td>\n",
              "      <td>-1.368035</td>\n",
              "      <td>3.060146</td>\n",
              "      <td>2.400343</td>\n",
              "      <td>-0.887212</td>\n",
              "      <td>-0.574003</td>\n",
              "      <td>3.272423</td>\n",
              "      <td>1.969621</td>\n",
              "      <td>...</td>\n",
              "      <td>1.519025</td>\n",
              "      <td>-0.100023</td>\n",
              "      <td>1.318612</td>\n",
              "      <td>-1.769285</td>\n",
              "      <td>-0.099151</td>\n",
              "      <td>-0.742011</td>\n",
              "      <td>-0.764704</td>\n",
              "      <td>3.114075</td>\n",
              "      <td>-0.768659</td>\n",
              "      <td>-1.888611</td>\n",
              "      <td>-4.173557</td>\n",
              "      <td>-1.500642</td>\n",
              "      <td>-1.281869</td>\n",
              "      <td>-0.307040</td>\n",
              "      <td>0.484154</td>\n",
              "      <td>0.513884</td>\n",
              "      <td>-1.375002</td>\n",
              "      <td>0.700223</td>\n",
              "      <td>2.471160</td>\n",
              "      <td>-0.529024</td>\n",
              "      <td>-3.761279</td>\n",
              "      <td>-1.292754</td>\n",
              "      <td>2.304832</td>\n",
              "      <td>1.712529</td>\n",
              "      <td>1.879730</td>\n",
              "      <td>2.607232</td>\n",
              "      <td>4.955086</td>\n",
              "      <td>3.848342</td>\n",
              "      <td>3.056587</td>\n",
              "      <td>0.446149</td>\n",
              "      <td>1.261341</td>\n",
              "      <td>-0.082428</td>\n",
              "      <td>-1.035813</td>\n",
              "      <td>-0.249607</td>\n",
              "      <td>-0.971215</td>\n",
              "      <td>-0.058408</td>\n",
              "      <td>1.460632</td>\n",
              "      <td>-0.653394</td>\n",
              "      <td>-1.743487</td>\n",
              "      <td>4.065305</td>\n",
              "    </tr>\n",
              "    <tr>\n",
              "      <th>2</th>\n",
              "      <td>-2.152963</td>\n",
              "      <td>-0.432461</td>\n",
              "      <td>1.619057</td>\n",
              "      <td>-0.003912</td>\n",
              "      <td>3.870262</td>\n",
              "      <td>-0.598858</td>\n",
              "      <td>-0.412391</td>\n",
              "      <td>-0.765354</td>\n",
              "      <td>-0.998152</td>\n",
              "      <td>-0.938755</td>\n",
              "      <td>-0.890084</td>\n",
              "      <td>-0.435971</td>\n",
              "      <td>-0.589324</td>\n",
              "      <td>-1.261406</td>\n",
              "      <td>-1.702031</td>\n",
              "      <td>-0.749754</td>\n",
              "      <td>-0.935591</td>\n",
              "      <td>-0.539690</td>\n",
              "      <td>-0.281132</td>\n",
              "      <td>-0.106126</td>\n",
              "      <td>-0.131812</td>\n",
              "      <td>1.365607</td>\n",
              "      <td>-0.247970</td>\n",
              "      <td>-0.618311</td>\n",
              "      <td>0.455266</td>\n",
              "      <td>-0.493096</td>\n",
              "      <td>0.019743</td>\n",
              "      <td>1.187119</td>\n",
              "      <td>2.071983</td>\n",
              "      <td>-0.242272</td>\n",
              "      <td>0.949171</td>\n",
              "      <td>0.478886</td>\n",
              "      <td>-0.528869</td>\n",
              "      <td>-0.723906</td>\n",
              "      <td>-0.486781</td>\n",
              "      <td>-0.552184</td>\n",
              "      <td>-0.777914</td>\n",
              "      <td>0.479526</td>\n",
              "      <td>-0.247711</td>\n",
              "      <td>-0.133604</td>\n",
              "      <td>...</td>\n",
              "      <td>-0.831661</td>\n",
              "      <td>-1.022850</td>\n",
              "      <td>-1.036608</td>\n",
              "      <td>-0.844501</td>\n",
              "      <td>-0.474288</td>\n",
              "      <td>-1.024714</td>\n",
              "      <td>-0.910107</td>\n",
              "      <td>-0.615287</td>\n",
              "      <td>-0.147307</td>\n",
              "      <td>-0.702378</td>\n",
              "      <td>-0.778221</td>\n",
              "      <td>0.429250</td>\n",
              "      <td>-0.189770</td>\n",
              "      <td>0.168520</td>\n",
              "      <td>0.351721</td>\n",
              "      <td>0.702135</td>\n",
              "      <td>-0.492046</td>\n",
              "      <td>0.513999</td>\n",
              "      <td>-0.262831</td>\n",
              "      <td>0.355271</td>\n",
              "      <td>-0.377906</td>\n",
              "      <td>-0.099897</td>\n",
              "      <td>-0.106679</td>\n",
              "      <td>-0.430878</td>\n",
              "      <td>-0.735757</td>\n",
              "      <td>-0.186989</td>\n",
              "      <td>-0.117655</td>\n",
              "      <td>-0.939759</td>\n",
              "      <td>0.238060</td>\n",
              "      <td>-0.352254</td>\n",
              "      <td>2.245204</td>\n",
              "      <td>3.002347</td>\n",
              "      <td>2.674186</td>\n",
              "      <td>2.656251</td>\n",
              "      <td>1.062974</td>\n",
              "      <td>-0.484619</td>\n",
              "      <td>-0.044594</td>\n",
              "      <td>1.579731</td>\n",
              "      <td>0.962836</td>\n",
              "      <td>1.146983</td>\n",
              "    </tr>\n",
              "    <tr>\n",
              "      <th>3</th>\n",
              "      <td>-1.827669</td>\n",
              "      <td>-1.881770</td>\n",
              "      <td>-4.214322</td>\n",
              "      <td>0.178225</td>\n",
              "      <td>0.992362</td>\n",
              "      <td>0.383757</td>\n",
              "      <td>2.512478</td>\n",
              "      <td>-0.383434</td>\n",
              "      <td>-0.208506</td>\n",
              "      <td>-1.104289</td>\n",
              "      <td>-1.055666</td>\n",
              "      <td>-1.792361</td>\n",
              "      <td>-1.313026</td>\n",
              "      <td>-1.183724</td>\n",
              "      <td>-2.461788</td>\n",
              "      <td>-1.905122</td>\n",
              "      <td>-2.562135</td>\n",
              "      <td>-1.307096</td>\n",
              "      <td>-0.598499</td>\n",
              "      <td>-2.498382</td>\n",
              "      <td>-3.018896</td>\n",
              "      <td>-2.769343</td>\n",
              "      <td>0.975802</td>\n",
              "      <td>1.980034</td>\n",
              "      <td>1.178934</td>\n",
              "      <td>1.533094</td>\n",
              "      <td>0.321730</td>\n",
              "      <td>0.999047</td>\n",
              "      <td>3.888724</td>\n",
              "      <td>3.225654</td>\n",
              "      <td>1.950678</td>\n",
              "      <td>2.240602</td>\n",
              "      <td>1.731966</td>\n",
              "      <td>1.678903</td>\n",
              "      <td>0.843741</td>\n",
              "      <td>-1.604130</td>\n",
              "      <td>0.207124</td>\n",
              "      <td>0.554533</td>\n",
              "      <td>-0.589924</td>\n",
              "      <td>1.096136</td>\n",
              "      <td>...</td>\n",
              "      <td>-2.773947</td>\n",
              "      <td>-2.241666</td>\n",
              "      <td>-0.501592</td>\n",
              "      <td>-3.224021</td>\n",
              "      <td>-0.692138</td>\n",
              "      <td>-1.462365</td>\n",
              "      <td>-1.964202</td>\n",
              "      <td>-0.243791</td>\n",
              "      <td>-1.411816</td>\n",
              "      <td>-1.045186</td>\n",
              "      <td>0.742529</td>\n",
              "      <td>1.240860</td>\n",
              "      <td>-0.149391</td>\n",
              "      <td>-0.430394</td>\n",
              "      <td>4.077533</td>\n",
              "      <td>2.034854</td>\n",
              "      <td>-0.604751</td>\n",
              "      <td>3.734104</td>\n",
              "      <td>0.801305</td>\n",
              "      <td>1.352424</td>\n",
              "      <td>-1.391221</td>\n",
              "      <td>-0.497520</td>\n",
              "      <td>-0.236622</td>\n",
              "      <td>-1.053379</td>\n",
              "      <td>0.706517</td>\n",
              "      <td>-1.464426</td>\n",
              "      <td>0.517342</td>\n",
              "      <td>-1.106200</td>\n",
              "      <td>-0.248532</td>\n",
              "      <td>-1.879933</td>\n",
              "      <td>1.383203</td>\n",
              "      <td>-1.338892</td>\n",
              "      <td>0.298076</td>\n",
              "      <td>1.808275</td>\n",
              "      <td>2.837975</td>\n",
              "      <td>2.054112</td>\n",
              "      <td>0.741138</td>\n",
              "      <td>1.701911</td>\n",
              "      <td>0.110082</td>\n",
              "      <td>0.114980</td>\n",
              "    </tr>\n",
              "    <tr>\n",
              "      <th>4</th>\n",
              "      <td>0.748761</td>\n",
              "      <td>1.799939</td>\n",
              "      <td>1.561006</td>\n",
              "      <td>5.204120</td>\n",
              "      <td>2.161637</td>\n",
              "      <td>-1.275226</td>\n",
              "      <td>-1.544131</td>\n",
              "      <td>-1.802590</td>\n",
              "      <td>-1.128526</td>\n",
              "      <td>-0.469835</td>\n",
              "      <td>-1.033174</td>\n",
              "      <td>-1.132530</td>\n",
              "      <td>0.673757</td>\n",
              "      <td>-0.899913</td>\n",
              "      <td>-0.816432</td>\n",
              "      <td>-1.440545</td>\n",
              "      <td>-1.497806</td>\n",
              "      <td>-1.138407</td>\n",
              "      <td>-0.183933</td>\n",
              "      <td>-0.660791</td>\n",
              "      <td>-0.711956</td>\n",
              "      <td>0.714628</td>\n",
              "      <td>4.871688</td>\n",
              "      <td>-0.042748</td>\n",
              "      <td>-1.503624</td>\n",
              "      <td>-1.268362</td>\n",
              "      <td>-0.969331</td>\n",
              "      <td>-2.073174</td>\n",
              "      <td>0.351939</td>\n",
              "      <td>-1.693256</td>\n",
              "      <td>-2.212145</td>\n",
              "      <td>-0.505768</td>\n",
              "      <td>-0.510554</td>\n",
              "      <td>-1.653098</td>\n",
              "      <td>-0.387505</td>\n",
              "      <td>-0.552632</td>\n",
              "      <td>0.696046</td>\n",
              "      <td>0.178855</td>\n",
              "      <td>-0.242875</td>\n",
              "      <td>2.173854</td>\n",
              "      <td>...</td>\n",
              "      <td>-1.745087</td>\n",
              "      <td>1.008329</td>\n",
              "      <td>0.166055</td>\n",
              "      <td>0.001563</td>\n",
              "      <td>-1.269755</td>\n",
              "      <td>-0.154650</td>\n",
              "      <td>0.210885</td>\n",
              "      <td>-0.228342</td>\n",
              "      <td>-0.544256</td>\n",
              "      <td>0.252279</td>\n",
              "      <td>-0.874861</td>\n",
              "      <td>0.339199</td>\n",
              "      <td>0.208643</td>\n",
              "      <td>0.142197</td>\n",
              "      <td>-1.230372</td>\n",
              "      <td>-1.242745</td>\n",
              "      <td>-0.220400</td>\n",
              "      <td>-0.038425</td>\n",
              "      <td>-1.772985</td>\n",
              "      <td>0.181580</td>\n",
              "      <td>-0.813205</td>\n",
              "      <td>1.301634</td>\n",
              "      <td>1.727630</td>\n",
              "      <td>0.530396</td>\n",
              "      <td>1.859434</td>\n",
              "      <td>-0.496381</td>\n",
              "      <td>-0.041576</td>\n",
              "      <td>-0.925032</td>\n",
              "      <td>0.739380</td>\n",
              "      <td>2.279255</td>\n",
              "      <td>-0.477313</td>\n",
              "      <td>0.742923</td>\n",
              "      <td>-0.273225</td>\n",
              "      <td>1.311015</td>\n",
              "      <td>0.744330</td>\n",
              "      <td>2.914322</td>\n",
              "      <td>1.030602</td>\n",
              "      <td>0.480722</td>\n",
              "      <td>-0.492838</td>\n",
              "      <td>1.377958</td>\n",
              "    </tr>\n",
              "    <tr>\n",
              "      <th>...</th>\n",
              "      <td>...</td>\n",
              "      <td>...</td>\n",
              "      <td>...</td>\n",
              "      <td>...</td>\n",
              "      <td>...</td>\n",
              "      <td>...</td>\n",
              "      <td>...</td>\n",
              "      <td>...</td>\n",
              "      <td>...</td>\n",
              "      <td>...</td>\n",
              "      <td>...</td>\n",
              "      <td>...</td>\n",
              "      <td>...</td>\n",
              "      <td>...</td>\n",
              "      <td>...</td>\n",
              "      <td>...</td>\n",
              "      <td>...</td>\n",
              "      <td>...</td>\n",
              "      <td>...</td>\n",
              "      <td>...</td>\n",
              "      <td>...</td>\n",
              "      <td>...</td>\n",
              "      <td>...</td>\n",
              "      <td>...</td>\n",
              "      <td>...</td>\n",
              "      <td>...</td>\n",
              "      <td>...</td>\n",
              "      <td>...</td>\n",
              "      <td>...</td>\n",
              "      <td>...</td>\n",
              "      <td>...</td>\n",
              "      <td>...</td>\n",
              "      <td>...</td>\n",
              "      <td>...</td>\n",
              "      <td>...</td>\n",
              "      <td>...</td>\n",
              "      <td>...</td>\n",
              "      <td>...</td>\n",
              "      <td>...</td>\n",
              "      <td>...</td>\n",
              "      <td>...</td>\n",
              "      <td>...</td>\n",
              "      <td>...</td>\n",
              "      <td>...</td>\n",
              "      <td>...</td>\n",
              "      <td>...</td>\n",
              "      <td>...</td>\n",
              "      <td>...</td>\n",
              "      <td>...</td>\n",
              "      <td>...</td>\n",
              "      <td>...</td>\n",
              "      <td>...</td>\n",
              "      <td>...</td>\n",
              "      <td>...</td>\n",
              "      <td>...</td>\n",
              "      <td>...</td>\n",
              "      <td>...</td>\n",
              "      <td>...</td>\n",
              "      <td>...</td>\n",
              "      <td>...</td>\n",
              "      <td>...</td>\n",
              "      <td>...</td>\n",
              "      <td>...</td>\n",
              "      <td>...</td>\n",
              "      <td>...</td>\n",
              "      <td>...</td>\n",
              "      <td>...</td>\n",
              "      <td>...</td>\n",
              "      <td>...</td>\n",
              "      <td>...</td>\n",
              "      <td>...</td>\n",
              "      <td>...</td>\n",
              "      <td>...</td>\n",
              "      <td>...</td>\n",
              "      <td>...</td>\n",
              "      <td>...</td>\n",
              "      <td>...</td>\n",
              "      <td>...</td>\n",
              "      <td>...</td>\n",
              "      <td>...</td>\n",
              "      <td>...</td>\n",
              "    </tr>\n",
              "    <tr>\n",
              "      <th>13995</th>\n",
              "      <td>-0.074522</td>\n",
              "      <td>-0.472044</td>\n",
              "      <td>-2.860659</td>\n",
              "      <td>-1.266230</td>\n",
              "      <td>-10.229167</td>\n",
              "      <td>0.583145</td>\n",
              "      <td>-0.051301</td>\n",
              "      <td>-0.584659</td>\n",
              "      <td>1.458945</td>\n",
              "      <td>2.004759</td>\n",
              "      <td>-0.188567</td>\n",
              "      <td>-1.174885</td>\n",
              "      <td>-0.524965</td>\n",
              "      <td>0.918840</td>\n",
              "      <td>-0.832003</td>\n",
              "      <td>-0.750084</td>\n",
              "      <td>-1.044508</td>\n",
              "      <td>-1.478488</td>\n",
              "      <td>0.085149</td>\n",
              "      <td>-2.068326</td>\n",
              "      <td>-1.985680</td>\n",
              "      <td>-0.626665</td>\n",
              "      <td>-0.888986</td>\n",
              "      <td>-0.887829</td>\n",
              "      <td>1.150764</td>\n",
              "      <td>4.108575</td>\n",
              "      <td>-0.762210</td>\n",
              "      <td>-0.090055</td>\n",
              "      <td>-0.326625</td>\n",
              "      <td>0.004258</td>\n",
              "      <td>-0.827051</td>\n",
              "      <td>3.130478</td>\n",
              "      <td>1.717101</td>\n",
              "      <td>0.205352</td>\n",
              "      <td>-0.292080</td>\n",
              "      <td>1.518884</td>\n",
              "      <td>1.067826</td>\n",
              "      <td>-0.884262</td>\n",
              "      <td>-0.130227</td>\n",
              "      <td>-1.387111</td>\n",
              "      <td>...</td>\n",
              "      <td>-0.746380</td>\n",
              "      <td>-0.087519</td>\n",
              "      <td>0.434310</td>\n",
              "      <td>0.202502</td>\n",
              "      <td>-1.647659</td>\n",
              "      <td>-0.659783</td>\n",
              "      <td>-1.330902</td>\n",
              "      <td>-0.814541</td>\n",
              "      <td>-0.541969</td>\n",
              "      <td>-0.398546</td>\n",
              "      <td>-0.588202</td>\n",
              "      <td>-0.623099</td>\n",
              "      <td>0.094939</td>\n",
              "      <td>-0.544703</td>\n",
              "      <td>-0.153631</td>\n",
              "      <td>1.011878</td>\n",
              "      <td>1.830680</td>\n",
              "      <td>1.427612</td>\n",
              "      <td>1.088625</td>\n",
              "      <td>0.971938</td>\n",
              "      <td>0.582914</td>\n",
              "      <td>0.485969</td>\n",
              "      <td>-0.272131</td>\n",
              "      <td>0.128187</td>\n",
              "      <td>-1.298037</td>\n",
              "      <td>-1.559975</td>\n",
              "      <td>-1.389115</td>\n",
              "      <td>-0.131401</td>\n",
              "      <td>-0.747041</td>\n",
              "      <td>-0.891591</td>\n",
              "      <td>-1.634290</td>\n",
              "      <td>-1.527111</td>\n",
              "      <td>-1.008016</td>\n",
              "      <td>-0.500519</td>\n",
              "      <td>1.277636</td>\n",
              "      <td>1.257714</td>\n",
              "      <td>0.502732</td>\n",
              "      <td>1.751844</td>\n",
              "      <td>0.150679</td>\n",
              "      <td>-0.533808</td>\n",
              "    </tr>\n",
              "    <tr>\n",
              "      <th>13996</th>\n",
              "      <td>1.730118</td>\n",
              "      <td>3.177408</td>\n",
              "      <td>0.816198</td>\n",
              "      <td>1.136877</td>\n",
              "      <td>-1.588960</td>\n",
              "      <td>1.011735</td>\n",
              "      <td>-0.185748</td>\n",
              "      <td>-0.522647</td>\n",
              "      <td>2.316802</td>\n",
              "      <td>1.219339</td>\n",
              "      <td>-0.112632</td>\n",
              "      <td>4.439025</td>\n",
              "      <td>3.193461</td>\n",
              "      <td>1.082060</td>\n",
              "      <td>0.664259</td>\n",
              "      <td>-0.176345</td>\n",
              "      <td>3.681717</td>\n",
              "      <td>0.630424</td>\n",
              "      <td>0.598552</td>\n",
              "      <td>-0.604356</td>\n",
              "      <td>-0.815153</td>\n",
              "      <td>-1.433088</td>\n",
              "      <td>-0.426656</td>\n",
              "      <td>-1.912392</td>\n",
              "      <td>-1.224320</td>\n",
              "      <td>-1.914027</td>\n",
              "      <td>-1.066382</td>\n",
              "      <td>0.340659</td>\n",
              "      <td>0.213728</td>\n",
              "      <td>0.763167</td>\n",
              "      <td>0.148998</td>\n",
              "      <td>0.543322</td>\n",
              "      <td>1.692475</td>\n",
              "      <td>0.625227</td>\n",
              "      <td>-0.877349</td>\n",
              "      <td>1.830015</td>\n",
              "      <td>1.793087</td>\n",
              "      <td>-0.863931</td>\n",
              "      <td>1.387040</td>\n",
              "      <td>-1.140393</td>\n",
              "      <td>...</td>\n",
              "      <td>0.061726</td>\n",
              "      <td>0.193023</td>\n",
              "      <td>-0.545885</td>\n",
              "      <td>2.030866</td>\n",
              "      <td>-1.639447</td>\n",
              "      <td>0.115974</td>\n",
              "      <td>-0.435266</td>\n",
              "      <td>-1.013784</td>\n",
              "      <td>-2.310726</td>\n",
              "      <td>-0.707784</td>\n",
              "      <td>-1.502360</td>\n",
              "      <td>-2.023085</td>\n",
              "      <td>-3.351802</td>\n",
              "      <td>0.926679</td>\n",
              "      <td>0.490534</td>\n",
              "      <td>-1.256652</td>\n",
              "      <td>-0.161543</td>\n",
              "      <td>0.798350</td>\n",
              "      <td>-0.322831</td>\n",
              "      <td>2.714717</td>\n",
              "      <td>2.582106</td>\n",
              "      <td>1.024801</td>\n",
              "      <td>-0.160624</td>\n",
              "      <td>3.231468</td>\n",
              "      <td>0.299199</td>\n",
              "      <td>-2.220283</td>\n",
              "      <td>-0.373500</td>\n",
              "      <td>-1.695456</td>\n",
              "      <td>-0.872309</td>\n",
              "      <td>-1.904808</td>\n",
              "      <td>-0.409750</td>\n",
              "      <td>0.840944</td>\n",
              "      <td>-1.804313</td>\n",
              "      <td>0.357944</td>\n",
              "      <td>-1.058557</td>\n",
              "      <td>-0.196874</td>\n",
              "      <td>-2.507582</td>\n",
              "      <td>0.125756</td>\n",
              "      <td>1.532976</td>\n",
              "      <td>-1.087343</td>\n",
              "    </tr>\n",
              "    <tr>\n",
              "      <th>13997</th>\n",
              "      <td>2.093028</td>\n",
              "      <td>4.108092</td>\n",
              "      <td>1.056253</td>\n",
              "      <td>8.163642</td>\n",
              "      <td>8.916299</td>\n",
              "      <td>2.338713</td>\n",
              "      <td>2.554397</td>\n",
              "      <td>1.665492</td>\n",
              "      <td>3.719985</td>\n",
              "      <td>-0.278893</td>\n",
              "      <td>-0.313868</td>\n",
              "      <td>1.106249</td>\n",
              "      <td>0.659270</td>\n",
              "      <td>-0.838686</td>\n",
              "      <td>-2.130881</td>\n",
              "      <td>-0.734322</td>\n",
              "      <td>2.317140</td>\n",
              "      <td>-1.541774</td>\n",
              "      <td>-1.950759</td>\n",
              "      <td>-0.069381</td>\n",
              "      <td>0.200786</td>\n",
              "      <td>0.906192</td>\n",
              "      <td>0.012607</td>\n",
              "      <td>-1.124215</td>\n",
              "      <td>0.979123</td>\n",
              "      <td>0.981964</td>\n",
              "      <td>-0.363620</td>\n",
              "      <td>1.652991</td>\n",
              "      <td>1.587833</td>\n",
              "      <td>2.305571</td>\n",
              "      <td>0.716126</td>\n",
              "      <td>0.450824</td>\n",
              "      <td>0.598748</td>\n",
              "      <td>-0.406244</td>\n",
              "      <td>0.507270</td>\n",
              "      <td>3.193991</td>\n",
              "      <td>-0.815588</td>\n",
              "      <td>-1.680806</td>\n",
              "      <td>-2.408160</td>\n",
              "      <td>-2.403654</td>\n",
              "      <td>...</td>\n",
              "      <td>-0.011784</td>\n",
              "      <td>0.240647</td>\n",
              "      <td>0.031492</td>\n",
              "      <td>-0.639996</td>\n",
              "      <td>0.108680</td>\n",
              "      <td>-0.060743</td>\n",
              "      <td>-0.229876</td>\n",
              "      <td>-0.172644</td>\n",
              "      <td>-0.196970</td>\n",
              "      <td>-0.184146</td>\n",
              "      <td>0.854757</td>\n",
              "      <td>-0.231010</td>\n",
              "      <td>3.392691</td>\n",
              "      <td>3.283645</td>\n",
              "      <td>1.046785</td>\n",
              "      <td>0.131157</td>\n",
              "      <td>0.672111</td>\n",
              "      <td>-0.087208</td>\n",
              "      <td>0.563064</td>\n",
              "      <td>-0.359678</td>\n",
              "      <td>-0.759012</td>\n",
              "      <td>0.559494</td>\n",
              "      <td>-0.175455</td>\n",
              "      <td>-1.391067</td>\n",
              "      <td>-1.581961</td>\n",
              "      <td>-1.496125</td>\n",
              "      <td>-0.358545</td>\n",
              "      <td>-2.342012</td>\n",
              "      <td>-0.965268</td>\n",
              "      <td>-1.238744</td>\n",
              "      <td>-0.531223</td>\n",
              "      <td>-1.249847</td>\n",
              "      <td>-1.288419</td>\n",
              "      <td>-0.897649</td>\n",
              "      <td>-0.199824</td>\n",
              "      <td>-0.033545</td>\n",
              "      <td>0.240647</td>\n",
              "      <td>2.188396</td>\n",
              "      <td>0.039340</td>\n",
              "      <td>0.756515</td>\n",
              "    </tr>\n",
              "    <tr>\n",
              "      <th>13998</th>\n",
              "      <td>1.483381</td>\n",
              "      <td>-1.602078</td>\n",
              "      <td>-2.851078</td>\n",
              "      <td>-2.639386</td>\n",
              "      <td>-4.805661</td>\n",
              "      <td>-2.252937</td>\n",
              "      <td>2.370613</td>\n",
              "      <td>4.450028</td>\n",
              "      <td>0.947600</td>\n",
              "      <td>2.364395</td>\n",
              "      <td>0.248679</td>\n",
              "      <td>2.388132</td>\n",
              "      <td>2.379845</td>\n",
              "      <td>-0.102890</td>\n",
              "      <td>1.788702</td>\n",
              "      <td>2.277066</td>\n",
              "      <td>4.255336</td>\n",
              "      <td>1.121665</td>\n",
              "      <td>2.538922</td>\n",
              "      <td>1.159098</td>\n",
              "      <td>-1.495308</td>\n",
              "      <td>0.156800</td>\n",
              "      <td>6.734728</td>\n",
              "      <td>3.398785</td>\n",
              "      <td>0.475049</td>\n",
              "      <td>1.120143</td>\n",
              "      <td>2.104251</td>\n",
              "      <td>1.604328</td>\n",
              "      <td>-1.611228</td>\n",
              "      <td>-1.532849</td>\n",
              "      <td>-0.230917</td>\n",
              "      <td>-2.047854</td>\n",
              "      <td>0.462747</td>\n",
              "      <td>0.748741</td>\n",
              "      <td>-0.606707</td>\n",
              "      <td>-0.207281</td>\n",
              "      <td>0.219881</td>\n",
              "      <td>0.831389</td>\n",
              "      <td>1.847486</td>\n",
              "      <td>2.669760</td>\n",
              "      <td>...</td>\n",
              "      <td>-1.562535</td>\n",
              "      <td>-0.896847</td>\n",
              "      <td>-0.149863</td>\n",
              "      <td>0.732447</td>\n",
              "      <td>-0.754576</td>\n",
              "      <td>1.475611</td>\n",
              "      <td>0.164599</td>\n",
              "      <td>0.663527</td>\n",
              "      <td>3.862747</td>\n",
              "      <td>8.681837</td>\n",
              "      <td>6.308625</td>\n",
              "      <td>6.010507</td>\n",
              "      <td>4.172862</td>\n",
              "      <td>3.267315</td>\n",
              "      <td>-0.795635</td>\n",
              "      <td>-3.919198</td>\n",
              "      <td>-1.778452</td>\n",
              "      <td>-2.091935</td>\n",
              "      <td>-2.383266</td>\n",
              "      <td>-0.570009</td>\n",
              "      <td>-0.140033</td>\n",
              "      <td>2.214272</td>\n",
              "      <td>2.367630</td>\n",
              "      <td>1.306031</td>\n",
              "      <td>2.733843</td>\n",
              "      <td>1.134267</td>\n",
              "      <td>-0.128915</td>\n",
              "      <td>4.448033</td>\n",
              "      <td>-0.981527</td>\n",
              "      <td>-0.146290</td>\n",
              "      <td>-1.451115</td>\n",
              "      <td>-4.188150</td>\n",
              "      <td>-2.397168</td>\n",
              "      <td>-1.126340</td>\n",
              "      <td>-0.841850</td>\n",
              "      <td>-4.231824</td>\n",
              "      <td>-2.640152</td>\n",
              "      <td>-4.048115</td>\n",
              "      <td>-4.629418</td>\n",
              "      <td>-3.566115</td>\n",
              "    </tr>\n",
              "    <tr>\n",
              "      <th>13999</th>\n",
              "      <td>-1.305992</td>\n",
              "      <td>1.129081</td>\n",
              "      <td>-0.223061</td>\n",
              "      <td>0.248722</td>\n",
              "      <td>1.326936</td>\n",
              "      <td>-0.496556</td>\n",
              "      <td>1.432433</td>\n",
              "      <td>-0.012964</td>\n",
              "      <td>1.571311</td>\n",
              "      <td>0.053566</td>\n",
              "      <td>-1.182997</td>\n",
              "      <td>-1.145032</td>\n",
              "      <td>-0.239909</td>\n",
              "      <td>0.125602</td>\n",
              "      <td>-0.903235</td>\n",
              "      <td>-2.668448</td>\n",
              "      <td>-0.111849</td>\n",
              "      <td>0.210678</td>\n",
              "      <td>0.409510</td>\n",
              "      <td>1.155023</td>\n",
              "      <td>-1.072356</td>\n",
              "      <td>1.557628</td>\n",
              "      <td>5.718761</td>\n",
              "      <td>2.333615</td>\n",
              "      <td>0.505709</td>\n",
              "      <td>1.059907</td>\n",
              "      <td>0.488552</td>\n",
              "      <td>-0.172265</td>\n",
              "      <td>0.135566</td>\n",
              "      <td>1.383609</td>\n",
              "      <td>-1.262243</td>\n",
              "      <td>1.253235</td>\n",
              "      <td>0.431225</td>\n",
              "      <td>-1.927660</td>\n",
              "      <td>-1.339174</td>\n",
              "      <td>-2.799452</td>\n",
              "      <td>-3.228435</td>\n",
              "      <td>-2.410361</td>\n",
              "      <td>-0.922039</td>\n",
              "      <td>-2.429916</td>\n",
              "      <td>...</td>\n",
              "      <td>0.058926</td>\n",
              "      <td>-0.552025</td>\n",
              "      <td>0.006052</td>\n",
              "      <td>-1.085972</td>\n",
              "      <td>-0.560529</td>\n",
              "      <td>-0.015287</td>\n",
              "      <td>-0.344643</td>\n",
              "      <td>0.911374</td>\n",
              "      <td>0.280167</td>\n",
              "      <td>0.529685</td>\n",
              "      <td>2.316771</td>\n",
              "      <td>-0.700052</td>\n",
              "      <td>0.060094</td>\n",
              "      <td>1.240460</td>\n",
              "      <td>0.897515</td>\n",
              "      <td>-0.089813</td>\n",
              "      <td>-0.225063</td>\n",
              "      <td>-1.393719</td>\n",
              "      <td>-0.744422</td>\n",
              "      <td>-0.004532</td>\n",
              "      <td>-1.955341</td>\n",
              "      <td>-0.663145</td>\n",
              "      <td>-1.327697</td>\n",
              "      <td>-0.266911</td>\n",
              "      <td>-0.667375</td>\n",
              "      <td>-1.438089</td>\n",
              "      <td>-1.029121</td>\n",
              "      <td>-0.271142</td>\n",
              "      <td>-0.459993</td>\n",
              "      <td>0.526580</td>\n",
              "      <td>0.488547</td>\n",
              "      <td>-0.480647</td>\n",
              "      <td>0.498861</td>\n",
              "      <td>1.053732</td>\n",
              "      <td>2.121583</td>\n",
              "      <td>2.547515</td>\n",
              "      <td>2.029551</td>\n",
              "      <td>0.592872</td>\n",
              "      <td>-0.079870</td>\n",
              "      <td>0.142056</td>\n",
              "    </tr>\n",
              "  </tbody>\n",
              "</table>\n",
              "<p>14000 rows × 485 columns</p>\n",
              "</div>\n",
              "      <button class=\"colab-df-convert\" onclick=\"convertToInteractive('df-9ad54f73-d5d9-4a66-8708-e79ccc68cdba')\"\n",
              "              title=\"Convert this dataframe to an interactive table.\"\n",
              "              style=\"display:none;\">\n",
              "        \n",
              "  <svg xmlns=\"http://www.w3.org/2000/svg\" height=\"24px\"viewBox=\"0 0 24 24\"\n",
              "       width=\"24px\">\n",
              "    <path d=\"M0 0h24v24H0V0z\" fill=\"none\"/>\n",
              "    <path d=\"M18.56 5.44l.94 2.06.94-2.06 2.06-.94-2.06-.94-.94-2.06-.94 2.06-2.06.94zm-11 1L8.5 8.5l.94-2.06 2.06-.94-2.06-.94L8.5 2.5l-.94 2.06-2.06.94zm10 10l.94 2.06.94-2.06 2.06-.94-2.06-.94-.94-2.06-.94 2.06-2.06.94z\"/><path d=\"M17.41 7.96l-1.37-1.37c-.4-.4-.92-.59-1.43-.59-.52 0-1.04.2-1.43.59L10.3 9.45l-7.72 7.72c-.78.78-.78 2.05 0 2.83L4 21.41c.39.39.9.59 1.41.59.51 0 1.02-.2 1.41-.59l7.78-7.78 2.81-2.81c.8-.78.8-2.07 0-2.86zM5.41 20L4 18.59l7.72-7.72 1.47 1.35L5.41 20z\"/>\n",
              "  </svg>\n",
              "      </button>\n",
              "      \n",
              "  <style>\n",
              "    .colab-df-container {\n",
              "      display:flex;\n",
              "      flex-wrap:wrap;\n",
              "      gap: 12px;\n",
              "    }\n",
              "\n",
              "    .colab-df-convert {\n",
              "      background-color: #E8F0FE;\n",
              "      border: none;\n",
              "      border-radius: 50%;\n",
              "      cursor: pointer;\n",
              "      display: none;\n",
              "      fill: #1967D2;\n",
              "      height: 32px;\n",
              "      padding: 0 0 0 0;\n",
              "      width: 32px;\n",
              "    }\n",
              "\n",
              "    .colab-df-convert:hover {\n",
              "      background-color: #E2EBFA;\n",
              "      box-shadow: 0px 1px 2px rgba(60, 64, 67, 0.3), 0px 1px 3px 1px rgba(60, 64, 67, 0.15);\n",
              "      fill: #174EA6;\n",
              "    }\n",
              "\n",
              "    [theme=dark] .colab-df-convert {\n",
              "      background-color: #3B4455;\n",
              "      fill: #D2E3FC;\n",
              "    }\n",
              "\n",
              "    [theme=dark] .colab-df-convert:hover {\n",
              "      background-color: #434B5C;\n",
              "      box-shadow: 0px 1px 3px 1px rgba(0, 0, 0, 0.15);\n",
              "      filter: drop-shadow(0px 1px 2px rgba(0, 0, 0, 0.3));\n",
              "      fill: #FFFFFF;\n",
              "    }\n",
              "  </style>\n",
              "\n",
              "      <script>\n",
              "        const buttonEl =\n",
              "          document.querySelector('#df-9ad54f73-d5d9-4a66-8708-e79ccc68cdba button.colab-df-convert');\n",
              "        buttonEl.style.display =\n",
              "          google.colab.kernel.accessAllowed ? 'block' : 'none';\n",
              "\n",
              "        async function convertToInteractive(key) {\n",
              "          const element = document.querySelector('#df-9ad54f73-d5d9-4a66-8708-e79ccc68cdba');\n",
              "          const dataTable =\n",
              "            await google.colab.kernel.invokeFunction('convertToInteractive',\n",
              "                                                     [key], {});\n",
              "          if (!dataTable) return;\n",
              "\n",
              "          const docLinkHtml = 'Like what you see? Visit the ' +\n",
              "            '<a target=\"_blank\" href=https://colab.research.google.com/notebooks/data_table.ipynb>data table notebook</a>'\n",
              "            + ' to learn more about interactive tables.';\n",
              "          element.innerHTML = '';\n",
              "          dataTable['output_type'] = 'display_data';\n",
              "          await google.colab.output.renderOutput(dataTable, element);\n",
              "          const docLink = document.createElement('div');\n",
              "          docLink.innerHTML = docLinkHtml;\n",
              "          element.appendChild(docLink);\n",
              "        }\n",
              "      </script>\n",
              "    </div>\n",
              "  </div>\n",
              "  "
            ],
            "text/plain": [
              "             X1        X2        X3  ...  I10_lag45  I10_lag46  I10_lag47\n",
              "ID                                   ...                                 \n",
              "0      0.460020  0.620360 -0.972192  ...  -0.557868   1.424906  -0.016294\n",
              "1     -0.347872 -2.199925 -0.222026  ...  -0.653394  -1.743487   4.065305\n",
              "2     -2.152963 -0.432461  1.619057  ...   1.579731   0.962836   1.146983\n",
              "3     -1.827669 -1.881770 -4.214322  ...   1.701911   0.110082   0.114980\n",
              "4      0.748761  1.799939  1.561006  ...   0.480722  -0.492838   1.377958\n",
              "...         ...       ...       ...  ...        ...        ...        ...\n",
              "13995 -0.074522 -0.472044 -2.860659  ...   1.751844   0.150679  -0.533808\n",
              "13996  1.730118  3.177408  0.816198  ...   0.125756   1.532976  -1.087343\n",
              "13997  2.093028  4.108092  1.056253  ...   2.188396   0.039340   0.756515\n",
              "13998  1.483381 -1.602078 -2.851078  ...  -4.048115  -4.629418  -3.566115\n",
              "13999 -1.305992  1.129081 -0.223061  ...   0.592872  -0.079870   0.142056\n",
              "\n",
              "[14000 rows x 485 columns]"
            ]
          },
          "metadata": {},
          "execution_count": 7
        }
      ]
    },
    {
      "cell_type": "code",
      "source": [
        "y_raw = pd.read_csv('/content/output_training_F2dZW38.csv').set_index('ID')\n",
        "y_raw"
      ],
      "metadata": {
        "id": "29-SdvrDk-lz",
        "colab": {
          "base_uri": "https://localhost:8080/",
          "height": 455
        },
        "outputId": "32d07fe9-0ec2-4e4a-f438-4a331286855e"
      },
      "execution_count": null,
      "outputs": [
        {
          "output_type": "execute_result",
          "data": {
            "text/html": [
              "\n",
              "  <div id=\"df-0aae2161-4490-4d39-80b0-036f4479f07e\">\n",
              "    <div class=\"colab-df-container\">\n",
              "      <div>\n",
              "<style scoped>\n",
              "    .dataframe tbody tr th:only-of-type {\n",
              "        vertical-align: middle;\n",
              "    }\n",
              "\n",
              "    .dataframe tbody tr th {\n",
              "        vertical-align: top;\n",
              "    }\n",
              "\n",
              "    .dataframe thead th {\n",
              "        text-align: right;\n",
              "    }\n",
              "</style>\n",
              "<table border=\"1\" class=\"dataframe\">\n",
              "  <thead>\n",
              "    <tr style=\"text-align: right;\">\n",
              "      <th></th>\n",
              "      <th>Target -1</th>\n",
              "      <th>Target 0</th>\n",
              "      <th>Target 1</th>\n",
              "    </tr>\n",
              "    <tr>\n",
              "      <th>ID</th>\n",
              "      <th></th>\n",
              "      <th></th>\n",
              "      <th></th>\n",
              "    </tr>\n",
              "  </thead>\n",
              "  <tbody>\n",
              "    <tr>\n",
              "      <th>0</th>\n",
              "      <td>0</td>\n",
              "      <td>0</td>\n",
              "      <td>1</td>\n",
              "    </tr>\n",
              "    <tr>\n",
              "      <th>1</th>\n",
              "      <td>1</td>\n",
              "      <td>0</td>\n",
              "      <td>0</td>\n",
              "    </tr>\n",
              "    <tr>\n",
              "      <th>2</th>\n",
              "      <td>0</td>\n",
              "      <td>0</td>\n",
              "      <td>1</td>\n",
              "    </tr>\n",
              "    <tr>\n",
              "      <th>3</th>\n",
              "      <td>1</td>\n",
              "      <td>0</td>\n",
              "      <td>0</td>\n",
              "    </tr>\n",
              "    <tr>\n",
              "      <th>4</th>\n",
              "      <td>0</td>\n",
              "      <td>1</td>\n",
              "      <td>0</td>\n",
              "    </tr>\n",
              "    <tr>\n",
              "      <th>...</th>\n",
              "      <td>...</td>\n",
              "      <td>...</td>\n",
              "      <td>...</td>\n",
              "    </tr>\n",
              "    <tr>\n",
              "      <th>13995</th>\n",
              "      <td>0</td>\n",
              "      <td>0</td>\n",
              "      <td>1</td>\n",
              "    </tr>\n",
              "    <tr>\n",
              "      <th>13996</th>\n",
              "      <td>0</td>\n",
              "      <td>1</td>\n",
              "      <td>0</td>\n",
              "    </tr>\n",
              "    <tr>\n",
              "      <th>13997</th>\n",
              "      <td>0</td>\n",
              "      <td>1</td>\n",
              "      <td>0</td>\n",
              "    </tr>\n",
              "    <tr>\n",
              "      <th>13998</th>\n",
              "      <td>0</td>\n",
              "      <td>0</td>\n",
              "      <td>1</td>\n",
              "    </tr>\n",
              "    <tr>\n",
              "      <th>13999</th>\n",
              "      <td>0</td>\n",
              "      <td>1</td>\n",
              "      <td>0</td>\n",
              "    </tr>\n",
              "  </tbody>\n",
              "</table>\n",
              "<p>14000 rows × 3 columns</p>\n",
              "</div>\n",
              "      <button class=\"colab-df-convert\" onclick=\"convertToInteractive('df-0aae2161-4490-4d39-80b0-036f4479f07e')\"\n",
              "              title=\"Convert this dataframe to an interactive table.\"\n",
              "              style=\"display:none;\">\n",
              "        \n",
              "  <svg xmlns=\"http://www.w3.org/2000/svg\" height=\"24px\"viewBox=\"0 0 24 24\"\n",
              "       width=\"24px\">\n",
              "    <path d=\"M0 0h24v24H0V0z\" fill=\"none\"/>\n",
              "    <path d=\"M18.56 5.44l.94 2.06.94-2.06 2.06-.94-2.06-.94-.94-2.06-.94 2.06-2.06.94zm-11 1L8.5 8.5l.94-2.06 2.06-.94-2.06-.94L8.5 2.5l-.94 2.06-2.06.94zm10 10l.94 2.06.94-2.06 2.06-.94-2.06-.94-.94-2.06-.94 2.06-2.06.94z\"/><path d=\"M17.41 7.96l-1.37-1.37c-.4-.4-.92-.59-1.43-.59-.52 0-1.04.2-1.43.59L10.3 9.45l-7.72 7.72c-.78.78-.78 2.05 0 2.83L4 21.41c.39.39.9.59 1.41.59.51 0 1.02-.2 1.41-.59l7.78-7.78 2.81-2.81c.8-.78.8-2.07 0-2.86zM5.41 20L4 18.59l7.72-7.72 1.47 1.35L5.41 20z\"/>\n",
              "  </svg>\n",
              "      </button>\n",
              "      \n",
              "  <style>\n",
              "    .colab-df-container {\n",
              "      display:flex;\n",
              "      flex-wrap:wrap;\n",
              "      gap: 12px;\n",
              "    }\n",
              "\n",
              "    .colab-df-convert {\n",
              "      background-color: #E8F0FE;\n",
              "      border: none;\n",
              "      border-radius: 50%;\n",
              "      cursor: pointer;\n",
              "      display: none;\n",
              "      fill: #1967D2;\n",
              "      height: 32px;\n",
              "      padding: 0 0 0 0;\n",
              "      width: 32px;\n",
              "    }\n",
              "\n",
              "    .colab-df-convert:hover {\n",
              "      background-color: #E2EBFA;\n",
              "      box-shadow: 0px 1px 2px rgba(60, 64, 67, 0.3), 0px 1px 3px 1px rgba(60, 64, 67, 0.15);\n",
              "      fill: #174EA6;\n",
              "    }\n",
              "\n",
              "    [theme=dark] .colab-df-convert {\n",
              "      background-color: #3B4455;\n",
              "      fill: #D2E3FC;\n",
              "    }\n",
              "\n",
              "    [theme=dark] .colab-df-convert:hover {\n",
              "      background-color: #434B5C;\n",
              "      box-shadow: 0px 1px 3px 1px rgba(0, 0, 0, 0.15);\n",
              "      filter: drop-shadow(0px 1px 2px rgba(0, 0, 0, 0.3));\n",
              "      fill: #FFFFFF;\n",
              "    }\n",
              "  </style>\n",
              "\n",
              "      <script>\n",
              "        const buttonEl =\n",
              "          document.querySelector('#df-0aae2161-4490-4d39-80b0-036f4479f07e button.colab-df-convert');\n",
              "        buttonEl.style.display =\n",
              "          google.colab.kernel.accessAllowed ? 'block' : 'none';\n",
              "\n",
              "        async function convertToInteractive(key) {\n",
              "          const element = document.querySelector('#df-0aae2161-4490-4d39-80b0-036f4479f07e');\n",
              "          const dataTable =\n",
              "            await google.colab.kernel.invokeFunction('convertToInteractive',\n",
              "                                                     [key], {});\n",
              "          if (!dataTable) return;\n",
              "\n",
              "          const docLinkHtml = 'Like what you see? Visit the ' +\n",
              "            '<a target=\"_blank\" href=https://colab.research.google.com/notebooks/data_table.ipynb>data table notebook</a>'\n",
              "            + ' to learn more about interactive tables.';\n",
              "          element.innerHTML = '';\n",
              "          dataTable['output_type'] = 'display_data';\n",
              "          await google.colab.output.renderOutput(dataTable, element);\n",
              "          const docLink = document.createElement('div');\n",
              "          docLink.innerHTML = docLinkHtml;\n",
              "          element.appendChild(docLink);\n",
              "        }\n",
              "      </script>\n",
              "    </div>\n",
              "  </div>\n",
              "  "
            ],
            "text/plain": [
              "       Target -1  Target 0  Target 1\n",
              "ID                                  \n",
              "0              0         0         1\n",
              "1              1         0         0\n",
              "2              0         0         1\n",
              "3              1         0         0\n",
              "4              0         1         0\n",
              "...          ...       ...       ...\n",
              "13995          0         0         1\n",
              "13996          0         1         0\n",
              "13997          0         1         0\n",
              "13998          0         0         1\n",
              "13999          0         1         0\n",
              "\n",
              "[14000 rows x 3 columns]"
            ]
          },
          "metadata": {},
          "execution_count": 8
        }
      ]
    },
    {
      "cell_type": "markdown",
      "source": [
        "## División: Entrenamiento, Validación y Prueba"
      ],
      "metadata": {
        "id": "4fqHIttJ8RTL"
      }
    },
    {
      "cell_type": "code",
      "source": [
        "X_train, X_test, y_train, y_test = train_test_split(X_raw, y_raw, train_size = .8, random_state = 10, shuffle = False)\n",
        "X_train, X_val, y_train, y_val = train_test_split(X_train, y_train, train_size = .75, random_state = 10, shuffle = False)\n",
        "\n",
        "print('     Train shape', X_train.shape)\n",
        "print('Validation shape', X_val.shape)\n",
        "print('      Test shape', X_test.shape)"
      ],
      "metadata": {
        "colab": {
          "base_uri": "https://localhost:8080/"
        },
        "id": "1X0rE_Qj1Ys0",
        "outputId": "581951d9-bad6-4bed-bf18-f9137c4f22e0"
      },
      "execution_count": null,
      "outputs": [
        {
          "output_type": "stream",
          "name": "stdout",
          "text": [
            "     Train shape (8400, 485)\n",
            "Validation shape (2800, 485)\n",
            "      Test shape (2800, 485)\n"
          ]
        }
      ]
    },
    {
      "cell_type": "markdown",
      "source": [
        "## Transformaciones"
      ],
      "metadata": {
        "id": "LV5EgGdD8WAm"
      }
    },
    {
      "cell_type": "code",
      "source": [
        "len_prices = 5\n",
        "n_features = 10\n",
        "len_features = 48\n",
        "\n",
        "train_prices, train_features = transform_dataframe(X_train, len_prices, n_features, len_features)\n",
        "val_prices, val_features     = transform_dataframe(X_val,   len_prices, n_features, len_features)\n",
        "test_prices, test_features   = transform_dataframe(X_test,  len_prices, n_features, len_features)"
      ],
      "metadata": {
        "id": "E9kHbyBf-hUh"
      },
      "execution_count": null,
      "outputs": []
    },
    {
      "cell_type": "code",
      "source": [
        "print('        Labels: (samples, sequence length, features)')\n",
        "print('  Train prices:', train_prices.shape)\n",
        "print('Train features:', train_features.shape)"
      ],
      "metadata": {
        "colab": {
          "base_uri": "https://localhost:8080/"
        },
        "id": "D9vHnzXOGlJi",
        "outputId": "972095c8-ad15-4a61-b417-41929dba4c43"
      },
      "execution_count": null,
      "outputs": [
        {
          "output_type": "stream",
          "name": "stdout",
          "text": [
            "        Labels: (samples, sequence length, features)\n",
            "  Train prices: (8400, 5, 1)\n",
            "Train features: (8400, 48, 10)\n"
          ]
        }
      ]
    },
    {
      "cell_type": "markdown",
      "source": [
        "# Algoritmos-Modelos"
      ],
      "metadata": {
        "id": "Z8wnN8eN8fbZ"
      }
    },
    {
      "cell_type": "markdown",
      "source": [
        "## Regresión logística"
      ],
      "metadata": {
        "id": "NfcAiYGc994C"
      }
    },
    {
      "cell_type": "markdown",
      "source": [
        "El punto de referencia de los propietarios de los datos es una regresión logística tomando como características X1, $\\dots$, X5.\n",
        "\n",
        "**Ejercicio**: Entrenar una regresión logística y evaluar el modelo obteniendo la pérdida logística (entropía cruzada). El valor esperado para esta métrica es de $1.1005$."
      ],
      "metadata": {
        "id": "0B2PDjT2-_n-"
      }
    },
    {
      "cell_type": "markdown",
      "source": [
        "## Redes Neuronales"
      ],
      "metadata": {
        "id": "HtIZY1aI8il-"
      }
    },
    {
      "cell_type": "markdown",
      "source": [
        "### Callbacks"
      ],
      "metadata": {
        "id": "uOph68NN8xcn"
      }
    },
    {
      "cell_type": "code",
      "source": [
        "# Los guarda en GoogleDrive, si no se quiere hacer la conexión, entonces cambiar la ruta o quitar el callback\n",
        "# checkpoint_cb = keras.callbacks.ModelCheckpoint(\n",
        "#     filepath = 'drive/MyDrive/Cursos/LSTM - Bitcoin v2/checkpoints', \n",
        "#     save_best_only = True\n",
        "# )\n",
        "\n",
        "earlystop_cb = keras.callbacks.EarlyStopping(\n",
        "    patience = 25, \n",
        "    restore_best_weights = True\n",
        ")"
      ],
      "metadata": {
        "id": "y43mqM-dMTXm"
      },
      "execution_count": null,
      "outputs": []
    },
    {
      "cell_type": "markdown",
      "source": [
        "### Primera Aquitectura"
      ],
      "metadata": {
        "id": "iSTqABok8o6W"
      }
    },
    {
      "cell_type": "markdown",
      "source": [
        "#### Aquitectura"
      ],
      "metadata": {
        "id": "qVpiKL0s84gj"
      }
    },
    {
      "cell_type": "code",
      "source": [
        "price_input = layers.Input(shape = (len_prices, 1), name = 'price_input')\n",
        "price_normalization = layers.Normalization(name = 'price_normalization', axis = 1)\n",
        "price_lstm = layers.LSTM(16, name = 'price', \n",
        "                         kernel_regularizer=keras.regularizers.l1_l2(l1 = 1e-5, l2 = 1e-4),\n",
        "                         return_state=True, \n",
        "                         )\n",
        "\n",
        "price_normalized = price_normalization(price_input)\n",
        "price_output, price_h, price_c = price_lstm(price_normalized)\n",
        "\n",
        "sentiment_input = layers.Input(shape = (len_features, n_features), name = 'sentiment_input')\n",
        "sentiment_normalization = layers.Normalization(name = 'sentiment_normalization', axis = 1)\n",
        "sentiment_lstm = layers.LSTM(16, \n",
        "                             name = 'sentiment', \n",
        "                             kernel_regularizer=keras.regularizers.l1_l2(l1 = 1e-5, l2 = 1e-3), \n",
        "                             dropout = .3\n",
        "                             )\n",
        "\n",
        "sentiment_normalized = sentiment_normalization(sentiment_input)\n",
        "sentiment_output = sentiment_lstm(sentiment_normalized, initial_state = [price_h, price_c])\n",
        "\n",
        "fusion = layers.Concatenate(name = 'fusion')([sentiment_output, price_output])\n",
        "\n",
        "\n",
        "prediction_layer = keras.models.Sequential(\n",
        "    [\n",
        "     layers.Dense(32, activation = 'sigmoid'), \n",
        "     layers.Dense(32, activation = 'sigmoid'), \n",
        "     layers.Dense(32, activation = 'sigmoid'), \n",
        "     layers.Dense(3, activation = 'softmax')\n",
        "    ], \n",
        "    name = 'prediction'\n",
        ")\n",
        "prediction_output = prediction_layer(fusion)\n"
      ],
      "metadata": {
        "id": "RoNA7N2J2kZo"
      },
      "execution_count": null,
      "outputs": []
    },
    {
      "cell_type": "markdown",
      "source": [
        "#### Modelo"
      ],
      "metadata": {
        "id": "uSxbBiV09FId"
      }
    },
    {
      "cell_type": "code",
      "source": [
        "\n",
        "model = keras.Model([price_input, sentiment_input], prediction_output)\n",
        "\n",
        "model.compile(\n",
        "    loss = 'categorical_crossentropy'\n",
        ")\n",
        "\n",
        "model.summary()"
      ],
      "metadata": {
        "colab": {
          "base_uri": "https://localhost:8080/"
        },
        "id": "sZwINhfBLOrp",
        "outputId": "7d28f8d9-f16f-4e6b-e390-43d4f4ad7e17"
      },
      "execution_count": null,
      "outputs": [
        {
          "output_type": "stream",
          "name": "stdout",
          "text": [
            "Model: \"model\"\n",
            "__________________________________________________________________________________________________\n",
            " Layer (type)                   Output Shape         Param #     Connected to                     \n",
            "==================================================================================================\n",
            " price_input (InputLayer)       [(None, 5, 1)]       0           []                               \n",
            "                                                                                                  \n",
            " sentiment_input (InputLayer)   [(None, 48, 10)]     0           []                               \n",
            "                                                                                                  \n",
            " price_normalization (Normaliza  (None, 5, 1)        11          ['price_input[0][0]']            \n",
            " tion)                                                                                            \n",
            "                                                                                                  \n",
            " sentiment_normalization (Norma  (None, 48, 10)      97          ['sentiment_input[0][0]']        \n",
            " lization)                                                                                        \n",
            "                                                                                                  \n",
            " price (LSTM)                   [(None, 16),         1152        ['price_normalization[0][0]']    \n",
            "                                 (None, 16),                                                      \n",
            "                                 (None, 16)]                                                      \n",
            "                                                                                                  \n",
            " sentiment (LSTM)               (None, 16)           1728        ['sentiment_normalization[0][0]',\n",
            "                                                                  'price[0][1]',                  \n",
            "                                                                  'price[0][2]']                  \n",
            "                                                                                                  \n",
            " fusion (Concatenate)           (None, 32)           0           ['sentiment[0][0]',              \n",
            "                                                                  'price[0][0]']                  \n",
            "                                                                                                  \n",
            " prediction (Sequential)        (None, 3)            3267        ['fusion[0][0]']                 \n",
            "                                                                                                  \n",
            "==================================================================================================\n",
            "Total params: 6,255\n",
            "Trainable params: 6,147\n",
            "Non-trainable params: 108\n",
            "__________________________________________________________________________________________________\n"
          ]
        }
      ]
    },
    {
      "cell_type": "markdown",
      "source": [
        "##### Visualización"
      ],
      "metadata": {
        "id": "TZOU1FjI9G4E"
      }
    },
    {
      "cell_type": "code",
      "source": [
        "keras.utils.plot_model( \n",
        "    model,\n",
        "    to_file=\"model.png\",\n",
        "    show_shapes=True,\n",
        "    show_dtype=False,\n",
        "    show_layer_names=True,\n",
        "    rankdir=\"TD\",\n",
        "    dpi=180,\n",
        ")"
      ],
      "metadata": {
        "colab": {
          "base_uri": "https://localhost:8080/",
          "height": 565
        },
        "id": "sJ-Ge0skLY0a",
        "outputId": "c241a8d4-9c52-46f0-864a-f42c52caa2b3"
      },
      "execution_count": null,
      "outputs": [
        {
          "output_type": "execute_result",
          "data": {
            "image/png": "[encoded data removed]",
            "text/plain": [
              "<IPython.core.display.Image object>"
            ]
          },
          "metadata": {},
          "execution_count": 14
        }
      ]
    },
    {
      "cell_type": "markdown",
      "source": [
        "#### Entrenamiento"
      ],
      "metadata": {
        "id": "Op_r0jcC9J24"
      }
    },
    {
      "cell_type": "code",
      "source": [
        "history = model.fit(\n",
        "    [train_prices, train_features], y_train, \n",
        "    epochs = 1000, \n",
        "    callbacks = [earlystop_cb], \n",
        "    validation_data = [[val_prices, val_features], y_val]\n",
        ").history"
      ],
      "metadata": {
        "colab": {
          "base_uri": "https://localhost:8080/"
        },
        "id": "jkOOKs_pLosa",
        "outputId": "30a41a0c-da17-43f0-eaba-cc5b2c829b0b"
      },
      "execution_count": null,
      "outputs": [
        {
          "output_type": "stream",
          "name": "stdout",
          "text": [
            "Epoch 1/1000\n",
            "263/263 [==============================] - 12s 15ms/step - loss: 1.1044 - val_loss: 1.0872\n",
            "Epoch 2/1000\n",
            "263/263 [==============================] - 3s 11ms/step - loss: 1.0717 - val_loss: 1.0595\n",
            "Epoch 3/1000\n",
            "263/263 [==============================] - 3s 12ms/step - loss: 1.0570 - val_loss: 1.0543\n",
            "Epoch 4/1000\n",
            "263/263 [==============================] - 3s 11ms/step - loss: 1.0495 - val_loss: 1.0407\n",
            "Epoch 5/1000\n",
            "263/263 [==============================] - 3s 11ms/step - loss: 1.0448 - val_loss: 1.0609\n",
            "Epoch 6/1000\n",
            "263/263 [==============================] - 4s 14ms/step - loss: 1.0406 - val_loss: 1.0622\n",
            "Epoch 7/1000\n",
            "263/263 [==============================] - 3s 13ms/step - loss: 1.0378 - val_loss: 1.0482\n",
            "Epoch 8/1000\n",
            "263/263 [==============================] - 3s 11ms/step - loss: 1.0369 - val_loss: 1.0519\n",
            "Epoch 9/1000\n",
            "263/263 [==============================] - 3s 11ms/step - loss: 1.0348 - val_loss: 1.0340\n",
            "Epoch 10/1000\n",
            "263/263 [==============================] - 3s 11ms/step - loss: 1.0309 - val_loss: 1.0342\n",
            "Epoch 11/1000\n",
            "263/263 [==============================] - 3s 11ms/step - loss: 1.0321 - val_loss: 1.0390\n",
            "Epoch 12/1000\n",
            "263/263 [==============================] - 3s 11ms/step - loss: 1.0284 - val_loss: 1.0318\n",
            "Epoch 13/1000\n",
            "263/263 [==============================] - 3s 11ms/step - loss: 1.0331 - val_loss: 1.0379\n",
            "Epoch 14/1000\n",
            "263/263 [==============================] - 3s 11ms/step - loss: 1.0276 - val_loss: 1.0294\n",
            "Epoch 15/1000\n",
            "263/263 [==============================] - 3s 12ms/step - loss: 1.0287 - val_loss: 1.0374\n",
            "Epoch 16/1000\n",
            "263/263 [==============================] - 3s 11ms/step - loss: 1.0293 - val_loss: 1.0319\n",
            "Epoch 17/1000\n",
            "263/263 [==============================] - 3s 11ms/step - loss: 1.0301 - val_loss: 1.0339\n",
            "Epoch 18/1000\n",
            "263/263 [==============================] - 3s 11ms/step - loss: 1.0271 - val_loss: 1.0340\n",
            "Epoch 19/1000\n",
            "263/263 [==============================] - 3s 11ms/step - loss: 1.0261 - val_loss: 1.0413\n",
            "Epoch 20/1000\n",
            "263/263 [==============================] - 3s 11ms/step - loss: 1.0244 - val_loss: 1.0450\n",
            "Epoch 21/1000\n",
            "263/263 [==============================] - 3s 11ms/step - loss: 1.0259 - val_loss: 1.0522\n",
            "Epoch 22/1000\n",
            "263/263 [==============================] - 3s 11ms/step - loss: 1.0261 - val_loss: 1.0317\n",
            "Epoch 23/1000\n",
            "263/263 [==============================] - 3s 11ms/step - loss: 1.0241 - val_loss: 1.0324\n",
            "Epoch 24/1000\n",
            "263/263 [==============================] - 3s 11ms/step - loss: 1.0255 - val_loss: 1.0286\n",
            "Epoch 25/1000\n",
            "263/263 [==============================] - 3s 11ms/step - loss: 1.0226 - val_loss: 1.0338\n",
            "Epoch 26/1000\n",
            "263/263 [==============================] - 3s 11ms/step - loss: 1.0242 - val_loss: 1.0458\n",
            "Epoch 27/1000\n",
            "263/263 [==============================] - 3s 11ms/step - loss: 1.0227 - val_loss: 1.0429\n",
            "Epoch 28/1000\n",
            "263/263 [==============================] - 3s 11ms/step - loss: 1.0192 - val_loss: 1.0478\n",
            "Epoch 29/1000\n",
            "263/263 [==============================] - 3s 11ms/step - loss: 1.0209 - val_loss: 1.0413\n",
            "Epoch 30/1000\n",
            "263/263 [==============================] - 3s 11ms/step - loss: 1.0196 - val_loss: 1.0272\n",
            "Epoch 31/1000\n",
            "263/263 [==============================] - 3s 11ms/step - loss: 1.0222 - val_loss: 1.0308\n",
            "Epoch 32/1000\n",
            "263/263 [==============================] - 3s 11ms/step - loss: 1.0192 - val_loss: 1.0553\n",
            "Epoch 33/1000\n",
            "263/263 [==============================] - 3s 11ms/step - loss: 1.0195 - val_loss: 1.0457\n",
            "Epoch 34/1000\n",
            "263/263 [==============================] - 3s 11ms/step - loss: 1.0178 - val_loss: 1.0317\n",
            "Epoch 35/1000\n",
            "263/263 [==============================] - 3s 11ms/step - loss: 1.0166 - val_loss: 1.0597\n",
            "Epoch 36/1000\n",
            "263/263 [==============================] - 3s 12ms/step - loss: 1.0205 - val_loss: 1.0349\n",
            "Epoch 37/1000\n",
            "263/263 [==============================] - 3s 11ms/step - loss: 1.0175 - val_loss: 1.0312\n",
            "Epoch 38/1000\n",
            "263/263 [==============================] - 3s 11ms/step - loss: 1.0172 - val_loss: 1.0362\n",
            "Epoch 39/1000\n",
            "263/263 [==============================] - 3s 11ms/step - loss: 1.0134 - val_loss: 1.0500\n",
            "Epoch 40/1000\n",
            "263/263 [==============================] - 3s 11ms/step - loss: 1.0166 - val_loss: 1.0495\n",
            "Epoch 41/1000\n",
            "263/263 [==============================] - 3s 11ms/step - loss: 1.0170 - val_loss: 1.0339\n",
            "Epoch 42/1000\n",
            "263/263 [==============================] - 3s 11ms/step - loss: 1.0165 - val_loss: 1.0336\n",
            "Epoch 43/1000\n",
            "263/263 [==============================] - 3s 11ms/step - loss: 1.0157 - val_loss: 1.0370\n",
            "Epoch 44/1000\n",
            "263/263 [==============================] - 3s 12ms/step - loss: 1.0137 - val_loss: 1.0398\n",
            "Epoch 45/1000\n",
            "263/263 [==============================] - 3s 11ms/step - loss: 1.0110 - val_loss: 1.0285\n",
            "Epoch 46/1000\n",
            "263/263 [==============================] - 3s 11ms/step - loss: 1.0127 - val_loss: 1.0325\n",
            "Epoch 47/1000\n",
            "263/263 [==============================] - 3s 11ms/step - loss: 1.0125 - val_loss: 1.0418\n",
            "Epoch 48/1000\n",
            "263/263 [==============================] - 3s 11ms/step - loss: 1.0108 - val_loss: 1.0342\n",
            "Epoch 49/1000\n",
            "263/263 [==============================] - 3s 11ms/step - loss: 1.0122 - val_loss: 1.0462\n",
            "Epoch 50/1000\n",
            "263/263 [==============================] - 3s 11ms/step - loss: 1.0100 - val_loss: 1.0312\n",
            "Epoch 51/1000\n",
            "263/263 [==============================] - 3s 11ms/step - loss: 1.0129 - val_loss: 1.0614\n",
            "Epoch 52/1000\n",
            "263/263 [==============================] - 3s 11ms/step - loss: 1.0117 - val_loss: 1.0355\n",
            "Epoch 53/1000\n",
            "263/263 [==============================] - 3s 11ms/step - loss: 1.0111 - val_loss: 1.0459\n",
            "Epoch 54/1000\n",
            "263/263 [==============================] - 3s 11ms/step - loss: 1.0109 - val_loss: 1.0312\n",
            "Epoch 55/1000\n",
            "263/263 [==============================] - 3s 11ms/step - loss: 1.0093 - val_loss: 1.0469\n"
          ]
        }
      ]
    },
    {
      "cell_type": "markdown",
      "source": [
        "##### Visualización"
      ],
      "metadata": {
        "id": "1MMSErL09Lde"
      }
    },
    {
      "cell_type": "code",
      "source": [
        "x = list(range(len(history['loss'])))\n",
        "\n",
        "fig = go.Figure()\n",
        "\n",
        "fig.add_trace(go.Scatter(x = x, y = history['loss'])) \\\n",
        "   .add_trace(go.Scatter(x = x, y = history['val_loss']))\n",
        "\n",
        "fig.show()"
      ],
      "metadata": {
        "colab": {
          "base_uri": "https://localhost:8080/",
          "height": 542
        },
        "id": "U0VeDdOhTAPd",
        "outputId": "e92730a8-a6d4-412e-f668-5a31da051c85"
      },
      "execution_count": null,
      "outputs": [
        {
          "output_type": "display_data",
          "data": {
            "text/html": [
              "<html>\n",
              "<head><meta charset=\"utf-8\" /></head>\n",
              "<body>\n",
              "    <div>            <script src=\"https://cdnjs.cloudflare.com/ajax/libs/mathjax/2.7.5/MathJax.js?config=TeX-AMS-MML_SVG\"></script><script type=\"text/javascript\">if (window.MathJax) {MathJax.Hub.Config({SVG: {font: \"STIX-Web\"}});}</script>                <script type=\"text/javascript\">window.PlotlyConfig = {MathJaxConfig: 'local'};</script>\n",
              "        <script src=\"https://cdn.plot.ly/plotly-2.8.3.min.js\"></script>                <div id=\"85fdc8e5-a29c-4db7-bb26-08dfb66fcad7\" class=\"plotly-graph-div\" style=\"height:525px; width:100%;\"></div>            <script type=\"text/javascript\">                                    window.PLOTLYENV=window.PLOTLYENV || {};                                    if (document.getElementById(\"85fdc8e5-a29c-4db7-bb26-08dfb66fcad7\")) {                    Plotly.newPlot(                        \"85fdc8e5-a29c-4db7-bb26-08dfb66fcad7\",                        [{\"x\":[0,1,2,3,4,5,6,7,8,9,10,11,12,13,14,15,16,17,18,19,20,21,22,23,24,25,26,27,28,29,30,31,32,33,34,35,36,37,38,39,40,41,42,43,44,45,46,47,48,49,50,51,52,53,54],\"y\":[1.1044409275054932,1.0716816186904907,1.0569723844528198,1.049511194229126,1.0447678565979004,1.0406279563903809,1.0378168821334839,1.036901593208313,1.0347951650619507,1.030945062637329,1.032126545906067,1.0283740758895874,1.033121943473816,1.0276374816894531,1.0287201404571533,1.0292664766311646,1.0301122665405273,1.027065634727478,1.0261223316192627,1.024377465248108,1.0259113311767578,1.0260837078094482,1.0240914821624756,1.0255088806152344,1.0226188898086548,1.024181842803955,1.0226787328720093,1.019220232963562,1.0209382772445679,1.0196017026901245,1.0221500396728516,1.0191982984542847,1.019521951675415,1.0177500247955322,1.0165787935256958,1.020536184310913,1.0175361633300781,1.0171568393707275,1.0134085416793823,1.0165635347366333,1.0170140266418457,1.0165084600448608,1.015708327293396,1.0137434005737305,1.0110023021697998,1.0127313137054443,1.0124921798706055,1.0108331441879272,1.0121877193450928,1.0099732875823975,1.0129194259643555,1.0117274522781372,1.0110851526260376,1.0108774900436401,1.00929856300354],\"type\":\"scatter\"},{\"x\":[0,1,2,3,4,5,6,7,8,9,10,11,12,13,14,15,16,17,18,19,20,21,22,23,24,25,26,27,28,29,30,31,32,33,34,35,36,37,38,39,40,41,42,43,44,45,46,47,48,49,50,51,52,53,54],\"y\":[1.087152361869812,1.0595191717147827,1.054329514503479,1.0406739711761475,1.0609169006347656,1.062160611152649,1.0481728315353394,1.0519001483917236,1.0340266227722168,1.034162998199463,1.0390324592590332,1.0317965745925903,1.0379101037979126,1.0293971300125122,1.0374020338058472,1.0318853855133057,1.0338895320892334,1.0340096950531006,1.041274905204773,1.0450084209442139,1.0522115230560303,1.0316828489303589,1.03236985206604,1.0285873413085938,1.0337508916854858,1.045762538909912,1.0428743362426758,1.0477904081344604,1.0413024425506592,1.0272339582443237,1.0307793617248535,1.0553369522094727,1.0456719398498535,1.0316643714904785,1.05971360206604,1.0349273681640625,1.031162142753601,1.0361565351486206,1.0500015020370483,1.0495433807373047,1.0339001417160034,1.033585786819458,1.0370030403137207,1.039787769317627,1.0285022258758545,1.0325034856796265,1.0418459177017212,1.0341520309448242,1.046216368675232,1.0312410593032837,1.061360239982605,1.035522699356079,1.0458964109420776,1.0312336683273315,1.0469485521316528],\"type\":\"scatter\"}],                        {\"template\":{\"data\":{\"bar\":[{\"error_x\":{\"color\":\"#2a3f5f\"},\"error_y\":{\"color\":\"#2a3f5f\"},\"marker\":{\"line\":{\"color\":\"#E5ECF6\",\"width\":0.5},\"pattern\":{\"fillmode\":\"overlay\",\"size\":10,\"solidity\":0.2}},\"type\":\"bar\"}],\"barpolar\":[{\"marker\":{\"line\":{\"color\":\"#E5ECF6\",\"width\":0.5},\"pattern\":{\"fillmode\":\"overlay\",\"size\":10,\"solidity\":0.2}},\"type\":\"barpolar\"}],\"carpet\":[{\"aaxis\":{\"endlinecolor\":\"#2a3f5f\",\"gridcolor\":\"white\",\"linecolor\":\"white\",\"minorgridcolor\":\"white\",\"startlinecolor\":\"#2a3f5f\"},\"baxis\":{\"endlinecolor\":\"#2a3f5f\",\"gridcolor\":\"white\",\"linecolor\":\"white\",\"minorgridcolor\":\"white\",\"startlinecolor\":\"#2a3f5f\"},\"type\":\"carpet\"}],\"choropleth\":[{\"colorbar\":{\"outlinewidth\":0,\"ticks\":\"\"},\"type\":\"choropleth\"}],\"contour\":[{\"colorbar\":{\"outlinewidth\":0,\"ticks\":\"\"},\"colorscale\":[[0.0,\"#0d0887\"],[0.1111111111111111,\"#46039f\"],[0.2222222222222222,\"#7201a8\"],[0.3333333333333333,\"#9c179e\"],[0.4444444444444444,\"#bd3786\"],[0.5555555555555556,\"#d8576b\"],[0.6666666666666666,\"#ed7953\"],[0.7777777777777778,\"#fb9f3a\"],[0.8888888888888888,\"#fdca26\"],[1.0,\"#f0f921\"]],\"type\":\"contour\"}],\"contourcarpet\":[{\"colorbar\":{\"outlinewidth\":0,\"ticks\":\"\"},\"type\":\"contourcarpet\"}],\"heatmap\":[{\"colorbar\":{\"outlinewidth\":0,\"ticks\":\"\"},\"colorscale\":[[0.0,\"#0d0887\"],[0.1111111111111111,\"#46039f\"],[0.2222222222222222,\"#7201a8\"],[0.3333333333333333,\"#9c179e\"],[0.4444444444444444,\"#bd3786\"],[0.5555555555555556,\"#d8576b\"],[0.6666666666666666,\"#ed7953\"],[0.7777777777777778,\"#fb9f3a\"],[0.8888888888888888,\"#fdca26\"],[1.0,\"#f0f921\"]],\"type\":\"heatmap\"}],\"heatmapgl\":[{\"colorbar\":{\"outlinewidth\":0,\"ticks\":\"\"},\"colorscale\":[[0.0,\"#0d0887\"],[0.1111111111111111,\"#46039f\"],[0.2222222222222222,\"#7201a8\"],[0.3333333333333333,\"#9c179e\"],[0.4444444444444444,\"#bd3786\"],[0.5555555555555556,\"#d8576b\"],[0.6666666666666666,\"#ed7953\"],[0.7777777777777778,\"#fb9f3a\"],[0.8888888888888888,\"#fdca26\"],[1.0,\"#f0f921\"]],\"type\":\"heatmapgl\"}],\"histogram\":[{\"marker\":{\"pattern\":{\"fillmode\":\"overlay\",\"size\":10,\"solidity\":0.2}},\"type\":\"histogram\"}],\"histogram2d\":[{\"colorbar\":{\"outlinewidth\":0,\"ticks\":\"\"},\"colorscale\":[[0.0,\"#0d0887\"],[0.1111111111111111,\"#46039f\"],[0.2222222222222222,\"#7201a8\"],[0.3333333333333333,\"#9c179e\"],[0.4444444444444444,\"#bd3786\"],[0.5555555555555556,\"#d8576b\"],[0.6666666666666666,\"#ed7953\"],[0.7777777777777778,\"#fb9f3a\"],[0.8888888888888888,\"#fdca26\"],[1.0,\"#f0f921\"]],\"type\":\"histogram2d\"}],\"histogram2dcontour\":[{\"colorbar\":{\"outlinewidth\":0,\"ticks\":\"\"},\"colorscale\":[[0.0,\"#0d0887\"],[0.1111111111111111,\"#46039f\"],[0.2222222222222222,\"#7201a8\"],[0.3333333333333333,\"#9c179e\"],[0.4444444444444444,\"#bd3786\"],[0.5555555555555556,\"#d8576b\"],[0.6666666666666666,\"#ed7953\"],[0.7777777777777778,\"#fb9f3a\"],[0.8888888888888888,\"#fdca26\"],[1.0,\"#f0f921\"]],\"type\":\"histogram2dcontour\"}],\"mesh3d\":[{\"colorbar\":{\"outlinewidth\":0,\"ticks\":\"\"},\"type\":\"mesh3d\"}],\"parcoords\":[{\"line\":{\"colorbar\":{\"outlinewidth\":0,\"ticks\":\"\"}},\"type\":\"parcoords\"}],\"pie\":[{\"automargin\":true,\"type\":\"pie\"}],\"scatter\":[{\"marker\":{\"colorbar\":{\"outlinewidth\":0,\"ticks\":\"\"}},\"type\":\"scatter\"}],\"scatter3d\":[{\"line\":{\"colorbar\":{\"outlinewidth\":0,\"ticks\":\"\"}},\"marker\":{\"colorbar\":{\"outlinewidth\":0,\"ticks\":\"\"}},\"type\":\"scatter3d\"}],\"scattercarpet\":[{\"marker\":{\"colorbar\":{\"outlinewidth\":0,\"ticks\":\"\"}},\"type\":\"scattercarpet\"}],\"scattergeo\":[{\"marker\":{\"colorbar\":{\"outlinewidth\":0,\"ticks\":\"\"}},\"type\":\"scattergeo\"}],\"scattergl\":[{\"marker\":{\"colorbar\":{\"outlinewidth\":0,\"ticks\":\"\"}},\"type\":\"scattergl\"}],\"scattermapbox\":[{\"marker\":{\"colorbar\":{\"outlinewidth\":0,\"ticks\":\"\"}},\"type\":\"scattermapbox\"}],\"scatterpolar\":[{\"marker\":{\"colorbar\":{\"outlinewidth\":0,\"ticks\":\"\"}},\"type\":\"scatterpolar\"}],\"scatterpolargl\":[{\"marker\":{\"colorbar\":{\"outlinewidth\":0,\"ticks\":\"\"}},\"type\":\"scatterpolargl\"}],\"scatterternary\":[{\"marker\":{\"colorbar\":{\"outlinewidth\":0,\"ticks\":\"\"}},\"type\":\"scatterternary\"}],\"surface\":[{\"colorbar\":{\"outlinewidth\":0,\"ticks\":\"\"},\"colorscale\":[[0.0,\"#0d0887\"],[0.1111111111111111,\"#46039f\"],[0.2222222222222222,\"#7201a8\"],[0.3333333333333333,\"#9c179e\"],[0.4444444444444444,\"#bd3786\"],[0.5555555555555556,\"#d8576b\"],[0.6666666666666666,\"#ed7953\"],[0.7777777777777778,\"#fb9f3a\"],[0.8888888888888888,\"#fdca26\"],[1.0,\"#f0f921\"]],\"type\":\"surface\"}],\"table\":[{\"cells\":{\"fill\":{\"color\":\"#EBF0F8\"},\"line\":{\"color\":\"white\"}},\"header\":{\"fill\":{\"color\":\"#C8D4E3\"},\"line\":{\"color\":\"white\"}},\"type\":\"table\"}]},\"layout\":{\"annotationdefaults\":{\"arrowcolor\":\"#2a3f5f\",\"arrowhead\":0,\"arrowwidth\":1},\"autotypenumbers\":\"strict\",\"coloraxis\":{\"colorbar\":{\"outlinewidth\":0,\"ticks\":\"\"}},\"colorscale\":{\"diverging\":[[0,\"#8e0152\"],[0.1,\"#c51b7d\"],[0.2,\"#de77ae\"],[0.3,\"#f1b6da\"],[0.4,\"#fde0ef\"],[0.5,\"#f7f7f7\"],[0.6,\"#e6f5d0\"],[0.7,\"#b8e186\"],[0.8,\"#7fbc41\"],[0.9,\"#4d9221\"],[1,\"#276419\"]],\"sequential\":[[0.0,\"#0d0887\"],[0.1111111111111111,\"#46039f\"],[0.2222222222222222,\"#7201a8\"],[0.3333333333333333,\"#9c179e\"],[0.4444444444444444,\"#bd3786\"],[0.5555555555555556,\"#d8576b\"],[0.6666666666666666,\"#ed7953\"],[0.7777777777777778,\"#fb9f3a\"],[0.8888888888888888,\"#fdca26\"],[1.0,\"#f0f921\"]],\"sequentialminus\":[[0.0,\"#0d0887\"],[0.1111111111111111,\"#46039f\"],[0.2222222222222222,\"#7201a8\"],[0.3333333333333333,\"#9c179e\"],[0.4444444444444444,\"#bd3786\"],[0.5555555555555556,\"#d8576b\"],[0.6666666666666666,\"#ed7953\"],[0.7777777777777778,\"#fb9f3a\"],[0.8888888888888888,\"#fdca26\"],[1.0,\"#f0f921\"]]},\"colorway\":[\"#636efa\",\"#EF553B\",\"#00cc96\",\"#ab63fa\",\"#FFA15A\",\"#19d3f3\",\"#FF6692\",\"#B6E880\",\"#FF97FF\",\"#FECB52\"],\"font\":{\"color\":\"#2a3f5f\"},\"geo\":{\"bgcolor\":\"white\",\"lakecolor\":\"white\",\"landcolor\":\"#E5ECF6\",\"showlakes\":true,\"showland\":true,\"subunitcolor\":\"white\"},\"hoverlabel\":{\"align\":\"left\"},\"hovermode\":\"closest\",\"mapbox\":{\"style\":\"light\"},\"paper_bgcolor\":\"white\",\"plot_bgcolor\":\"#E5ECF6\",\"polar\":{\"angularaxis\":{\"gridcolor\":\"white\",\"linecolor\":\"white\",\"ticks\":\"\"},\"bgcolor\":\"#E5ECF6\",\"radialaxis\":{\"gridcolor\":\"white\",\"linecolor\":\"white\",\"ticks\":\"\"}},\"scene\":{\"xaxis\":{\"backgroundcolor\":\"#E5ECF6\",\"gridcolor\":\"white\",\"gridwidth\":2,\"linecolor\":\"white\",\"showbackground\":true,\"ticks\":\"\",\"zerolinecolor\":\"white\"},\"yaxis\":{\"backgroundcolor\":\"#E5ECF6\",\"gridcolor\":\"white\",\"gridwidth\":2,\"linecolor\":\"white\",\"showbackground\":true,\"ticks\":\"\",\"zerolinecolor\":\"white\"},\"zaxis\":{\"backgroundcolor\":\"#E5ECF6\",\"gridcolor\":\"white\",\"gridwidth\":2,\"linecolor\":\"white\",\"showbackground\":true,\"ticks\":\"\",\"zerolinecolor\":\"white\"}},\"shapedefaults\":{\"line\":{\"color\":\"#2a3f5f\"}},\"ternary\":{\"aaxis\":{\"gridcolor\":\"white\",\"linecolor\":\"white\",\"ticks\":\"\"},\"baxis\":{\"gridcolor\":\"white\",\"linecolor\":\"white\",\"ticks\":\"\"},\"bgcolor\":\"#E5ECF6\",\"caxis\":{\"gridcolor\":\"white\",\"linecolor\":\"white\",\"ticks\":\"\"}},\"title\":{\"x\":0.05},\"xaxis\":{\"automargin\":true,\"gridcolor\":\"white\",\"linecolor\":\"white\",\"ticks\":\"\",\"title\":{\"standoff\":15},\"zerolinecolor\":\"white\",\"zerolinewidth\":2},\"yaxis\":{\"automargin\":true,\"gridcolor\":\"white\",\"linecolor\":\"white\",\"ticks\":\"\",\"title\":{\"standoff\":15},\"zerolinecolor\":\"white\",\"zerolinewidth\":2}}}},                        {\"responsive\": true}                    ).then(function(){\n",
              "                            \n",
              "var gd = document.getElementById('85fdc8e5-a29c-4db7-bb26-08dfb66fcad7');\n",
              "var x = new MutationObserver(function (mutations, observer) {{\n",
              "        var display = window.getComputedStyle(gd).display;\n",
              "        if (!display || display === 'none') {{\n",
              "            console.log([gd, 'removed!']);\n",
              "            Plotly.purge(gd);\n",
              "            observer.disconnect();\n",
              "        }}\n",
              "}});\n",
              "\n",
              "// Listen for the removal of the full notebook cells\n",
              "var notebookContainer = gd.closest('#notebook-container');\n",
              "if (notebookContainer) {{\n",
              "    x.observe(notebookContainer, {childList: true});\n",
              "}}\n",
              "\n",
              "// Listen for the clearing of the current output cell\n",
              "var outputEl = gd.closest('.output');\n",
              "if (outputEl) {{\n",
              "    x.observe(outputEl, {childList: true});\n",
              "}}\n",
              "\n",
              "                        })                };                            </script>        </div>\n",
              "</body>\n",
              "</html>"
            ]
          },
          "metadata": {}
        }
      ]
    },
    {
      "cell_type": "markdown",
      "source": [
        "#### Métricas"
      ],
      "metadata": {
        "id": "pZN1xAdq9Plc"
      }
    },
    {
      "cell_type": "code",
      "source": [
        "evaluate_model(model, [[train_prices, train_features], y_train], [[val_prices, val_features], y_val], [[test_prices, test_features], y_test])"
      ],
      "metadata": {
        "colab": {
          "base_uri": "https://localhost:8080/"
        },
        "id": "nSHaBMRB3BFN",
        "outputId": "65b893d4-05fb-4fe6-d44b-59547aa3b463"
      },
      "execution_count": null,
      "outputs": [
        {
          "output_type": "stream",
          "name": "stdout",
          "text": [
            "train cross_entropy =  1.012297511100769\n",
            "  val cross_entropy =  1.0272339582443237\n",
            " test cross_entropy =  1.0360366106033325\n"
          ]
        }
      ]
    },
    {
      "cell_type": "markdown",
      "source": [
        "### Segunda Arquitectura"
      ],
      "metadata": {
        "id": "UtWcBtZJ9RqR"
      }
    },
    {
      "cell_type": "markdown",
      "source": [
        "#### Arquitectura"
      ],
      "metadata": {
        "id": "fmY6GcR29UfK"
      }
    },
    {
      "cell_type": "code",
      "source": [
        "price_input = layers.Input(shape = (len_prices,), name = 'price_input')\n",
        "\n",
        "price_layer = keras.models.Sequential(\n",
        "    [\n",
        "     layers.Normalization(name = 'price_normalization'), \n",
        "     layers.Dense(16, activation = 'tanh'), \n",
        "     layers.Dense(16, activation = 'relu'),\n",
        "    ], \n",
        "    name = 'price'\n",
        ")\n",
        "\n",
        "price_output = price_layer(price_input)\n",
        "\n",
        "sentiment_input = layers.Input(shape = (len_features, n_features), name = 'sentiment_input')\n",
        "sentiment_normalization = layers.Normalization(name = 'sentiment_normalization', axis = 1)\n",
        "sentiment_lstm = layers.LSTM(16, name = 'sentiment')\n",
        "\n",
        "sentiment_normalized = sentiment_normalization(sentiment_input)\n",
        "sentiment_output = sentiment_lstm(sentiment_normalized)\n",
        "\n",
        "fusion = layers.Concatenate(name = 'fusion')([sentiment_output, price_output])\n",
        "\n",
        "\n",
        "prediction_layer = keras.models.Sequential(\n",
        "    [\n",
        "     layers.Dense(32, activation = 'sigmoid'), \n",
        "     layers.Dense(32, activation = 'sigmoid'), \n",
        "     layers.Dense(32, activation = 'sigmoid'), \n",
        "     layers.Dense(3, activation = 'softmax')\n",
        "    ], \n",
        "    name = 'prediction'\n",
        ")\n",
        "prediction_output = prediction_layer(fusion)"
      ],
      "metadata": {
        "id": "K1ayfgTRUMED"
      },
      "execution_count": null,
      "outputs": []
    },
    {
      "cell_type": "markdown",
      "source": [
        "#### Modelo"
      ],
      "metadata": {
        "id": "mltSNy_G9WDl"
      }
    },
    {
      "cell_type": "code",
      "source": [
        "model_2 = keras.Model([price_input, sentiment_input], prediction_output)\n",
        "\n",
        "model_2.compile(\n",
        "    loss = 'categorical_crossentropy'\n",
        ")\n",
        "\n",
        "model_2.summary()"
      ],
      "metadata": {
        "colab": {
          "base_uri": "https://localhost:8080/"
        },
        "id": "QqSSQMLlwRUA",
        "outputId": "7b71423e-5790-4589-a9dd-f6719e692fe0"
      },
      "execution_count": null,
      "outputs": [
        {
          "output_type": "stream",
          "name": "stdout",
          "text": [
            "Model: \"model_2\"\n",
            "__________________________________________________________________________________________________\n",
            " Layer (type)                   Output Shape         Param #     Connected to                     \n",
            "==================================================================================================\n",
            " sentiment_input (InputLayer)   [(None, 48, 10)]     0           []                               \n",
            "                                                                                                  \n",
            " sentiment_normalization (Norma  (None, 48, 10)      97          ['sentiment_input[0][0]']        \n",
            " lization)                                                                                        \n",
            "                                                                                                  \n",
            " price_input (InputLayer)       [(None, 5)]          0           []                               \n",
            "                                                                                                  \n",
            " sentiment (LSTM)               (None, 16)           1728        ['sentiment_normalization[0][0]']\n",
            "                                                                                                  \n",
            " price (Sequential)             (None, 16)           379         ['price_input[0][0]']            \n",
            "                                                                                                  \n",
            " fusion (Concatenate)           (None, 32)           0           ['sentiment[0][0]',              \n",
            "                                                                  'price[0][0]']                  \n",
            "                                                                                                  \n",
            " prediction (Sequential)        (None, 3)            3267        ['fusion[0][0]']                 \n",
            "                                                                                                  \n",
            "==================================================================================================\n",
            "Total params: 5,471\n",
            "Trainable params: 5,363\n",
            "Non-trainable params: 108\n",
            "__________________________________________________________________________________________________\n"
          ]
        }
      ]
    },
    {
      "cell_type": "markdown",
      "source": [
        "##### Visualización"
      ],
      "metadata": {
        "id": "ZQKNGc9q9Xoy"
      }
    },
    {
      "cell_type": "code",
      "source": [
        "keras.utils.plot_model( \n",
        "    model_2,\n",
        "    to_file=\"model.png\",\n",
        "    show_shapes=True,\n",
        "    show_dtype=False,\n",
        "    show_layer_names=True,\n",
        "    rankdir=\"TD\",\n",
        "    dpi=180,\n",
        ")"
      ],
      "metadata": {
        "colab": {
          "base_uri": "https://localhost:8080/",
          "height": 521
        },
        "id": "klHRw8D6wqfh",
        "outputId": "d3a2b9a9-873a-4d6c-aca5-60667e2564ef"
      },
      "execution_count": null,
      "outputs": [
        {
          "output_type": "execute_result",
          "data": {
            "image/png": "[encoded data removed]",
            "text/plain": [
              "<IPython.core.display.Image object>"
            ]
          },
          "metadata": {},
          "execution_count": 22
        }
      ]
    },
    {
      "cell_type": "markdown",
      "source": [
        "#### Entrenamiento"
      ],
      "metadata": {
        "id": "CtP1GJd19fnA"
      }
    },
    {
      "cell_type": "code",
      "source": [
        "history = model_2.fit(\n",
        "    [train_prices, train_features], y_train, \n",
        "    epochs = 1000, \n",
        "    callbacks = [earlystop_cb], \n",
        "    validation_data = [[val_prices, val_features], y_val]\n",
        ").history"
      ],
      "metadata": {
        "colab": {
          "base_uri": "https://localhost:8080/"
        },
        "id": "ZUz3sLWZwvve",
        "outputId": "c6091527-26dd-4502-8ff0-ba4c2c45bd7e"
      },
      "execution_count": null,
      "outputs": [
        {
          "output_type": "stream",
          "name": "stdout",
          "text": [
            "Epoch 1/1000\n",
            "263/263 [==============================] - 6s 12ms/step - loss: 1.0995 - val_loss: 1.0965\n",
            "Epoch 2/1000\n",
            "263/263 [==============================] - 3s 10ms/step - loss: 1.0802 - val_loss: 1.0566\n",
            "Epoch 3/1000\n",
            "263/263 [==============================] - 3s 10ms/step - loss: 1.0477 - val_loss: 1.0450\n",
            "Epoch 4/1000\n",
            "263/263 [==============================] - 3s 10ms/step - loss: 1.0383 - val_loss: 1.0549\n",
            "Epoch 5/1000\n",
            "263/263 [==============================] - 3s 10ms/step - loss: 1.0337 - val_loss: 1.0377\n",
            "Epoch 6/1000\n",
            "263/263 [==============================] - 3s 10ms/step - loss: 1.0266 - val_loss: 1.0342\n",
            "Epoch 7/1000\n",
            "263/263 [==============================] - 3s 10ms/step - loss: 1.0226 - val_loss: 1.0313\n",
            "Epoch 8/1000\n",
            "263/263 [==============================] - 3s 11ms/step - loss: 1.0171 - val_loss: 1.0356\n",
            "Epoch 9/1000\n",
            "263/263 [==============================] - 3s 11ms/step - loss: 1.0147 - val_loss: 1.0318\n",
            "Epoch 10/1000\n",
            "263/263 [==============================] - 3s 10ms/step - loss: 1.0122 - val_loss: 1.0443\n",
            "Epoch 11/1000\n",
            "263/263 [==============================] - 3s 11ms/step - loss: 1.0096 - val_loss: 1.0322\n",
            "Epoch 12/1000\n",
            "263/263 [==============================] - 3s 11ms/step - loss: 1.0076 - val_loss: 1.0278\n",
            "Epoch 13/1000\n",
            "263/263 [==============================] - 3s 10ms/step - loss: 1.0051 - val_loss: 1.0362\n",
            "Epoch 14/1000\n",
            "263/263 [==============================] - 3s 10ms/step - loss: 1.0021 - val_loss: 1.0419\n",
            "Epoch 15/1000\n",
            "263/263 [==============================] - 3s 12ms/step - loss: 1.0017 - val_loss: 1.0279\n",
            "Epoch 16/1000\n",
            "263/263 [==============================] - 3s 10ms/step - loss: 0.9991 - val_loss: 1.0283\n",
            "Epoch 17/1000\n",
            "263/263 [==============================] - 3s 11ms/step - loss: 0.9975 - val_loss: 1.0493\n",
            "Epoch 18/1000\n",
            "263/263 [==============================] - 3s 11ms/step - loss: 0.9964 - val_loss: 1.0298\n",
            "Epoch 19/1000\n",
            "263/263 [==============================] - 3s 10ms/step - loss: 0.9946 - val_loss: 1.0256\n",
            "Epoch 20/1000\n",
            "263/263 [==============================] - 3s 10ms/step - loss: 0.9928 - val_loss: 1.0356\n",
            "Epoch 21/1000\n",
            "263/263 [==============================] - 3s 10ms/step - loss: 0.9920 - val_loss: 1.0309\n",
            "Epoch 22/1000\n",
            "263/263 [==============================] - 3s 10ms/step - loss: 0.9903 - val_loss: 1.0286\n",
            "Epoch 23/1000\n",
            "263/263 [==============================] - 3s 10ms/step - loss: 0.9894 - val_loss: 1.0331\n",
            "Epoch 24/1000\n",
            "263/263 [==============================] - 3s 10ms/step - loss: 0.9878 - val_loss: 1.0343\n",
            "Epoch 25/1000\n",
            "263/263 [==============================] - 3s 10ms/step - loss: 0.9855 - val_loss: 1.0364\n",
            "Epoch 26/1000\n",
            "263/263 [==============================] - 3s 10ms/step - loss: 0.9835 - val_loss: 1.0473\n",
            "Epoch 27/1000\n",
            "263/263 [==============================] - 3s 10ms/step - loss: 0.9832 - val_loss: 1.0319\n",
            "Epoch 28/1000\n",
            "263/263 [==============================] - 3s 10ms/step - loss: 0.9812 - val_loss: 1.0351\n",
            "Epoch 29/1000\n",
            "263/263 [==============================] - 3s 10ms/step - loss: 0.9797 - val_loss: 1.0352\n",
            "Epoch 30/1000\n",
            "263/263 [==============================] - 3s 10ms/step - loss: 0.9794 - val_loss: 1.0581\n",
            "Epoch 31/1000\n",
            "263/263 [==============================] - 3s 10ms/step - loss: 0.9782 - val_loss: 1.0379\n",
            "Epoch 32/1000\n",
            "263/263 [==============================] - 3s 10ms/step - loss: 0.9760 - val_loss: 1.0438\n",
            "Epoch 33/1000\n",
            "263/263 [==============================] - 3s 10ms/step - loss: 0.9744 - val_loss: 1.0777\n",
            "Epoch 34/1000\n",
            "263/263 [==============================] - 3s 11ms/step - loss: 0.9735 - val_loss: 1.0346\n",
            "Epoch 35/1000\n",
            "263/263 [==============================] - 3s 10ms/step - loss: 0.9733 - val_loss: 1.0380\n",
            "Epoch 36/1000\n",
            "263/263 [==============================] - 3s 10ms/step - loss: 0.9717 - val_loss: 1.0567\n",
            "Epoch 37/1000\n",
            "263/263 [==============================] - 3s 11ms/step - loss: 0.9697 - val_loss: 1.0440\n",
            "Epoch 38/1000\n",
            "263/263 [==============================] - 3s 10ms/step - loss: 0.9673 - val_loss: 1.0539\n",
            "Epoch 39/1000\n",
            "263/263 [==============================] - 3s 10ms/step - loss: 0.9670 - val_loss: 1.0389\n",
            "Epoch 40/1000\n",
            "263/263 [==============================] - 3s 10ms/step - loss: 0.9641 - val_loss: 1.0408\n",
            "Epoch 41/1000\n",
            "263/263 [==============================] - 3s 10ms/step - loss: 0.9650 - val_loss: 1.0388\n",
            "Epoch 42/1000\n",
            "263/263 [==============================] - 3s 11ms/step - loss: 0.9637 - val_loss: 1.0387\n",
            "Epoch 43/1000\n",
            "263/263 [==============================] - 3s 10ms/step - loss: 0.9630 - val_loss: 1.0478\n",
            "Epoch 44/1000\n",
            "263/263 [==============================] - 3s 10ms/step - loss: 0.9592 - val_loss: 1.0466\n"
          ]
        }
      ]
    },
    {
      "cell_type": "markdown",
      "source": [
        "##### Visualización"
      ],
      "metadata": {
        "id": "MPA5njKp9hSD"
      }
    },
    {
      "cell_type": "code",
      "source": [
        "x = list(range(len(history['loss'])))\n",
        "\n",
        "fig = go.Figure()\n",
        "\n",
        "fig.add_trace(go.Scatter(x = x, y = history['loss'])) \\\n",
        "   .add_trace(go.Scatter(x = x, y = history['val_loss'])) \\\n",
        "   .update_layout(hovermode = 'x')\n",
        "\n",
        "fig.show()"
      ],
      "metadata": {
        "colab": {
          "base_uri": "https://localhost:8080/",
          "height": 542
        },
        "id": "PKH6BN1wxFnm",
        "outputId": "1c34c5b9-9542-4a1a-d0ea-6591364ff144"
      },
      "execution_count": null,
      "outputs": [
        {
          "output_type": "display_data",
          "data": {
            "text/html": [
              "<html>\n",
              "<head><meta charset=\"utf-8\" /></head>\n",
              "<body>\n",
              "    <div>            <script src=\"https://cdnjs.cloudflare.com/ajax/libs/mathjax/2.7.5/MathJax.js?config=TeX-AMS-MML_SVG\"></script><script type=\"text/javascript\">if (window.MathJax) {MathJax.Hub.Config({SVG: {font: \"STIX-Web\"}});}</script>                <script type=\"text/javascript\">window.PlotlyConfig = {MathJaxConfig: 'local'};</script>\n",
              "        <script src=\"https://cdn.plot.ly/plotly-2.8.3.min.js\"></script>                <div id=\"f79bc8e6-a352-4fc6-9a29-ec0b0818ea97\" class=\"plotly-graph-div\" style=\"height:525px; width:100%;\"></div>            <script type=\"text/javascript\">                                    window.PLOTLYENV=window.PLOTLYENV || {};                                    if (document.getElementById(\"f79bc8e6-a352-4fc6-9a29-ec0b0818ea97\")) {                    Plotly.newPlot(                        \"f79bc8e6-a352-4fc6-9a29-ec0b0818ea97\",                        [{\"x\":[0,1,2,3,4,5,6,7,8,9,10,11,12,13,14,15,16,17,18,19,20,21,22,23,24,25,26,27,28,29,30,31,32,33,34,35,36,37,38,39,40,41,42,43],\"y\":[1.0995264053344727,1.080194354057312,1.047705054283142,1.0383100509643555,1.0337365865707397,1.0266493558883667,1.0226348638534546,1.0171016454696655,1.014747142791748,1.0122225284576416,1.0096369981765747,1.0075891017913818,1.005114197731018,1.0020941495895386,1.0016738176345825,0.999104380607605,0.9974762797355652,0.996422290802002,0.994584858417511,0.9928107857704163,0.9919861555099487,0.9902808666229248,0.9893692135810852,0.9877740144729614,0.9855200052261353,0.983485758304596,0.9831752181053162,0.9811677932739258,0.9797425866127014,0.9793733954429626,0.9781641960144043,0.9760245680809021,0.9743815660476685,0.9734899997711182,0.9733126163482666,0.9717254638671875,0.9697297811508179,0.9672507643699646,0.9670093655586243,0.9641335010528564,0.9649850130081177,0.9636748433113098,0.9629974365234375,0.9591636061668396],\"type\":\"scatter\"},{\"x\":[0,1,2,3,4,5,6,7,8,9,10,11,12,13,14,15,16,17,18,19,20,21,22,23,24,25,26,27,28,29,30,31,32,33,34,35,36,37,38,39,40,41,42,43],\"y\":[1.0965455770492554,1.056606411933899,1.044961929321289,1.0548955202102661,1.0377322435379028,1.0342448949813843,1.0313078165054321,1.0356365442276,1.0317586660385132,1.0443413257598877,1.032227635383606,1.027786135673523,1.0362292528152466,1.0419440269470215,1.0278573036193848,1.0283441543579102,1.0493329763412476,1.0297809839248657,1.0256131887435913,1.0356109142303467,1.030884027481079,1.028635025024414,1.0331224203109741,1.0343308448791504,1.0363930463790894,1.047302007675171,1.0318689346313477,1.0350767374038696,1.0352033376693726,1.0580788850784302,1.037894606590271,1.0437841415405273,1.0776804685592651,1.0346367359161377,1.0380191802978516,1.0567017793655396,1.0439952611923218,1.0538537502288818,1.0388537645339966,1.0407836437225342,1.0387768745422363,1.0387014150619507,1.0478101968765259,1.046618938446045],\"type\":\"scatter\"}],                        {\"template\":{\"data\":{\"bar\":[{\"error_x\":{\"color\":\"#2a3f5f\"},\"error_y\":{\"color\":\"#2a3f5f\"},\"marker\":{\"line\":{\"color\":\"#E5ECF6\",\"width\":0.5},\"pattern\":{\"fillmode\":\"overlay\",\"size\":10,\"solidity\":0.2}},\"type\":\"bar\"}],\"barpolar\":[{\"marker\":{\"line\":{\"color\":\"#E5ECF6\",\"width\":0.5},\"pattern\":{\"fillmode\":\"overlay\",\"size\":10,\"solidity\":0.2}},\"type\":\"barpolar\"}],\"carpet\":[{\"aaxis\":{\"endlinecolor\":\"#2a3f5f\",\"gridcolor\":\"white\",\"linecolor\":\"white\",\"minorgridcolor\":\"white\",\"startlinecolor\":\"#2a3f5f\"},\"baxis\":{\"endlinecolor\":\"#2a3f5f\",\"gridcolor\":\"white\",\"linecolor\":\"white\",\"minorgridcolor\":\"white\",\"startlinecolor\":\"#2a3f5f\"},\"type\":\"carpet\"}],\"choropleth\":[{\"colorbar\":{\"outlinewidth\":0,\"ticks\":\"\"},\"type\":\"choropleth\"}],\"contour\":[{\"colorbar\":{\"outlinewidth\":0,\"ticks\":\"\"},\"colorscale\":[[0.0,\"#0d0887\"],[0.1111111111111111,\"#46039f\"],[0.2222222222222222,\"#7201a8\"],[0.3333333333333333,\"#9c179e\"],[0.4444444444444444,\"#bd3786\"],[0.5555555555555556,\"#d8576b\"],[0.6666666666666666,\"#ed7953\"],[0.7777777777777778,\"#fb9f3a\"],[0.8888888888888888,\"#fdca26\"],[1.0,\"#f0f921\"]],\"type\":\"contour\"}],\"contourcarpet\":[{\"colorbar\":{\"outlinewidth\":0,\"ticks\":\"\"},\"type\":\"contourcarpet\"}],\"heatmap\":[{\"colorbar\":{\"outlinewidth\":0,\"ticks\":\"\"},\"colorscale\":[[0.0,\"#0d0887\"],[0.1111111111111111,\"#46039f\"],[0.2222222222222222,\"#7201a8\"],[0.3333333333333333,\"#9c179e\"],[0.4444444444444444,\"#bd3786\"],[0.5555555555555556,\"#d8576b\"],[0.6666666666666666,\"#ed7953\"],[0.7777777777777778,\"#fb9f3a\"],[0.8888888888888888,\"#fdca26\"],[1.0,\"#f0f921\"]],\"type\":\"heatmap\"}],\"heatmapgl\":[{\"colorbar\":{\"outlinewidth\":0,\"ticks\":\"\"},\"colorscale\":[[0.0,\"#0d0887\"],[0.1111111111111111,\"#46039f\"],[0.2222222222222222,\"#7201a8\"],[0.3333333333333333,\"#9c179e\"],[0.4444444444444444,\"#bd3786\"],[0.5555555555555556,\"#d8576b\"],[0.6666666666666666,\"#ed7953\"],[0.7777777777777778,\"#fb9f3a\"],[0.8888888888888888,\"#fdca26\"],[1.0,\"#f0f921\"]],\"type\":\"heatmapgl\"}],\"histogram\":[{\"marker\":{\"pattern\":{\"fillmode\":\"overlay\",\"size\":10,\"solidity\":0.2}},\"type\":\"histogram\"}],\"histogram2d\":[{\"colorbar\":{\"outlinewidth\":0,\"ticks\":\"\"},\"colorscale\":[[0.0,\"#0d0887\"],[0.1111111111111111,\"#46039f\"],[0.2222222222222222,\"#7201a8\"],[0.3333333333333333,\"#9c179e\"],[0.4444444444444444,\"#bd3786\"],[0.5555555555555556,\"#d8576b\"],[0.6666666666666666,\"#ed7953\"],[0.7777777777777778,\"#fb9f3a\"],[0.8888888888888888,\"#fdca26\"],[1.0,\"#f0f921\"]],\"type\":\"histogram2d\"}],\"histogram2dcontour\":[{\"colorbar\":{\"outlinewidth\":0,\"ticks\":\"\"},\"colorscale\":[[0.0,\"#0d0887\"],[0.1111111111111111,\"#46039f\"],[0.2222222222222222,\"#7201a8\"],[0.3333333333333333,\"#9c179e\"],[0.4444444444444444,\"#bd3786\"],[0.5555555555555556,\"#d8576b\"],[0.6666666666666666,\"#ed7953\"],[0.7777777777777778,\"#fb9f3a\"],[0.8888888888888888,\"#fdca26\"],[1.0,\"#f0f921\"]],\"type\":\"histogram2dcontour\"}],\"mesh3d\":[{\"colorbar\":{\"outlinewidth\":0,\"ticks\":\"\"},\"type\":\"mesh3d\"}],\"parcoords\":[{\"line\":{\"colorbar\":{\"outlinewidth\":0,\"ticks\":\"\"}},\"type\":\"parcoords\"}],\"pie\":[{\"automargin\":true,\"type\":\"pie\"}],\"scatter\":[{\"marker\":{\"colorbar\":{\"outlinewidth\":0,\"ticks\":\"\"}},\"type\":\"scatter\"}],\"scatter3d\":[{\"line\":{\"colorbar\":{\"outlinewidth\":0,\"ticks\":\"\"}},\"marker\":{\"colorbar\":{\"outlinewidth\":0,\"ticks\":\"\"}},\"type\":\"scatter3d\"}],\"scattercarpet\":[{\"marker\":{\"colorbar\":{\"outlinewidth\":0,\"ticks\":\"\"}},\"type\":\"scattercarpet\"}],\"scattergeo\":[{\"marker\":{\"colorbar\":{\"outlinewidth\":0,\"ticks\":\"\"}},\"type\":\"scattergeo\"}],\"scattergl\":[{\"marker\":{\"colorbar\":{\"outlinewidth\":0,\"ticks\":\"\"}},\"type\":\"scattergl\"}],\"scattermapbox\":[{\"marker\":{\"colorbar\":{\"outlinewidth\":0,\"ticks\":\"\"}},\"type\":\"scattermapbox\"}],\"scatterpolar\":[{\"marker\":{\"colorbar\":{\"outlinewidth\":0,\"ticks\":\"\"}},\"type\":\"scatterpolar\"}],\"scatterpolargl\":[{\"marker\":{\"colorbar\":{\"outlinewidth\":0,\"ticks\":\"\"}},\"type\":\"scatterpolargl\"}],\"scatterternary\":[{\"marker\":{\"colorbar\":{\"outlinewidth\":0,\"ticks\":\"\"}},\"type\":\"scatterternary\"}],\"surface\":[{\"colorbar\":{\"outlinewidth\":0,\"ticks\":\"\"},\"colorscale\":[[0.0,\"#0d0887\"],[0.1111111111111111,\"#46039f\"],[0.2222222222222222,\"#7201a8\"],[0.3333333333333333,\"#9c179e\"],[0.4444444444444444,\"#bd3786\"],[0.5555555555555556,\"#d8576b\"],[0.6666666666666666,\"#ed7953\"],[0.7777777777777778,\"#fb9f3a\"],[0.8888888888888888,\"#fdca26\"],[1.0,\"#f0f921\"]],\"type\":\"surface\"}],\"table\":[{\"cells\":{\"fill\":{\"color\":\"#EBF0F8\"},\"line\":{\"color\":\"white\"}},\"header\":{\"fill\":{\"color\":\"#C8D4E3\"},\"line\":{\"color\":\"white\"}},\"type\":\"table\"}]},\"layout\":{\"annotationdefaults\":{\"arrowcolor\":\"#2a3f5f\",\"arrowhead\":0,\"arrowwidth\":1},\"autotypenumbers\":\"strict\",\"coloraxis\":{\"colorbar\":{\"outlinewidth\":0,\"ticks\":\"\"}},\"colorscale\":{\"diverging\":[[0,\"#8e0152\"],[0.1,\"#c51b7d\"],[0.2,\"#de77ae\"],[0.3,\"#f1b6da\"],[0.4,\"#fde0ef\"],[0.5,\"#f7f7f7\"],[0.6,\"#e6f5d0\"],[0.7,\"#b8e186\"],[0.8,\"#7fbc41\"],[0.9,\"#4d9221\"],[1,\"#276419\"]],\"sequential\":[[0.0,\"#0d0887\"],[0.1111111111111111,\"#46039f\"],[0.2222222222222222,\"#7201a8\"],[0.3333333333333333,\"#9c179e\"],[0.4444444444444444,\"#bd3786\"],[0.5555555555555556,\"#d8576b\"],[0.6666666666666666,\"#ed7953\"],[0.7777777777777778,\"#fb9f3a\"],[0.8888888888888888,\"#fdca26\"],[1.0,\"#f0f921\"]],\"sequentialminus\":[[0.0,\"#0d0887\"],[0.1111111111111111,\"#46039f\"],[0.2222222222222222,\"#7201a8\"],[0.3333333333333333,\"#9c179e\"],[0.4444444444444444,\"#bd3786\"],[0.5555555555555556,\"#d8576b\"],[0.6666666666666666,\"#ed7953\"],[0.7777777777777778,\"#fb9f3a\"],[0.8888888888888888,\"#fdca26\"],[1.0,\"#f0f921\"]]},\"colorway\":[\"#636efa\",\"#EF553B\",\"#00cc96\",\"#ab63fa\",\"#FFA15A\",\"#19d3f3\",\"#FF6692\",\"#B6E880\",\"#FF97FF\",\"#FECB52\"],\"font\":{\"color\":\"#2a3f5f\"},\"geo\":{\"bgcolor\":\"white\",\"lakecolor\":\"white\",\"landcolor\":\"#E5ECF6\",\"showlakes\":true,\"showland\":true,\"subunitcolor\":\"white\"},\"hoverlabel\":{\"align\":\"left\"},\"hovermode\":\"closest\",\"mapbox\":{\"style\":\"light\"},\"paper_bgcolor\":\"white\",\"plot_bgcolor\":\"#E5ECF6\",\"polar\":{\"angularaxis\":{\"gridcolor\":\"white\",\"linecolor\":\"white\",\"ticks\":\"\"},\"bgcolor\":\"#E5ECF6\",\"radialaxis\":{\"gridcolor\":\"white\",\"linecolor\":\"white\",\"ticks\":\"\"}},\"scene\":{\"xaxis\":{\"backgroundcolor\":\"#E5ECF6\",\"gridcolor\":\"white\",\"gridwidth\":2,\"linecolor\":\"white\",\"showbackground\":true,\"ticks\":\"\",\"zerolinecolor\":\"white\"},\"yaxis\":{\"backgroundcolor\":\"#E5ECF6\",\"gridcolor\":\"white\",\"gridwidth\":2,\"linecolor\":\"white\",\"showbackground\":true,\"ticks\":\"\",\"zerolinecolor\":\"white\"},\"zaxis\":{\"backgroundcolor\":\"#E5ECF6\",\"gridcolor\":\"white\",\"gridwidth\":2,\"linecolor\":\"white\",\"showbackground\":true,\"ticks\":\"\",\"zerolinecolor\":\"white\"}},\"shapedefaults\":{\"line\":{\"color\":\"#2a3f5f\"}},\"ternary\":{\"aaxis\":{\"gridcolor\":\"white\",\"linecolor\":\"white\",\"ticks\":\"\"},\"baxis\":{\"gridcolor\":\"white\",\"linecolor\":\"white\",\"ticks\":\"\"},\"bgcolor\":\"#E5ECF6\",\"caxis\":{\"gridcolor\":\"white\",\"linecolor\":\"white\",\"ticks\":\"\"}},\"title\":{\"x\":0.05},\"xaxis\":{\"automargin\":true,\"gridcolor\":\"white\",\"linecolor\":\"white\",\"ticks\":\"\",\"title\":{\"standoff\":15},\"zerolinecolor\":\"white\",\"zerolinewidth\":2},\"yaxis\":{\"automargin\":true,\"gridcolor\":\"white\",\"linecolor\":\"white\",\"ticks\":\"\",\"title\":{\"standoff\":15},\"zerolinecolor\":\"white\",\"zerolinewidth\":2}}},\"hovermode\":\"x\"},                        {\"responsive\": true}                    ).then(function(){\n",
              "                            \n",
              "var gd = document.getElementById('f79bc8e6-a352-4fc6-9a29-ec0b0818ea97');\n",
              "var x = new MutationObserver(function (mutations, observer) {{\n",
              "        var display = window.getComputedStyle(gd).display;\n",
              "        if (!display || display === 'none') {{\n",
              "            console.log([gd, 'removed!']);\n",
              "            Plotly.purge(gd);\n",
              "            observer.disconnect();\n",
              "        }}\n",
              "}});\n",
              "\n",
              "// Listen for the removal of the full notebook cells\n",
              "var notebookContainer = gd.closest('#notebook-container');\n",
              "if (notebookContainer) {{\n",
              "    x.observe(notebookContainer, {childList: true});\n",
              "}}\n",
              "\n",
              "// Listen for the clearing of the current output cell\n",
              "var outputEl = gd.closest('.output');\n",
              "if (outputEl) {{\n",
              "    x.observe(outputEl, {childList: true});\n",
              "}}\n",
              "\n",
              "                        })                };                            </script>        </div>\n",
              "</body>\n",
              "</html>"
            ]
          },
          "metadata": {}
        }
      ]
    },
    {
      "cell_type": "markdown",
      "source": [
        "#### Métricas"
      ],
      "metadata": {
        "id": "6-HU-waK9i8W"
      }
    },
    {
      "cell_type": "code",
      "source": [
        "evaluate_model(model_2, [[train_prices, train_features], y_train], [[val_prices, val_features], y_val], [[test_prices, test_features], y_test])"
      ],
      "metadata": {
        "colab": {
          "base_uri": "https://localhost:8080/"
        },
        "id": "JoxILpLy0d_n",
        "outputId": "35c0d7b2-f0f7-4788-b459-78e057ca59fc"
      },
      "execution_count": null,
      "outputs": [
        {
          "output_type": "stream",
          "name": "stdout",
          "text": [
            "train cross_entropy =  0.984365701675415\n",
            "  val cross_entropy =  1.0256131887435913\n",
            " test cross_entropy =  1.032956600189209\n"
          ]
        }
      ]
    },
    {
      "cell_type": "markdown",
      "source": [
        "### Tercera Arquitectura"
      ],
      "metadata": {
        "id": "EinK3G6r9kAD"
      }
    },
    {
      "cell_type": "markdown",
      "source": [
        "#### Arquitectura"
      ],
      "metadata": {
        "id": "tSKt3k3d9mle"
      }
    },
    {
      "cell_type": "code",
      "source": [
        "fusion_dim = 8\n",
        "\n",
        "price_input = layers.Input(shape = (len_prices,), name = 'price_input')\n",
        "\n",
        "price_layer = keras.models.Sequential(\n",
        "    [\n",
        "     layers.Normalization(name = 'price_normalization'), \n",
        "     layers.Dense(8, activation = 'tanh'), \n",
        "     layers.Dense(8, activation = 'relu'),\n",
        "     layers.Dense(8, activation = 'tanh'), \n",
        "     layers.Dense(fusion_dim, activation = 'relu'),\n",
        "    ], \n",
        "    name = 'price'\n",
        ")\n",
        "\n",
        "price_output = price_layer(price_input)\n",
        "\n",
        "sentiment_input = layers.Input(shape = (len_features, n_features), name = 'sentiment_input')\n",
        "sentiment_normalization = layers.Normalization(name = 'sentiment_normalization', axis = 1)\n",
        "sentiment_lstm = layers.LSTM(fusion_dim, name = 'sentiment')\n",
        "\n",
        "sentiment_normalized = sentiment_normalization(sentiment_input)\n",
        "sentiment_output = sentiment_lstm(sentiment_normalized)\n",
        "\n",
        "fusion = layers.Multiply(name = 'hadamard_product')([sentiment_output, price_output])\n",
        "\n",
        "prediction_layer = keras.models.Sequential(\n",
        "    [\n",
        "     layers.Dense(8, activation = 'tanh'), \n",
        "     layers.Dense(8, activation = 'relu'), \n",
        "     layers.Dense(8, activation = 'sigmoid'), \n",
        "     layers.Dense(3, activation = 'softmax')\n",
        "    ], \n",
        "    name = 'prediction'\n",
        ")\n",
        "prediction_output = prediction_layer(fusion)"
      ],
      "metadata": {
        "id": "4s3tIf0m2p2r"
      },
      "execution_count": null,
      "outputs": []
    },
    {
      "cell_type": "markdown",
      "source": [
        "#### Modelo"
      ],
      "metadata": {
        "id": "HhmCFsf89phq"
      }
    },
    {
      "cell_type": "code",
      "source": [
        "model_3 = keras.Model([price_input, sentiment_input], prediction_output)\n",
        "\n",
        "model_3.compile(\n",
        "    loss = 'categorical_crossentropy'\n",
        ")\n",
        "\n",
        "model_3.summary()"
      ],
      "metadata": {
        "colab": {
          "base_uri": "https://localhost:8080/"
        },
        "id": "DmQXsGd63SfN",
        "outputId": "1b1c4c93-1c13-4ff5-ab7d-feedf7dc5c29"
      },
      "execution_count": null,
      "outputs": [
        {
          "output_type": "stream",
          "name": "stdout",
          "text": [
            "Model: \"model_3\"\n",
            "__________________________________________________________________________________________________\n",
            " Layer (type)                   Output Shape         Param #     Connected to                     \n",
            "==================================================================================================\n",
            " sentiment_input (InputLayer)   [(None, 48, 10)]     0           []                               \n",
            "                                                                                                  \n",
            " sentiment_normalization (Norma  (None, 48, 10)      97          ['sentiment_input[0][0]']        \n",
            " lization)                                                                                        \n",
            "                                                                                                  \n",
            " price_input (InputLayer)       [(None, 5)]          0           []                               \n",
            "                                                                                                  \n",
            " sentiment (LSTM)               (None, 8)            608         ['sentiment_normalization[0][0]']\n",
            "                                                                                                  \n",
            " price (Sequential)             (None, 8)            275         ['price_input[0][0]']            \n",
            "                                                                                                  \n",
            " hadamard_product (Multiply)    (None, 8)            0           ['sentiment[0][0]',              \n",
            "                                                                  'price[0][0]']                  \n",
            "                                                                                                  \n",
            " prediction (Sequential)        (None, 3)            243         ['hadamard_product[0][0]']       \n",
            "                                                                                                  \n",
            "==================================================================================================\n",
            "Total params: 1,223\n",
            "Trainable params: 1,115\n",
            "Non-trainable params: 108\n",
            "__________________________________________________________________________________________________\n"
          ]
        }
      ]
    },
    {
      "cell_type": "markdown",
      "source": [
        "##### Visualización"
      ],
      "metadata": {
        "id": "ct6SNKKd9rS9"
      }
    },
    {
      "cell_type": "code",
      "source": [
        "keras.utils.plot_model( \n",
        "    model_3,\n",
        "    to_file=\"model.png\",\n",
        "    show_shapes=True,\n",
        "    show_dtype=False,\n",
        "    show_layer_names=True,\n",
        "    rankdir=\"TD\",\n",
        "    dpi=180,\n",
        ")"
      ],
      "metadata": {
        "colab": {
          "base_uri": "https://localhost:8080/",
          "height": 521
        },
        "id": "-Kr3cOHZ3WVc",
        "outputId": "1cc47413-7489-4fb1-83e0-10d57f2fb02c"
      },
      "execution_count": null,
      "outputs": [
        {
          "output_type": "execute_result",
          "data": {
            "image/png": "[encoded data removed]",
            "text/plain": [
              "<IPython.core.display.Image object>"
            ]
          },
          "metadata": {},
          "execution_count": 28
        }
      ]
    },
    {
      "cell_type": "markdown",
      "source": [
        "#### Entrenamiento"
      ],
      "metadata": {
        "id": "BpHIwaTI9tVn"
      }
    },
    {
      "cell_type": "code",
      "source": [
        "history = model_3.fit(\n",
        "    [train_prices, train_features], y_train, \n",
        "    epochs = 1000, \n",
        "    callbacks = [earlystop_cb], \n",
        "    validation_data = [[val_prices, val_features], y_val]\n",
        ").history"
      ],
      "metadata": {
        "colab": {
          "base_uri": "https://localhost:8080/"
        },
        "id": "2uSf0H5r3Yc7",
        "outputId": "08b0a639-ae12-45d8-80b5-46abaf25be24"
      },
      "execution_count": null,
      "outputs": [
        {
          "output_type": "stream",
          "name": "stdout",
          "text": [
            "Epoch 1/1000\n",
            "263/263 [==============================] - 7s 15ms/step - loss: 1.1077 - val_loss: 1.0988\n",
            "Epoch 2/1000\n",
            "263/263 [==============================] - 3s 12ms/step - loss: 1.0977 - val_loss: 1.1008\n",
            "Epoch 3/1000\n",
            "263/263 [==============================] - 3s 12ms/step - loss: 1.0968 - val_loss: 1.0977\n",
            "Epoch 4/1000\n",
            "263/263 [==============================] - 3s 11ms/step - loss: 1.0940 - val_loss: 1.0951\n",
            "Epoch 5/1000\n",
            "263/263 [==============================] - 3s 11ms/step - loss: 1.0855 - val_loss: 1.0839\n",
            "Epoch 6/1000\n",
            "263/263 [==============================] - 3s 11ms/step - loss: 1.0722 - val_loss: 1.0765\n",
            "Epoch 7/1000\n",
            "263/263 [==============================] - 3s 11ms/step - loss: 1.0620 - val_loss: 1.0719\n",
            "Epoch 8/1000\n",
            "263/263 [==============================] - 3s 12ms/step - loss: 1.0548 - val_loss: 1.0678\n",
            "Epoch 9/1000\n",
            "263/263 [==============================] - 3s 11ms/step - loss: 1.0501 - val_loss: 1.0681\n",
            "Epoch 10/1000\n",
            "263/263 [==============================] - 3s 11ms/step - loss: 1.0455 - val_loss: 1.0679\n",
            "Epoch 11/1000\n",
            "263/263 [==============================] - 3s 11ms/step - loss: 1.0432 - val_loss: 1.0625\n",
            "Epoch 12/1000\n",
            "263/263 [==============================] - 3s 11ms/step - loss: 1.0391 - val_loss: 1.0651\n",
            "Epoch 13/1000\n",
            "263/263 [==============================] - 3s 11ms/step - loss: 1.0382 - val_loss: 1.0645\n",
            "Epoch 14/1000\n",
            "263/263 [==============================] - 3s 11ms/step - loss: 1.0360 - val_loss: 1.0633\n",
            "Epoch 15/1000\n",
            "263/263 [==============================] - 3s 11ms/step - loss: 1.0343 - val_loss: 1.0618\n",
            "Epoch 16/1000\n",
            "263/263 [==============================] - 3s 11ms/step - loss: 1.0328 - val_loss: 1.0638\n",
            "Epoch 17/1000\n",
            "263/263 [==============================] - 3s 12ms/step - loss: 1.0304 - val_loss: 1.0639\n",
            "Epoch 18/1000\n",
            "263/263 [==============================] - 3s 11ms/step - loss: 1.0285 - val_loss: 1.0624\n",
            "Epoch 19/1000\n",
            "263/263 [==============================] - 3s 11ms/step - loss: 1.0284 - val_loss: 1.0623\n",
            "Epoch 20/1000\n",
            "263/263 [==============================] - 3s 11ms/step - loss: 1.0264 - val_loss: 1.0662\n",
            "Epoch 21/1000\n",
            "263/263 [==============================] - 3s 11ms/step - loss: 1.0263 - val_loss: 1.0610\n",
            "Epoch 22/1000\n",
            "263/263 [==============================] - 3s 11ms/step - loss: 1.0265 - val_loss: 1.0654\n",
            "Epoch 23/1000\n",
            "263/263 [==============================] - 3s 11ms/step - loss: 1.0235 - val_loss: 1.0641\n",
            "Epoch 24/1000\n",
            "263/263 [==============================] - 3s 11ms/step - loss: 1.0229 - val_loss: 1.0631\n",
            "Epoch 25/1000\n",
            "263/263 [==============================] - 3s 11ms/step - loss: 1.0218 - val_loss: 1.0630\n",
            "Epoch 26/1000\n",
            "263/263 [==============================] - 3s 11ms/step - loss: 1.0194 - val_loss: 1.0644\n",
            "Epoch 27/1000\n",
            "263/263 [==============================] - 3s 11ms/step - loss: 1.0194 - val_loss: 1.0656\n",
            "Epoch 28/1000\n",
            "263/263 [==============================] - 3s 11ms/step - loss: 1.0192 - val_loss: 1.0659\n",
            "Epoch 29/1000\n",
            "263/263 [==============================] - 3s 11ms/step - loss: 1.0172 - val_loss: 1.0642\n",
            "Epoch 30/1000\n",
            "263/263 [==============================] - 3s 11ms/step - loss: 1.0175 - val_loss: 1.0686\n",
            "Epoch 31/1000\n",
            "263/263 [==============================] - 3s 11ms/step - loss: 1.0153 - val_loss: 1.0667\n",
            "Epoch 32/1000\n",
            "263/263 [==============================] - 3s 11ms/step - loss: 1.0150 - val_loss: 1.0622\n",
            "Epoch 33/1000\n",
            "263/263 [==============================] - 3s 11ms/step - loss: 1.0132 - val_loss: 1.0669\n",
            "Epoch 34/1000\n",
            "263/263 [==============================] - 3s 11ms/step - loss: 1.0129 - val_loss: 1.0678\n",
            "Epoch 35/1000\n",
            "263/263 [==============================] - 3s 11ms/step - loss: 1.0119 - val_loss: 1.0698\n",
            "Epoch 36/1000\n",
            "263/263 [==============================] - 3s 11ms/step - loss: 1.0114 - val_loss: 1.0683\n",
            "Epoch 37/1000\n",
            "263/263 [==============================] - 3s 12ms/step - loss: 1.0094 - val_loss: 1.0625\n",
            "Epoch 38/1000\n",
            "263/263 [==============================] - 3s 11ms/step - loss: 1.0108 - val_loss: 1.0674\n",
            "Epoch 39/1000\n",
            "263/263 [==============================] - 3s 11ms/step - loss: 1.0097 - val_loss: 1.0640\n",
            "Epoch 40/1000\n",
            "263/263 [==============================] - 3s 11ms/step - loss: 1.0090 - val_loss: 1.0634\n",
            "Epoch 41/1000\n",
            "263/263 [==============================] - 3s 11ms/step - loss: 1.0055 - val_loss: 1.0639\n",
            "Epoch 42/1000\n",
            "263/263 [==============================] - 3s 11ms/step - loss: 1.0056 - val_loss: 1.0688\n",
            "Epoch 43/1000\n",
            "263/263 [==============================] - 3s 11ms/step - loss: 1.0048 - val_loss: 1.0675\n",
            "Epoch 44/1000\n",
            "263/263 [==============================] - 3s 11ms/step - loss: 1.0053 - val_loss: 1.0652\n",
            "Epoch 45/1000\n",
            "263/263 [==============================] - 3s 11ms/step - loss: 1.0040 - val_loss: 1.0648\n",
            "Epoch 46/1000\n",
            "263/263 [==============================] - 3s 12ms/step - loss: 1.0034 - val_loss: 1.0665\n"
          ]
        }
      ]
    },
    {
      "cell_type": "markdown",
      "source": [
        "##### Visualización"
      ],
      "metadata": {
        "id": "DarEX0pr9wQz"
      }
    },
    {
      "cell_type": "code",
      "source": [
        "x = list(range(len(history['loss'])))\n",
        "\n",
        "fig = go.Figure()\n",
        "\n",
        "fig.add_trace(go.Scatter(x = x, y = history['loss'])) \\\n",
        "   .add_trace(go.Scatter(x = x, y = history['val_loss'])) \\\n",
        "   .update_layout(hovermode = 'x')\n",
        "\n",
        "fig.show()"
      ],
      "metadata": {
        "colab": {
          "base_uri": "https://localhost:8080/",
          "height": 542
        },
        "id": "0iC6uX4J3s24",
        "outputId": "a55d4abe-7b5c-459a-f444-c62ca8207e7e"
      },
      "execution_count": null,
      "outputs": [
        {
          "output_type": "display_data",
          "data": {
            "text/html": [
              "<html>\n",
              "<head><meta charset=\"utf-8\" /></head>\n",
              "<body>\n",
              "    <div>            <script src=\"https://cdnjs.cloudflare.com/ajax/libs/mathjax/2.7.5/MathJax.js?config=TeX-AMS-MML_SVG\"></script><script type=\"text/javascript\">if (window.MathJax) {MathJax.Hub.Config({SVG: {font: \"STIX-Web\"}});}</script>                <script type=\"text/javascript\">window.PlotlyConfig = {MathJaxConfig: 'local'};</script>\n",
              "        <script src=\"https://cdn.plot.ly/plotly-2.8.3.min.js\"></script>                <div id=\"c0f8e8f8-e4b8-4e60-9ff8-ef156bc29ff6\" class=\"plotly-graph-div\" style=\"height:525px; width:100%;\"></div>            <script type=\"text/javascript\">                                    window.PLOTLYENV=window.PLOTLYENV || {};                                    if (document.getElementById(\"c0f8e8f8-e4b8-4e60-9ff8-ef156bc29ff6\")) {                    Plotly.newPlot(                        \"c0f8e8f8-e4b8-4e60-9ff8-ef156bc29ff6\",                        [{\"x\":[0,1,2,3,4,5,6,7,8,9,10,11,12,13,14,15,16,17,18,19,20,21,22,23,24,25,26,27,28,29,30,31,32,33,34,35,36,37,38,39,40,41,42,43,44,45],\"y\":[1.1077028512954712,1.0977452993392944,1.096803903579712,1.093961477279663,1.0854583978652954,1.072172999382019,1.061975121498108,1.0547809600830078,1.050140142440796,1.0455224514007568,1.043209433555603,1.0390515327453613,1.038246750831604,1.036031723022461,1.034305214881897,1.0328024625778198,1.0303961038589478,1.0284734964370728,1.0283828973770142,1.0263845920562744,1.0262632369995117,1.0265103578567505,1.0234735012054443,1.0229377746582031,1.021805763244629,1.019447684288025,1.0193514823913574,1.0192264318466187,1.0172231197357178,1.017464280128479,1.0153471231460571,1.0149725675582886,1.0131694078445435,1.0129145383834839,1.0118751525878906,1.0113788843154907,1.0093594789505005,1.0108363628387451,1.009668231010437,1.0089917182922363,1.0055450201034546,1.0056440830230713,1.004762053489685,1.0053000450134277,1.003969669342041,1.0034385919570923],\"type\":\"scatter\"},{\"x\":[0,1,2,3,4,5,6,7,8,9,10,11,12,13,14,15,16,17,18,19,20,21,22,23,24,25,26,27,28,29,30,31,32,33,34,35,36,37,38,39,40,41,42,43,44,45],\"y\":[1.0988068580627441,1.1008034944534302,1.0976684093475342,1.0951343774795532,1.0839399099349976,1.076451301574707,1.0718724727630615,1.0677604675292969,1.0681426525115967,1.067898154258728,1.0625338554382324,1.0650513172149658,1.064483642578125,1.0632718801498413,1.0617810487747192,1.063825249671936,1.0639091730117798,1.0624258518218994,1.0622624158859253,1.0661518573760986,1.0609599351882935,1.065353512763977,1.0640552043914795,1.0630635023117065,1.0629897117614746,1.064426302909851,1.0655566453933716,1.0659451484680176,1.0641909837722778,1.0685847997665405,1.066699743270874,1.0622471570968628,1.066871166229248,1.067792296409607,1.0698269605636597,1.068284511566162,1.0624825954437256,1.0674235820770264,1.064009428024292,1.0633716583251953,1.063902497291565,1.0687997341156006,1.0675122737884521,1.0651506185531616,1.0648258924484253,1.0665026903152466],\"type\":\"scatter\"}],                        {\"template\":{\"data\":{\"bar\":[{\"error_x\":{\"color\":\"#2a3f5f\"},\"error_y\":{\"color\":\"#2a3f5f\"},\"marker\":{\"line\":{\"color\":\"#E5ECF6\",\"width\":0.5},\"pattern\":{\"fillmode\":\"overlay\",\"size\":10,\"solidity\":0.2}},\"type\":\"bar\"}],\"barpolar\":[{\"marker\":{\"line\":{\"color\":\"#E5ECF6\",\"width\":0.5},\"pattern\":{\"fillmode\":\"overlay\",\"size\":10,\"solidity\":0.2}},\"type\":\"barpolar\"}],\"carpet\":[{\"aaxis\":{\"endlinecolor\":\"#2a3f5f\",\"gridcolor\":\"white\",\"linecolor\":\"white\",\"minorgridcolor\":\"white\",\"startlinecolor\":\"#2a3f5f\"},\"baxis\":{\"endlinecolor\":\"#2a3f5f\",\"gridcolor\":\"white\",\"linecolor\":\"white\",\"minorgridcolor\":\"white\",\"startlinecolor\":\"#2a3f5f\"},\"type\":\"carpet\"}],\"choropleth\":[{\"colorbar\":{\"outlinewidth\":0,\"ticks\":\"\"},\"type\":\"choropleth\"}],\"contour\":[{\"colorbar\":{\"outlinewidth\":0,\"ticks\":\"\"},\"colorscale\":[[0.0,\"#0d0887\"],[0.1111111111111111,\"#46039f\"],[0.2222222222222222,\"#7201a8\"],[0.3333333333333333,\"#9c179e\"],[0.4444444444444444,\"#bd3786\"],[0.5555555555555556,\"#d8576b\"],[0.6666666666666666,\"#ed7953\"],[0.7777777777777778,\"#fb9f3a\"],[0.8888888888888888,\"#fdca26\"],[1.0,\"#f0f921\"]],\"type\":\"contour\"}],\"contourcarpet\":[{\"colorbar\":{\"outlinewidth\":0,\"ticks\":\"\"},\"type\":\"contourcarpet\"}],\"heatmap\":[{\"colorbar\":{\"outlinewidth\":0,\"ticks\":\"\"},\"colorscale\":[[0.0,\"#0d0887\"],[0.1111111111111111,\"#46039f\"],[0.2222222222222222,\"#7201a8\"],[0.3333333333333333,\"#9c179e\"],[0.4444444444444444,\"#bd3786\"],[0.5555555555555556,\"#d8576b\"],[0.6666666666666666,\"#ed7953\"],[0.7777777777777778,\"#fb9f3a\"],[0.8888888888888888,\"#fdca26\"],[1.0,\"#f0f921\"]],\"type\":\"heatmap\"}],\"heatmapgl\":[{\"colorbar\":{\"outlinewidth\":0,\"ticks\":\"\"},\"colorscale\":[[0.0,\"#0d0887\"],[0.1111111111111111,\"#46039f\"],[0.2222222222222222,\"#7201a8\"],[0.3333333333333333,\"#9c179e\"],[0.4444444444444444,\"#bd3786\"],[0.5555555555555556,\"#d8576b\"],[0.6666666666666666,\"#ed7953\"],[0.7777777777777778,\"#fb9f3a\"],[0.8888888888888888,\"#fdca26\"],[1.0,\"#f0f921\"]],\"type\":\"heatmapgl\"}],\"histogram\":[{\"marker\":{\"pattern\":{\"fillmode\":\"overlay\",\"size\":10,\"solidity\":0.2}},\"type\":\"histogram\"}],\"histogram2d\":[{\"colorbar\":{\"outlinewidth\":0,\"ticks\":\"\"},\"colorscale\":[[0.0,\"#0d0887\"],[0.1111111111111111,\"#46039f\"],[0.2222222222222222,\"#7201a8\"],[0.3333333333333333,\"#9c179e\"],[0.4444444444444444,\"#bd3786\"],[0.5555555555555556,\"#d8576b\"],[0.6666666666666666,\"#ed7953\"],[0.7777777777777778,\"#fb9f3a\"],[0.8888888888888888,\"#fdca26\"],[1.0,\"#f0f921\"]],\"type\":\"histogram2d\"}],\"histogram2dcontour\":[{\"colorbar\":{\"outlinewidth\":0,\"ticks\":\"\"},\"colorscale\":[[0.0,\"#0d0887\"],[0.1111111111111111,\"#46039f\"],[0.2222222222222222,\"#7201a8\"],[0.3333333333333333,\"#9c179e\"],[0.4444444444444444,\"#bd3786\"],[0.5555555555555556,\"#d8576b\"],[0.6666666666666666,\"#ed7953\"],[0.7777777777777778,\"#fb9f3a\"],[0.8888888888888888,\"#fdca26\"],[1.0,\"#f0f921\"]],\"type\":\"histogram2dcontour\"}],\"mesh3d\":[{\"colorbar\":{\"outlinewidth\":0,\"ticks\":\"\"},\"type\":\"mesh3d\"}],\"parcoords\":[{\"line\":{\"colorbar\":{\"outlinewidth\":0,\"ticks\":\"\"}},\"type\":\"parcoords\"}],\"pie\":[{\"automargin\":true,\"type\":\"pie\"}],\"scatter\":[{\"marker\":{\"colorbar\":{\"outlinewidth\":0,\"ticks\":\"\"}},\"type\":\"scatter\"}],\"scatter3d\":[{\"line\":{\"colorbar\":{\"outlinewidth\":0,\"ticks\":\"\"}},\"marker\":{\"colorbar\":{\"outlinewidth\":0,\"ticks\":\"\"}},\"type\":\"scatter3d\"}],\"scattercarpet\":[{\"marker\":{\"colorbar\":{\"outlinewidth\":0,\"ticks\":\"\"}},\"type\":\"scattercarpet\"}],\"scattergeo\":[{\"marker\":{\"colorbar\":{\"outlinewidth\":0,\"ticks\":\"\"}},\"type\":\"scattergeo\"}],\"scattergl\":[{\"marker\":{\"colorbar\":{\"outlinewidth\":0,\"ticks\":\"\"}},\"type\":\"scattergl\"}],\"scattermapbox\":[{\"marker\":{\"colorbar\":{\"outlinewidth\":0,\"ticks\":\"\"}},\"type\":\"scattermapbox\"}],\"scatterpolar\":[{\"marker\":{\"colorbar\":{\"outlinewidth\":0,\"ticks\":\"\"}},\"type\":\"scatterpolar\"}],\"scatterpolargl\":[{\"marker\":{\"colorbar\":{\"outlinewidth\":0,\"ticks\":\"\"}},\"type\":\"scatterpolargl\"}],\"scatterternary\":[{\"marker\":{\"colorbar\":{\"outlinewidth\":0,\"ticks\":\"\"}},\"type\":\"scatterternary\"}],\"surface\":[{\"colorbar\":{\"outlinewidth\":0,\"ticks\":\"\"},\"colorscale\":[[0.0,\"#0d0887\"],[0.1111111111111111,\"#46039f\"],[0.2222222222222222,\"#7201a8\"],[0.3333333333333333,\"#9c179e\"],[0.4444444444444444,\"#bd3786\"],[0.5555555555555556,\"#d8576b\"],[0.6666666666666666,\"#ed7953\"],[0.7777777777777778,\"#fb9f3a\"],[0.8888888888888888,\"#fdca26\"],[1.0,\"#f0f921\"]],\"type\":\"surface\"}],\"table\":[{\"cells\":{\"fill\":{\"color\":\"#EBF0F8\"},\"line\":{\"color\":\"white\"}},\"header\":{\"fill\":{\"color\":\"#C8D4E3\"},\"line\":{\"color\":\"white\"}},\"type\":\"table\"}]},\"layout\":{\"annotationdefaults\":{\"arrowcolor\":\"#2a3f5f\",\"arrowhead\":0,\"arrowwidth\":1},\"autotypenumbers\":\"strict\",\"coloraxis\":{\"colorbar\":{\"outlinewidth\":0,\"ticks\":\"\"}},\"colorscale\":{\"diverging\":[[0,\"#8e0152\"],[0.1,\"#c51b7d\"],[0.2,\"#de77ae\"],[0.3,\"#f1b6da\"],[0.4,\"#fde0ef\"],[0.5,\"#f7f7f7\"],[0.6,\"#e6f5d0\"],[0.7,\"#b8e186\"],[0.8,\"#7fbc41\"],[0.9,\"#4d9221\"],[1,\"#276419\"]],\"sequential\":[[0.0,\"#0d0887\"],[0.1111111111111111,\"#46039f\"],[0.2222222222222222,\"#7201a8\"],[0.3333333333333333,\"#9c179e\"],[0.4444444444444444,\"#bd3786\"],[0.5555555555555556,\"#d8576b\"],[0.6666666666666666,\"#ed7953\"],[0.7777777777777778,\"#fb9f3a\"],[0.8888888888888888,\"#fdca26\"],[1.0,\"#f0f921\"]],\"sequentialminus\":[[0.0,\"#0d0887\"],[0.1111111111111111,\"#46039f\"],[0.2222222222222222,\"#7201a8\"],[0.3333333333333333,\"#9c179e\"],[0.4444444444444444,\"#bd3786\"],[0.5555555555555556,\"#d8576b\"],[0.6666666666666666,\"#ed7953\"],[0.7777777777777778,\"#fb9f3a\"],[0.8888888888888888,\"#fdca26\"],[1.0,\"#f0f921\"]]},\"colorway\":[\"#636efa\",\"#EF553B\",\"#00cc96\",\"#ab63fa\",\"#FFA15A\",\"#19d3f3\",\"#FF6692\",\"#B6E880\",\"#FF97FF\",\"#FECB52\"],\"font\":{\"color\":\"#2a3f5f\"},\"geo\":{\"bgcolor\":\"white\",\"lakecolor\":\"white\",\"landcolor\":\"#E5ECF6\",\"showlakes\":true,\"showland\":true,\"subunitcolor\":\"white\"},\"hoverlabel\":{\"align\":\"left\"},\"hovermode\":\"closest\",\"mapbox\":{\"style\":\"light\"},\"paper_bgcolor\":\"white\",\"plot_bgcolor\":\"#E5ECF6\",\"polar\":{\"angularaxis\":{\"gridcolor\":\"white\",\"linecolor\":\"white\",\"ticks\":\"\"},\"bgcolor\":\"#E5ECF6\",\"radialaxis\":{\"gridcolor\":\"white\",\"linecolor\":\"white\",\"ticks\":\"\"}},\"scene\":{\"xaxis\":{\"backgroundcolor\":\"#E5ECF6\",\"gridcolor\":\"white\",\"gridwidth\":2,\"linecolor\":\"white\",\"showbackground\":true,\"ticks\":\"\",\"zerolinecolor\":\"white\"},\"yaxis\":{\"backgroundcolor\":\"#E5ECF6\",\"gridcolor\":\"white\",\"gridwidth\":2,\"linecolor\":\"white\",\"showbackground\":true,\"ticks\":\"\",\"zerolinecolor\":\"white\"},\"zaxis\":{\"backgroundcolor\":\"#E5ECF6\",\"gridcolor\":\"white\",\"gridwidth\":2,\"linecolor\":\"white\",\"showbackground\":true,\"ticks\":\"\",\"zerolinecolor\":\"white\"}},\"shapedefaults\":{\"line\":{\"color\":\"#2a3f5f\"}},\"ternary\":{\"aaxis\":{\"gridcolor\":\"white\",\"linecolor\":\"white\",\"ticks\":\"\"},\"baxis\":{\"gridcolor\":\"white\",\"linecolor\":\"white\",\"ticks\":\"\"},\"bgcolor\":\"#E5ECF6\",\"caxis\":{\"gridcolor\":\"white\",\"linecolor\":\"white\",\"ticks\":\"\"}},\"title\":{\"x\":0.05},\"xaxis\":{\"automargin\":true,\"gridcolor\":\"white\",\"linecolor\":\"white\",\"ticks\":\"\",\"title\":{\"standoff\":15},\"zerolinecolor\":\"white\",\"zerolinewidth\":2},\"yaxis\":{\"automargin\":true,\"gridcolor\":\"white\",\"linecolor\":\"white\",\"ticks\":\"\",\"title\":{\"standoff\":15},\"zerolinecolor\":\"white\",\"zerolinewidth\":2}}},\"hovermode\":\"x\"},                        {\"responsive\": true}                    ).then(function(){\n",
              "                            \n",
              "var gd = document.getElementById('c0f8e8f8-e4b8-4e60-9ff8-ef156bc29ff6');\n",
              "var x = new MutationObserver(function (mutations, observer) {{\n",
              "        var display = window.getComputedStyle(gd).display;\n",
              "        if (!display || display === 'none') {{\n",
              "            console.log([gd, 'removed!']);\n",
              "            Plotly.purge(gd);\n",
              "            observer.disconnect();\n",
              "        }}\n",
              "}});\n",
              "\n",
              "// Listen for the removal of the full notebook cells\n",
              "var notebookContainer = gd.closest('#notebook-container');\n",
              "if (notebookContainer) {{\n",
              "    x.observe(notebookContainer, {childList: true});\n",
              "}}\n",
              "\n",
              "// Listen for the clearing of the current output cell\n",
              "var outputEl = gd.closest('.output');\n",
              "if (outputEl) {{\n",
              "    x.observe(outputEl, {childList: true});\n",
              "}}\n",
              "\n",
              "                        })                };                            </script>        </div>\n",
              "</body>\n",
              "</html>"
            ]
          },
          "metadata": {}
        }
      ]
    },
    {
      "cell_type": "markdown",
      "source": [
        "#### Métricas"
      ],
      "metadata": {
        "id": "5DJZSDuM9zbv"
      }
    },
    {
      "cell_type": "code",
      "source": [
        "evaluate_model(model_3, [[train_prices, train_features], y_train], [[val_prices, val_features], y_val], [[test_prices, test_features], y_test])"
      ],
      "metadata": {
        "colab": {
          "base_uri": "https://localhost:8080/"
        },
        "id": "FGkJ3j0k3vqp",
        "outputId": "540721db-e8dd-47fa-bb06-9dc17b5c96a5"
      },
      "execution_count": null,
      "outputs": [
        {
          "output_type": "stream",
          "name": "stdout",
          "text": [
            "train cross_entropy =  1.026957392692566\n",
            "  val cross_entropy =  1.0609599351882935\n",
            " test cross_entropy =  1.0625256299972534\n"
          ]
        }
      ]
    },
    {
      "cell_type": "markdown",
      "source": [
        "## Guardando el mejor modelo"
      ],
      "metadata": {
        "id": "Bkzl6Rl3MpjA"
      }
    },
    {
      "cell_type": "code",
      "source": [
        "# model_2.save('/content/drive/MyDrive/Cursos/LSTM - Bitcoin v2/best_model.h5')"
      ],
      "metadata": {
        "id": "mt-RDfH5Mr-t"
      },
      "execution_count": null,
      "outputs": []
    },
    {
      "cell_type": "markdown",
      "source": [
        "# Cargar el modelo guardado"
      ],
      "metadata": {
        "id": "NPGWlldUNYWg"
      }
    },
    {
      "cell_type": "code",
      "source": [
        "best_model = keras.models.load_model('/content/drive/MyDrive/Cursos/LSTM - Bitcoin v2/best_model.h5')\n",
        "best_model.summary()"
      ],
      "metadata": {
        "colab": {
          "base_uri": "https://localhost:8080/"
        },
        "id": "_yc7PIa7NahC",
        "outputId": "922c7f39-58d3-4c26-8c70-f61635ef2f96"
      },
      "execution_count": null,
      "outputs": [
        {
          "output_type": "stream",
          "name": "stdout",
          "text": [
            "Model: \"model_2\"\n",
            "__________________________________________________________________________________________________\n",
            " Layer (type)                   Output Shape         Param #     Connected to                     \n",
            "==================================================================================================\n",
            " sentiment_input (InputLayer)   [(None, 48, 10)]     0           []                               \n",
            "                                                                                                  \n",
            " sentiment_normalization (Norma  (None, 48, 10)      97          ['sentiment_input[0][0]']        \n",
            " lization)                                                                                        \n",
            "                                                                                                  \n",
            " price_input (InputLayer)       [(None, 5)]          0           []                               \n",
            "                                                                                                  \n",
            " sentiment (LSTM)               (None, 16)           1728        ['sentiment_normalization[0][0]']\n",
            "                                                                                                  \n",
            " price (Sequential)             (None, 16)           379         ['price_input[0][0]']            \n",
            "                                                                                                  \n",
            " fusion (Concatenate)           (None, 32)           0           ['sentiment[0][0]',              \n",
            "                                                                  'price[0][0]']                  \n",
            "                                                                                                  \n",
            " prediction (Sequential)        (None, 3)            3267        ['fusion[0][0]']                 \n",
            "                                                                                                  \n",
            "==================================================================================================\n",
            "Total params: 5,471\n",
            "Trainable params: 5,363\n",
            "Non-trainable params: 108\n",
            "__________________________________________________________________________________________________\n"
          ]
        }
      ]
    },
    {
      "cell_type": "code",
      "source": [
        "evaluate_model(best_model, [[train_prices, train_features], y_train], [[val_prices, val_features], y_val], [[test_prices, test_features], y_test])"
      ],
      "metadata": {
        "colab": {
          "base_uri": "https://localhost:8080/"
        },
        "id": "FcNI6n5gNjPt",
        "outputId": "162f3f00-f758-4b3d-8d02-63b8c575a3a3"
      },
      "execution_count": null,
      "outputs": [
        {
          "output_type": "stream",
          "name": "stdout",
          "text": [
            "train cross_entropy =  0.984365701675415\n",
            "  val cross_entropy =  1.0256131887435913\n",
            " test cross_entropy =  1.032956600189209\n"
          ]
        }
      ]
    },
    {
      "cell_type": "markdown",
      "source": [
        "# Resumen\n",
        "\n",
        "Respecto a la segunda arquitectura:\n",
        "\n",
        "1. Fue la que tuvo mejores resultados con entropía cruzada de $0.9843$, $1.0256$ y $1.0329$ para los conjuntos de entrenamiento, validación y prueba, respectivamente.\n",
        "2. Tardó menos épocas en entrenar\n",
        "\n"
      ],
      "metadata": {
        "id": "WIJI7v2IBK7t"
      }
    },
    {
      "cell_type": "markdown",
      "source": [
        "# Ejercicios"
      ],
      "metadata": {
        "id": "8mHRbHGAKjxO"
      }
    },
    {
      "cell_type": "markdown",
      "source": [
        "1. Realizar el entrenamiento de la regresión logística mencionada\n",
        "2. Crear un nuevo modelo ya sea haciendo modificaciones a alguna de las arquitecturas presentes, o comenzando desde cero. Escriba sus observaciones comparando el resultado con el mejor la Segunda Arquitectura. Como sugerencia, puede probar cambiando los datos de entrada, las capas de las redes secuenciales, la fusión de los datos, agregando regularización o dropout, callbacks, etc. \n",
        "3. ¿Cómo predeciría nuevos valores?\n"
      ],
      "metadata": {
        "id": "5Y73It2dKmdF"
      }
    },
    {
      "cell_type": "markdown",
      "source": [
        "# TODO"
      ],
      "metadata": {
        "id": "Qf8_zr-ltvBH"
      }
    },
    {
      "cell_type": "markdown",
      "source": [
        "- Traducir el contexto del problema y la descripción de los datos"
      ],
      "metadata": {
        "id": "HvE2upSHtwAm"
      }
    }
  ]
}