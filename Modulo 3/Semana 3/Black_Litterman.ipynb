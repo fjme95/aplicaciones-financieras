{
  "nbformat": 4,
  "nbformat_minor": 0,
  "metadata": {
    "colab": {
      "name": "Black-Litterman.ipynb",
      "provenance": [],
      "authorship_tag": "ABX9TyNXQ4C0C+ZW+E+86aAY14Yf",
      "include_colab_link": true
    },
    "kernelspec": {
      "name": "python3",
      "display_name": "Python 3"
    },
    "language_info": {
      "name": "python"
    },
    "widgets": {
      "application/vnd.jupyter.widget-state+json": {
        "9979ab4acc30461f8f77e7ebf4ec35ff": {
          "model_module": "@jupyter-widgets/controls",
          "model_name": "VBoxModel",
          "model_module_version": "1.5.0",
          "state": {
            "_view_name": "VBoxView",
            "_dom_classes": [
              "widget-interact"
            ],
            "_model_name": "VBoxModel",
            "_view_module": "@jupyter-widgets/controls",
            "_model_module_version": "1.5.0",
            "_view_count": null,
            "_view_module_version": "1.5.0",
            "box_style": "",
            "layout": "IPY_MODEL_240a0ef6ee41415f820b18c76cad64db",
            "_model_module": "@jupyter-widgets/controls",
            "children": [
              "IPY_MODEL_7d9096436774442eb597fa6151bcebf8",
              "IPY_MODEL_40798b4b06c84761b87a163aa515efb4"
            ]
          }
        },
        "240a0ef6ee41415f820b18c76cad64db": {
          "model_module": "@jupyter-widgets/base",
          "model_name": "LayoutModel",
          "model_module_version": "1.2.0",
          "state": {
            "_view_name": "LayoutView",
            "grid_template_rows": null,
            "right": null,
            "justify_content": null,
            "_view_module": "@jupyter-widgets/base",
            "overflow": null,
            "_model_module_version": "1.2.0",
            "_view_count": null,
            "flex_flow": null,
            "width": null,
            "min_width": null,
            "border": null,
            "align_items": null,
            "bottom": null,
            "_model_module": "@jupyter-widgets/base",
            "top": null,
            "grid_column": null,
            "overflow_y": null,
            "overflow_x": null,
            "grid_auto_flow": null,
            "grid_area": null,
            "grid_template_columns": null,
            "flex": null,
            "_model_name": "LayoutModel",
            "justify_items": null,
            "grid_row": null,
            "max_height": null,
            "align_content": null,
            "visibility": null,
            "align_self": null,
            "height": null,
            "min_height": null,
            "padding": null,
            "grid_auto_rows": null,
            "grid_gap": null,
            "max_width": null,
            "order": null,
            "_view_module_version": "1.2.0",
            "grid_template_areas": null,
            "object_position": null,
            "object_fit": null,
            "grid_auto_columns": null,
            "margin": null,
            "display": null,
            "left": null
          }
        },
        "7d9096436774442eb597fa6151bcebf8": {
          "model_module": "@jupyter-widgets/controls",
          "model_name": "FloatSliderModel",
          "model_module_version": "1.5.0",
          "state": {
            "_view_name": "FloatSliderView",
            "style": "IPY_MODEL_9894f2b5b06d4563b482931d02b85ba8",
            "_dom_classes": [],
            "description": "τ",
            "step": 0.5,
            "_model_name": "FloatSliderModel",
            "orientation": "horizontal",
            "max": 10,
            "_view_module": "@jupyter-widgets/controls",
            "_model_module_version": "1.5.0",
            "value": 0.05,
            "_view_count": null,
            "disabled": false,
            "_view_module_version": "1.5.0",
            "min": 0.05,
            "continuous_update": true,
            "readout_format": ".2f",
            "description_tooltip": null,
            "readout": true,
            "_model_module": "@jupyter-widgets/controls",
            "layout": "IPY_MODEL_4fcfb2ef9f364f72a70199e2e13fe84d"
          }
        },
        "40798b4b06c84761b87a163aa515efb4": {
          "model_module": "@jupyter-widgets/output",
          "model_name": "OutputModel",
          "model_module_version": "1.0.0",
          "state": {
            "_view_name": "OutputView",
            "msg_id": "",
            "_dom_classes": [],
            "_model_name": "OutputModel",
            "outputs": [
              {
                "output_type": "display_data",
                "data": {
                  "image/png": "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\n",
                  "text/plain": "<Figure size 1152x432 with 2 Axes>"
                },
                "metadata": {
                  "needs_background": "light"
                }
              }
            ],
            "_view_module": "@jupyter-widgets/output",
            "_model_module_version": "1.0.0",
            "_view_count": null,
            "_view_module_version": "1.0.0",
            "layout": "IPY_MODEL_504f52fa3ef04534937db7fd36608682",
            "_model_module": "@jupyter-widgets/output"
          }
        },
        "9894f2b5b06d4563b482931d02b85ba8": {
          "model_module": "@jupyter-widgets/controls",
          "model_name": "SliderStyleModel",
          "model_module_version": "1.5.0",
          "state": {
            "_view_name": "StyleView",
            "handle_color": null,
            "_model_name": "SliderStyleModel",
            "description_width": "",
            "_view_module": "@jupyter-widgets/base",
            "_model_module_version": "1.5.0",
            "_view_count": null,
            "_view_module_version": "1.2.0",
            "_model_module": "@jupyter-widgets/controls"
          }
        },
        "4fcfb2ef9f364f72a70199e2e13fe84d": {
          "model_module": "@jupyter-widgets/base",
          "model_name": "LayoutModel",
          "model_module_version": "1.2.0",
          "state": {
            "_view_name": "LayoutView",
            "grid_template_rows": null,
            "right": null,
            "justify_content": null,
            "_view_module": "@jupyter-widgets/base",
            "overflow": null,
            "_model_module_version": "1.2.0",
            "_view_count": null,
            "flex_flow": null,
            "width": null,
            "min_width": null,
            "border": null,
            "align_items": null,
            "bottom": null,
            "_model_module": "@jupyter-widgets/base",
            "top": null,
            "grid_column": null,
            "overflow_y": null,
            "overflow_x": null,
            "grid_auto_flow": null,
            "grid_area": null,
            "grid_template_columns": null,
            "flex": null,
            "_model_name": "LayoutModel",
            "justify_items": null,
            "grid_row": null,
            "max_height": null,
            "align_content": null,
            "visibility": null,
            "align_self": null,
            "height": null,
            "min_height": null,
            "padding": null,
            "grid_auto_rows": null,
            "grid_gap": null,
            "max_width": null,
            "order": null,
            "_view_module_version": "1.2.0",
            "grid_template_areas": null,
            "object_position": null,
            "object_fit": null,
            "grid_auto_columns": null,
            "margin": null,
            "display": null,
            "left": null
          }
        },
        "504f52fa3ef04534937db7fd36608682": {
          "model_module": "@jupyter-widgets/base",
          "model_name": "LayoutModel",
          "model_module_version": "1.2.0",
          "state": {
            "_view_name": "LayoutView",
            "grid_template_rows": null,
            "right": null,
            "justify_content": null,
            "_view_module": "@jupyter-widgets/base",
            "overflow": null,
            "_model_module_version": "1.2.0",
            "_view_count": null,
            "flex_flow": null,
            "width": null,
            "min_width": null,
            "border": null,
            "align_items": null,
            "bottom": null,
            "_model_module": "@jupyter-widgets/base",
            "top": null,
            "grid_column": null,
            "overflow_y": null,
            "overflow_x": null,
            "grid_auto_flow": null,
            "grid_area": null,
            "grid_template_columns": null,
            "flex": null,
            "_model_name": "LayoutModel",
            "justify_items": null,
            "grid_row": null,
            "max_height": null,
            "align_content": null,
            "visibility": null,
            "align_self": null,
            "height": null,
            "min_height": null,
            "padding": null,
            "grid_auto_rows": null,
            "grid_gap": null,
            "max_width": null,
            "order": null,
            "_view_module_version": "1.2.0",
            "grid_template_areas": null,
            "object_position": null,
            "object_fit": null,
            "grid_auto_columns": null,
            "margin": null,
            "display": null,
            "left": null
          }
        }
      }
    }
  },
  "cells": [
    {
      "cell_type": "markdown",
      "metadata": {
        "id": "view-in-github",
        "colab_type": "text"
      },
      "source": [
        "<a href=\"https://colab.research.google.com/github/fjme95/aplicaciones-financieras/blob/main/Modulo%203/Semana%203/Black_Litterman.ipynb\" target=\"_parent\"><img src=\"https://colab.research.google.com/assets/colab-badge.svg\" alt=\"Open In Colab\"/></a>"
      ]
    },
    {
      "cell_type": "code",
      "execution_count": 1,
      "metadata": {
        "id": "AK6h-0qETrao"
      },
      "outputs": [],
      "source": [
        "import numpy as np\n",
        "import scipy as sp\n",
        "import scipy.stats as stat\n",
        "import matplotlib.pyplot as plt\n",
        "%matplotlib inline\n",
        "from ipywidgets import interact, FloatSlider"
      ]
    },
    {
      "cell_type": "markdown",
      "source": [
        "# Mean-Variance portfolio choice"
      ],
      "metadata": {
        "id": "om1xAfBgYqWU"
      }
    },
    {
      "cell_type": "markdown",
      "source": [
        "Un valor libre de riesgo obtiene un rendimiento neto $r_f$ de un período.\n",
        "\n",
        "Un vector de $n \\times 1$ valores riesgosos gana un vector $\\overrightarrow{r}-r_f\\mathbb{1}$ de rendimientos en exceso, donde $\\mathbb{1}$ es un vector de unos.\n",
        "\n",
        "El vector de retorno en exceso es normal multivariante con media $\\mu$ y matriz de covarianza $\\Sigma$, que expresamos como\n",
        "\n",
        "$$\n",
        "\\overrightarrow{r}-r_f\\mathbb{1} \\sim \\mathcal{N}\\left(\\mu, \\Sigma\\right)\n",
        "$$\n",
        "\n",
        "o\n",
        "\n",
        "$$\n",
        "\\overrightarrow{r}-r_f\\mathbb{1} = \\mu + C\\epsilon\n",
        "$$\n",
        "\n",
        "donde $\\epsilon$ en un vector aleatorio de $n\\times 1$.\n",
        "\n",
        "Sea $w$ un vector de $n\\times 1$ pesos de cartera.\n",
        "\n",
        "Una cartera compuesta por $w$ gana retornos \n",
        "\n",
        "$$\n",
        "w'\\left( \\overrightarrow{r}-r_f\\mathbb{1} \\right) \\sim \\mathcal{N}\\left(w'\\mu, w'\\Sigma w\\right)\n",
        "$$\n",
        "\n",
        "El **problema de elección de cartera de media-varianza** consiste en elegir $w$ para maximizar la función de utilidad\n",
        "\n",
        "\\begin{align}\n",
        "U\\left(\\mu, \\Sigma; w\\right) = w'\\mu - \\frac{\\delta}{2}w'\\Sigma w && (36.1)\n",
        "\\end{align}\n",
        "\n",
        "donde $\\delta > 0$ es un parámetro de aversión al riesgo. La condición de primer orden para maximizar (36.1) con respecto al vector $w$ es\n",
        "\n",
        "$$\n",
        "\\mu = \\delta \\Sigma w\n",
        "$$\n",
        "\n",
        "lo que implica el siguiente diseño de una cartera riesgosa\n",
        "\n",
        "\\begin{align}\n",
        "w = \\left( \\delta \\Sigma\\right)^{-1}\\mu && (36.2)\n",
        "\\end{align}\n"
      ],
      "metadata": {
        "id": "TJBktjFKdHrn"
      }
    },
    {
      "cell_type": "markdown",
      "source": [
        "#Estimando la medai y la varianza"
      ],
      "metadata": {
        "id": "bbz2Chc6gKVV"
      }
    },
    {
      "cell_type": "markdown",
      "source": [
        "Las entradas clave en el modelo de elección de cartera (36.2) son\n",
        "\n",
        "\n",
        "*   estimaciones de los parámetros $\\mu, \\Sigma$ del vector de retorno de exceso aleatorio $\\left( \\overrightarrow{r}-r_f\\mathbb{1} \\right)$\n",
        "*   el parámetro de aversión al riesgo $\\delta$\n",
        "\n",
        "\n",
        "Una forma estándar de estimar $\\mu$ es la máxima verosimilitud o mínimos cuadrados; eso equivale a estimar mediante una media muestral de rendimientos en exceso y estimar $\\Sigma$ con una matriz de covarianza muestral."
      ],
      "metadata": {
        "id": "GLHBjPfQgNZL"
      }
    },
    {
      "cell_type": "markdown",
      "source": [
        "# Punto de inicio de Black-Litterman"
      ],
      "metadata": {
        "id": "SQ7uWGEChBW0"
      }
    },
    {
      "cell_type": "markdown",
      "source": [
        "Cuando las estimaciones de $\\mu$ y $\\Sigma$ a partir de medias y covarianzas de muestras históricas se han combinado con valores plausibles del parámetro de aversión al riesgo $\\delta$ para calcular una cartera óptima a partir de la fórmula (36.2), se ha obtenido un resultado típico de $w$'s con posiciones largas y cortas extremas.\n",
        "\n",
        "Una reacción común a estos resultados es que son tan inverosímiles que un administrador de cartera no puede recomendarlos a un cliente."
      ],
      "metadata": {
        "id": "5SUXNXQkhFhL"
      }
    },
    {
      "cell_type": "code",
      "source": [
        "np.random.seed(12)\n",
        "\n",
        "N = 10                                           # Number of assets\n",
        "T = 200                                          # Sample size\n",
        "\n",
        "# random market portfolio (sum is normalized to 1)\n",
        "w_m = np.random.rand(N)\n",
        "w_m = w_m / (w_m.sum())\n",
        "\n",
        "# True risk premia and variance of excess return (constructed\n",
        "# so that the Sharpe ratio is 1)\n",
        "μ = (np.random.randn(N) + 5)  /100      # Mean excess return (risk premium)\n",
        "S = np.random.randn(N, N)        # Random matrix for the covariance matrix\n",
        "V = S @ S.T           # Turn the random matrix into symmetric psd\n",
        "# Make sure that the Sharpe ratio is one\n",
        "Σ = V * (w_m @ μ)**2 / (w_m @ V @ w_m)\n",
        "\n",
        "# Risk aversion of market portfolio holder\n",
        "δ = 1 / np.sqrt(w_m @ Σ @ w_m)\n",
        "\n",
        "# Generate a sample of excess returns\n",
        "excess_return = stat.multivariate_normal(μ, Σ)\n",
        "sample = excess_return.rvs(T)\n",
        "\n",
        "# Estimate μ and Σ\n",
        "μ_est = sample.mean(0).reshape(N, 1)\n",
        "Σ_est = np.cov(sample.T)\n",
        "\n",
        "w = np.linalg.solve(δ * Σ_est, μ_est)\n",
        "\n",
        "fig, ax = plt.subplots(figsize=(8, 5))\n",
        "ax.set_title('Mean-variance portfolio weights recommendation and the market portfolio')\n",
        "ax.plot(np.arange(N)+1, w, 'o', c='k', label='$w$ (mean-variance)')\n",
        "ax.plot(np.arange(N)+1, w_m, 'o', c='r', label='$w_m$ (market portfolio)')\n",
        "ax.vlines(np.arange(N)+1, 0, w, lw=1)\n",
        "ax.vlines(np.arange(N)+1, 0, w_m, lw=1)\n",
        "ax.axhline(0, c='k')\n",
        "ax.axhline(-1, c='k', ls='--')\n",
        "ax.axhline(1, c='k', ls='--')\n",
        "ax.set_xlabel('Assets')\n",
        "ax.xaxis.set_ticks(np.arange(1, N+1, 1))\n",
        "plt.legend(numpoints=1, fontsize=11)\n",
        "plt.show()"
      ],
      "metadata": {
        "colab": {
          "base_uri": "https://localhost:8080/",
          "height": 350
        },
        "id": "1leGCj0HUaz6",
        "outputId": "df98f029-f54d-4540-a81f-4a9cbb53b3ac"
      },
      "execution_count": 2,
      "outputs": [
        {
          "output_type": "display_data",
          "data": {
            "image/png": "[encoded data removed]",
            "text/plain": [
              "<Figure size 576x360 with 1 Axes>"
            ]
          },
          "metadata": {
            "needs_background": "light"
          }
        }
      ]
    },
    {
      "cell_type": "markdown",
      "source": [
        "Black y Litterman respondieron a esta situación de la siguiente manera:\n",
        "\n",
        "*   Continúan aceptando (36.2) como un buen modelo para elegir una cartera óptima $w$,\n",
        "*   Quieren seguir permitiendo que el cliente exprese su tolerancia al riesgo estableciendo $\\delta$, \n",
        "*   Dejando $\\Sigma$ en su valor de máxima verosimilitud, empujan $\\mu$ lejos de su valor de máxima verosimilitud de una manera diseñada para hacer elecciones de cartera que sean más plausibles en términos de conformidad con lo que la mayoría de la gente realmente hace.\n",
        "\n",
        "En particular, dada $\\Sigma$ y un valor plausible de $\\delta$, Black y Litterman aplicaron ingeniería inversa a un vector $\\mu_{BL}$ de exceso de rendimiento medio que hace que $w$ dado por la fórmula (36.2) sea igual a la cartera de mercado real $w_m$, de modo que\n",
        "\n",
        "$$\n",
        "w_m = \\left( \\delta \\Sigma\\right)^{-1} \\mu_{BL}\n",
        "$$"
      ],
      "metadata": {
        "id": "hfAcsLHyhdCT"
      }
    },
    {
      "cell_type": "markdown",
      "source": [
        "# Detalles"
      ],
      "metadata": {
        "id": "m_lf1jqQigmU"
      }
    },
    {
      "cell_type": "markdown",
      "source": [
        "Definamos\n",
        "\n",
        "$$\n",
        "w_m'\\mu ≡\\left( r_m - r_f\\right)\n",
        "$$\n",
        "\n",
        "como el exceso de rendimiento (escalar) de la cartera de mercado $w_m$.\n",
        "\n",
        "Define\n",
        "\n",
        "$$\n",
        "\\sigma^2 = w_m'\\Sigma w_m\n",
        "$$\n",
        "\n",
        "como la varianza del exceso de rendimiento de la cartera de mercado $w_m$.\n",
        "\n",
        "Definir\n",
        "\n",
        "$$\n",
        "SR_m = \\frac{r_m-r_f}{\\sigma}\n",
        "$$\n",
        "\n",
        "como la razón de Sharpe sobre la cartera de mercado $w_m$.\n",
        "\n",
        "Sea $\\delta_m$ el valor del parámetro de aversión al riesgo que induce a un inversor a mantener la cartera de mercado a la luz de la regla de elección de cartera óptima (36.2).\n",
        "\n",
        "Evidentemente, la regla de cartera (36.2) entonces implica que $r_m - r_f = \\delta_m \\sigma^2$ o\n",
        "\n",
        "$$\n",
        "\\delta_m = \\frac{r_m-r_f}{\\sigma^2}\n",
        "$$\n",
        "\n",
        "o\n",
        "\n",
        "$$\n",
        "\\delta_m = \\frac{SR_M}{\\sigma}\n",
        "$$\n",
        "\n",
        "Siguiendo la filosofía Black-Litterman, nuestro primer paso será apostar por un valor de $\\delta_m$ desde\n",
        "\n",
        "*    una estimación de la relación de Sharpe, y\n",
        "*    nuestra estimación de máxima verosimilitud de $\\sigma$ extraída de nuestras estimaciones o $w_m$ y $\\Sigma$.\n",
        "\n",
        "El segundo paso clave de Black-Litterman es usar este valor de $\\delta$ junto con la estimación de máxima verosimilitud de $\\Sigma$ para deducir un $\\mu_{BL}$ que verifica la regla de cartera (36.2) en la cartera de mercado $w=w_m$\n",
        "\n",
        "$$\n",
        "\\mu_m = \\delta_m \\Sigma \\mu_m\n",
        "$$\n",
        "\n",
        "El punto de partida del modelo de elección de cartera de Black-Litterman es, por lo tanto, un par $\\left( \\delta_m, \\mu_m \\right)$ que le dice al cliente que mantenga la cartera de mercado."
      ],
      "metadata": {
        "id": "mXKd49VjikR7"
      }
    },
    {
      "cell_type": "code",
      "source": [
        "# Observed mean excess market return\n",
        "r_m = w_m @ μ_est\n",
        "\n",
        "# Estimated variance of the market portfolio\n",
        "σ_m = w_m @ Σ_est @ w_m\n",
        "\n",
        "# Sharpe-ratio\n",
        "sr_m = r_m / np.sqrt(σ_m)\n",
        "\n",
        "# Risk aversion of market portfolio holder\n",
        "d_m = r_m / σ_m\n",
        "\n",
        "# Derive \"view\" which would induce the market portfolio\n",
        "μ_m = (d_m * Σ_est @ w_m).reshape(N, 1)\n",
        "\n",
        "fig, ax = plt.subplots(figsize=(8, 5))\n",
        "ax.set_title(r'Difference between $\\hat{\\mu}$ (estimate) and $\\mu_{BL}$ (market implied)')\n",
        "ax.plot(np.arange(N)+1, μ_est, 'o', c='k', label='$\\hat{\\mu}$')\n",
        "ax.plot(np.arange(N)+1, μ_m, 'o', c='r', label='$\\mu_{BL}$')\n",
        "ax.vlines(np.arange(N) + 1, μ_m, μ_est, lw=1)\n",
        "ax.axhline(0, c='k', ls='--')\n",
        "ax.set_xlabel('Assets')\n",
        "ax.xaxis.set_ticks(np.arange(1, N+1, 1))\n",
        "plt.legend(numpoints=1)\n",
        "plt.show()"
      ],
      "metadata": {
        "colab": {
          "base_uri": "https://localhost:8080/",
          "height": 354
        },
        "id": "QPnB51HDUduM",
        "outputId": "d22266a3-590d-4a6e-f44e-1f2270705ecf"
      },
      "execution_count": 3,
      "outputs": [
        {
          "output_type": "display_data",
          "data": {
            "image/png": "[encoded data removed]",
            "text/plain": [
              "<Figure size 576x360 with 1 Axes>"
            ]
          },
          "metadata": {
            "needs_background": "light"
          }
        }
      ]
    },
    {
      "cell_type": "markdown",
      "source": [
        "# Agregando vistas"
      ],
      "metadata": {
        "id": "xwVRIlCZkyB_"
      }
    },
    {
      "cell_type": "markdown",
      "source": [
        "Black y Litterman comienzan con un cliente de referencia que afirma que comparte las opiniones del mercado, lo que significa que cree que el exceso de rendimiento se rige por\n",
        "\n",
        "\\begin{align}\n",
        "\\overrightarrow{r}-r_f\\mathbb{1} \\sim \\mathcal{N}\\left(\\mu_{BL}, \\Sigma\\right)&&(36.3)\n",
        "\\end{align}\n",
        "\n",
        "Black y Litterman aconsejarían a ese cliente que mantuviera la cartera de mercado de valores riesgosos.\n",
        "\n",
        "Black y Litterman luego imaginan un consumidor al que le gustaría expresar una opinión diferente a la del mercado.\n",
        "\n",
        "El consumidor quiere mezclar apropiadamente su punto de vista con el del mercado antes de usar (36.2) para elegir una cartera.\n",
        "\n",
        "Suponga que la opinión del cliente está expresada por una corazonada de que, en lugar de (36.3), los rendimientos excesivos se rigen por\n",
        "\n",
        "$$\n",
        "\\overrightarrow{r}-r_f\\mathbb{1} \\sim \\mathcal{N}\\left(\\hat{\\mu}, \\tau\\Sigma\\right)\n",
        "$$\n",
        "\n",
        "donde $\\tau > 0$ es un parámetro escalar que determina cómo el tomador de decisiones quiere mezclar su visión con la visión del mercado $\\mu_{BL}$.\n",
        "\n",
        "Black y Litterman luego usarían una fórmula como la siguiente para mezclar las vistas $\\hat{\\mu}$ y $\\mu_{BL}$ \n",
        "\n",
        "\\begin{align}\n",
        "\\tilde{\\mu} = \\left( \\Sigma^{-1} + \\left( \\tau \\Sigma\\right)^{-1}\\right)^{-1} \\left( \\Sigma^{-1} \\mu_{BL} + \\left( \\tau \\Sigma\\right)^{-1}\\hat{\\mu} \\right) &&(36.4)\n",
        "\\end{align}\n",
        "\n",
        "\n",
        "Black y Litterman aconsejarían entonces al cliente que mantuviera la cartera asociada con estos puntos de vista implícitos en la regla (36.2):\n",
        "\n",
        "$$\n",
        "\\tilde{w} = \\left( \\delta \\Sigma\\right)^{-1}\\tilde{\\mu}\n",
        "$$\n",
        "\n",
        "Esta cartera $\\tilde{\\mu}$ se desviará de la cartera $\\mu_{BL}$ en cantidades que dependen del parámetro de mezcla $\\tau$.\n",
        "\n",
        "Si $\\hat{\\mu}$ es el estimador de máxima verosimilitud y $\\tau$ se elige en gran medida para ponderar esta vista, entonces la cartera del cliente implicará grandes posiciones cortas y largas."
      ],
      "metadata": {
        "id": "arEQGfr8kzF_"
      }
    },
    {
      "cell_type": "code",
      "source": [
        "def black_litterman(λ, μ1, μ2, Σ1, Σ2):\n",
        "    \"\"\"\n",
        "    This function calculates the Black-Litterman mixture\n",
        "    mean excess return and covariance matrix\n",
        "    \"\"\"\n",
        "    Σ1_inv = np.linalg.inv(Σ1)\n",
        "    Σ2_inv = np.linalg.inv(Σ2)\n",
        "\n",
        "    μ_tilde = np.linalg.solve(Σ1_inv + λ * Σ2_inv,\n",
        "                              Σ1_inv @ μ1 + λ * Σ2_inv @ μ2)\n",
        "    return μ_tilde\n",
        "\n",
        "τ = 1\n",
        "μ_tilde = black_litterman(1, μ_m, μ_est, Σ_est, τ * Σ_est)\n",
        "\n",
        "# The Black-Litterman recommendation for the portfolio weights\n",
        "w_tilde = np.linalg.solve(δ * Σ_est, μ_tilde)\n",
        "\n",
        "τ_slider = FloatSlider(min=0.05, max=10, step=0.5, value=τ)\n",
        "\n",
        "@interact(τ=τ_slider)\n",
        "def BL_plot(τ):\n",
        "    μ_tilde = black_litterman(1, μ_m, μ_est, Σ_est, τ * Σ_est)\n",
        "    w_tilde = np.linalg.solve(δ * Σ_est, μ_tilde)\n",
        "\n",
        "    fig, ax = plt.subplots(1, 2, figsize=(16, 6))\n",
        "    ax[0].plot(np.arange(N)+1, μ_est, 'o', c='k',\n",
        "               label=r'$\\hat{\\mu}$ (subj view)')\n",
        "    ax[0].plot(np.arange(N)+1, μ_m, 'o', c='r',\n",
        "               label=r'$\\mu_{BL}$ (market)')\n",
        "    ax[0].plot(np.arange(N)+1, μ_tilde, 'o', c='y',\n",
        "               label=r'$\\tilde{\\mu}$ (mixture)')\n",
        "    ax[0].vlines(np.arange(N)+1, μ_m, μ_est, lw=1)\n",
        "    ax[0].axhline(0, c='k', ls='--')\n",
        "    ax[0].set(xlim=(0, N+1), xlabel='Assets',\n",
        "              title=r'Relationship between $\\hat{\\mu}$, $\\mu_{BL}$, and  $ \\tilde{\\mu}$')\n",
        "    ax[0].xaxis.set_ticks(np.arange(1, N+1, 1))\n",
        "    ax[0].legend(numpoints=1)\n",
        "\n",
        "    ax[1].set_title('Black-Litterman portfolio weight recommendation')\n",
        "    ax[1].plot(np.arange(N)+1, w, 'o', c='k', label=r'$w$ (mean-variance)')\n",
        "    ax[1].plot(np.arange(N)+1, w_m, 'o', c='r', label=r'$w_{m}$ (market, BL)')\n",
        "    ax[1].plot(np.arange(N)+1, w_tilde, 'o', c='y',\n",
        "               label=r'$\\tilde{w}$ (mixture)')\n",
        "    ax[1].vlines(np.arange(N)+1, 0, w, lw=1)\n",
        "    ax[1].vlines(np.arange(N)+1, 0, w_m, lw=1)\n",
        "    ax[1].axhline(0, c='k')\n",
        "    ax[1].axhline(-1, c='k', ls='--')\n",
        "    ax[1].axhline(1, c='k', ls='--')\n",
        "    ax[1].set(xlim=(0, N+1), xlabel='Assets',\n",
        "              title='Black-Litterman portfolio weight recommendation')\n",
        "    ax[1].xaxis.set_ticks(np.arange(1, N+1, 1))\n",
        "    ax[1].legend(numpoints=1)\n",
        "    plt.show()"
      ],
      "metadata": {
        "colab": {
          "base_uri": "https://localhost:8080/",
          "height": 440,
          "referenced_widgets": [
            "9979ab4acc30461f8f77e7ebf4ec35ff",
            "240a0ef6ee41415f820b18c76cad64db",
            "7d9096436774442eb597fa6151bcebf8",
            "40798b4b06c84761b87a163aa515efb4",
            "9894f2b5b06d4563b482931d02b85ba8",
            "4fcfb2ef9f364f72a70199e2e13fe84d",
            "504f52fa3ef04534937db7fd36608682"
          ]
        },
        "id": "e2DPYyp4UgVF",
        "outputId": "921048b7-3945-4b80-cb95-0eb19dfbea10"
      },
      "execution_count": 5,
      "outputs": [
        {
          "output_type": "display_data",
          "data": {
            "application/vnd.jupyter.widget-view+json": {
              "model_id": "9979ab4acc30461f8f77e7ebf4ec35ff",
              "version_minor": 0,
              "version_major": 2
            },
            "text/plain": [
              "interactive(children=(FloatSlider(value=1.0, description='τ', max=10.0, min=0.05, step=0.5), Output()), _dom_c…"
            ]
          },
          "metadata": {}
        }
      ]
    },
    {
      "cell_type": "markdown",
      "source": [
        "- Traducido de https://python-advanced.quantecon.org/black_litterman.html"
      ],
      "metadata": {
        "id": "hD5e8lCSYl6x"
      }
    }
  ]
}